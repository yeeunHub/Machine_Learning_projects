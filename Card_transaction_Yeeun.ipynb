{
  "nbformat": 4,
  "nbformat_minor": 0,
  "metadata": {
    "colab": {
      "provenance": []
    },
    "kernelspec": {
      "name": "python3",
      "display_name": "Python 3"
    },
    "language_info": {
      "name": "python"
    },
    "accelerator": "GPU",
    "gpuClass": "standard",
    "widgets": {
      "application/vnd.jupyter.widget-state+json": {
        "432ef32b1b1744c186da3fc219774e02": {
          "model_module": "@jupyter-widgets/controls",
          "model_name": "HBoxModel",
          "model_module_version": "1.5.0",
          "state": {
            "_dom_classes": [],
            "_model_module": "@jupyter-widgets/controls",
            "_model_module_version": "1.5.0",
            "_model_name": "HBoxModel",
            "_view_count": null,
            "_view_module": "@jupyter-widgets/controls",
            "_view_module_version": "1.5.0",
            "_view_name": "HBoxView",
            "box_style": "",
            "children": [
              "IPY_MODEL_3dfc5edf3b9f490f9c5987174b81277f",
              "IPY_MODEL_78ac0057bd2b410ea9bd007c74a64548",
              "IPY_MODEL_125391b33b4b4b3296fe03e6cc5a96b2"
            ],
            "layout": "IPY_MODEL_0ef954de68004e3a9abc5134bf6d00c0"
          }
        },
        "3dfc5edf3b9f490f9c5987174b81277f": {
          "model_module": "@jupyter-widgets/controls",
          "model_name": "HTMLModel",
          "model_module_version": "1.5.0",
          "state": {
            "_dom_classes": [],
            "_model_module": "@jupyter-widgets/controls",
            "_model_module_version": "1.5.0",
            "_model_name": "HTMLModel",
            "_view_count": null,
            "_view_module": "@jupyter-widgets/controls",
            "_view_module_version": "1.5.0",
            "_view_name": "HTMLView",
            "description": "",
            "description_tooltip": null,
            "layout": "IPY_MODEL_44bbee5a762f4dfca2400aa8671177e0",
            "placeholder": "​",
            "style": "IPY_MODEL_5595530c700a4dc983b108c85a4351ad",
            "value": "Optimization Progress:  32%"
          }
        },
        "78ac0057bd2b410ea9bd007c74a64548": {
          "model_module": "@jupyter-widgets/controls",
          "model_name": "FloatProgressModel",
          "model_module_version": "1.5.0",
          "state": {
            "_dom_classes": [],
            "_model_module": "@jupyter-widgets/controls",
            "_model_module_version": "1.5.0",
            "_model_name": "FloatProgressModel",
            "_view_count": null,
            "_view_module": "@jupyter-widgets/controls",
            "_view_module_version": "1.5.0",
            "_view_name": "ProgressView",
            "bar_style": "danger",
            "description": "",
            "description_tooltip": null,
            "layout": "IPY_MODEL_9715e4cdb98c4c49aeaec90bf36c0913",
            "max": 200,
            "min": 0,
            "orientation": "horizontal",
            "style": "IPY_MODEL_248158f4f0454a808734555f06038370",
            "value": 65
          }
        },
        "125391b33b4b4b3296fe03e6cc5a96b2": {
          "model_module": "@jupyter-widgets/controls",
          "model_name": "HTMLModel",
          "model_module_version": "1.5.0",
          "state": {
            "_dom_classes": [],
            "_model_module": "@jupyter-widgets/controls",
            "_model_module_version": "1.5.0",
            "_model_name": "HTMLModel",
            "_view_count": null,
            "_view_module": "@jupyter-widgets/controls",
            "_view_module_version": "1.5.0",
            "_view_name": "HTMLView",
            "description": "",
            "description_tooltip": null,
            "layout": "IPY_MODEL_5630f9dd257b4ba2ad64bed4d50386ad",
            "placeholder": "​",
            "style": "IPY_MODEL_22291f648bbf4ba9b05b9d4168821775",
            "value": " 65/200 [04:47&lt;07:54,  3.52s/pipeline]"
          }
        },
        "0ef954de68004e3a9abc5134bf6d00c0": {
          "model_module": "@jupyter-widgets/base",
          "model_name": "LayoutModel",
          "model_module_version": "1.2.0",
          "state": {
            "_model_module": "@jupyter-widgets/base",
            "_model_module_version": "1.2.0",
            "_model_name": "LayoutModel",
            "_view_count": null,
            "_view_module": "@jupyter-widgets/base",
            "_view_module_version": "1.2.0",
            "_view_name": "LayoutView",
            "align_content": null,
            "align_items": null,
            "align_self": null,
            "border": null,
            "bottom": null,
            "display": null,
            "flex": null,
            "flex_flow": null,
            "grid_area": null,
            "grid_auto_columns": null,
            "grid_auto_flow": null,
            "grid_auto_rows": null,
            "grid_column": null,
            "grid_gap": null,
            "grid_row": null,
            "grid_template_areas": null,
            "grid_template_columns": null,
            "grid_template_rows": null,
            "height": null,
            "justify_content": null,
            "justify_items": null,
            "left": null,
            "margin": null,
            "max_height": null,
            "max_width": null,
            "min_height": null,
            "min_width": null,
            "object_fit": null,
            "object_position": null,
            "order": null,
            "overflow": null,
            "overflow_x": null,
            "overflow_y": null,
            "padding": null,
            "right": null,
            "top": null,
            "visibility": null,
            "width": null
          }
        },
        "44bbee5a762f4dfca2400aa8671177e0": {
          "model_module": "@jupyter-widgets/base",
          "model_name": "LayoutModel",
          "model_module_version": "1.2.0",
          "state": {
            "_model_module": "@jupyter-widgets/base",
            "_model_module_version": "1.2.0",
            "_model_name": "LayoutModel",
            "_view_count": null,
            "_view_module": "@jupyter-widgets/base",
            "_view_module_version": "1.2.0",
            "_view_name": "LayoutView",
            "align_content": null,
            "align_items": null,
            "align_self": null,
            "border": null,
            "bottom": null,
            "display": null,
            "flex": null,
            "flex_flow": null,
            "grid_area": null,
            "grid_auto_columns": null,
            "grid_auto_flow": null,
            "grid_auto_rows": null,
            "grid_column": null,
            "grid_gap": null,
            "grid_row": null,
            "grid_template_areas": null,
            "grid_template_columns": null,
            "grid_template_rows": null,
            "height": null,
            "justify_content": null,
            "justify_items": null,
            "left": null,
            "margin": null,
            "max_height": null,
            "max_width": null,
            "min_height": null,
            "min_width": null,
            "object_fit": null,
            "object_position": null,
            "order": null,
            "overflow": null,
            "overflow_x": null,
            "overflow_y": null,
            "padding": null,
            "right": null,
            "top": null,
            "visibility": null,
            "width": null
          }
        },
        "5595530c700a4dc983b108c85a4351ad": {
          "model_module": "@jupyter-widgets/controls",
          "model_name": "DescriptionStyleModel",
          "model_module_version": "1.5.0",
          "state": {
            "_model_module": "@jupyter-widgets/controls",
            "_model_module_version": "1.5.0",
            "_model_name": "DescriptionStyleModel",
            "_view_count": null,
            "_view_module": "@jupyter-widgets/base",
            "_view_module_version": "1.2.0",
            "_view_name": "StyleView",
            "description_width": ""
          }
        },
        "9715e4cdb98c4c49aeaec90bf36c0913": {
          "model_module": "@jupyter-widgets/base",
          "model_name": "LayoutModel",
          "model_module_version": "1.2.0",
          "state": {
            "_model_module": "@jupyter-widgets/base",
            "_model_module_version": "1.2.0",
            "_model_name": "LayoutModel",
            "_view_count": null,
            "_view_module": "@jupyter-widgets/base",
            "_view_module_version": "1.2.0",
            "_view_name": "LayoutView",
            "align_content": null,
            "align_items": null,
            "align_self": null,
            "border": null,
            "bottom": null,
            "display": null,
            "flex": null,
            "flex_flow": null,
            "grid_area": null,
            "grid_auto_columns": null,
            "grid_auto_flow": null,
            "grid_auto_rows": null,
            "grid_column": null,
            "grid_gap": null,
            "grid_row": null,
            "grid_template_areas": null,
            "grid_template_columns": null,
            "grid_template_rows": null,
            "height": null,
            "justify_content": null,
            "justify_items": null,
            "left": null,
            "margin": null,
            "max_height": null,
            "max_width": null,
            "min_height": null,
            "min_width": null,
            "object_fit": null,
            "object_position": null,
            "order": null,
            "overflow": null,
            "overflow_x": null,
            "overflow_y": null,
            "padding": null,
            "right": null,
            "top": null,
            "visibility": null,
            "width": null
          }
        },
        "248158f4f0454a808734555f06038370": {
          "model_module": "@jupyter-widgets/controls",
          "model_name": "ProgressStyleModel",
          "model_module_version": "1.5.0",
          "state": {
            "_model_module": "@jupyter-widgets/controls",
            "_model_module_version": "1.5.0",
            "_model_name": "ProgressStyleModel",
            "_view_count": null,
            "_view_module": "@jupyter-widgets/base",
            "_view_module_version": "1.2.0",
            "_view_name": "StyleView",
            "bar_color": null,
            "description_width": ""
          }
        },
        "5630f9dd257b4ba2ad64bed4d50386ad": {
          "model_module": "@jupyter-widgets/base",
          "model_name": "LayoutModel",
          "model_module_version": "1.2.0",
          "state": {
            "_model_module": "@jupyter-widgets/base",
            "_model_module_version": "1.2.0",
            "_model_name": "LayoutModel",
            "_view_count": null,
            "_view_module": "@jupyter-widgets/base",
            "_view_module_version": "1.2.0",
            "_view_name": "LayoutView",
            "align_content": null,
            "align_items": null,
            "align_self": null,
            "border": null,
            "bottom": null,
            "display": null,
            "flex": null,
            "flex_flow": null,
            "grid_area": null,
            "grid_auto_columns": null,
            "grid_auto_flow": null,
            "grid_auto_rows": null,
            "grid_column": null,
            "grid_gap": null,
            "grid_row": null,
            "grid_template_areas": null,
            "grid_template_columns": null,
            "grid_template_rows": null,
            "height": null,
            "justify_content": null,
            "justify_items": null,
            "left": null,
            "margin": null,
            "max_height": null,
            "max_width": null,
            "min_height": null,
            "min_width": null,
            "object_fit": null,
            "object_position": null,
            "order": null,
            "overflow": null,
            "overflow_x": null,
            "overflow_y": null,
            "padding": null,
            "right": null,
            "top": null,
            "visibility": null,
            "width": null
          }
        },
        "22291f648bbf4ba9b05b9d4168821775": {
          "model_module": "@jupyter-widgets/controls",
          "model_name": "DescriptionStyleModel",
          "model_module_version": "1.5.0",
          "state": {
            "_model_module": "@jupyter-widgets/controls",
            "_model_module_version": "1.5.0",
            "_model_name": "DescriptionStyleModel",
            "_view_count": null,
            "_view_module": "@jupyter-widgets/base",
            "_view_module_version": "1.2.0",
            "_view_name": "StyleView",
            "description_width": ""
          }
        },
        "5dc1305eb6b74ee3997de4666a999430": {
          "model_module": "@jupyter-widgets/controls",
          "model_name": "HBoxModel",
          "model_module_version": "1.5.0",
          "state": {
            "_dom_classes": [],
            "_model_module": "@jupyter-widgets/controls",
            "_model_module_version": "1.5.0",
            "_model_name": "HBoxModel",
            "_view_count": null,
            "_view_module": "@jupyter-widgets/controls",
            "_view_module_version": "1.5.0",
            "_view_name": "HBoxView",
            "box_style": "",
            "children": [
              "IPY_MODEL_dc4ba51913a6450aafcdbf17d22d2acb",
              "IPY_MODEL_f9b467073b8c492b83d9ed266df966b8",
              "IPY_MODEL_ab46559dce82408982427ac5b8980885"
            ],
            "layout": "IPY_MODEL_bc3050e728c440c1a63294051d2af795"
          }
        },
        "dc4ba51913a6450aafcdbf17d22d2acb": {
          "model_module": "@jupyter-widgets/controls",
          "model_name": "HTMLModel",
          "model_module_version": "1.5.0",
          "state": {
            "_dom_classes": [],
            "_model_module": "@jupyter-widgets/controls",
            "_model_module_version": "1.5.0",
            "_model_name": "HTMLModel",
            "_view_count": null,
            "_view_module": "@jupyter-widgets/controls",
            "_view_module_version": "1.5.0",
            "_view_name": "HTMLView",
            "description": "",
            "description_tooltip": null,
            "layout": "IPY_MODEL_32cae1a21378486a9b695cef8107d0c9",
            "placeholder": "​",
            "style": "IPY_MODEL_86b4ee063fd04df5905798d7adb72d60",
            "value": "Processing: 100%"
          }
        },
        "f9b467073b8c492b83d9ed266df966b8": {
          "model_module": "@jupyter-widgets/controls",
          "model_name": "FloatProgressModel",
          "model_module_version": "1.5.0",
          "state": {
            "_dom_classes": [],
            "_model_module": "@jupyter-widgets/controls",
            "_model_module_version": "1.5.0",
            "_model_name": "FloatProgressModel",
            "_view_count": null,
            "_view_module": "@jupyter-widgets/controls",
            "_view_module_version": "1.5.0",
            "_view_name": "ProgressView",
            "bar_style": "",
            "description": "",
            "description_tooltip": null,
            "layout": "IPY_MODEL_410054d87e754b4f8c542b37c94b3df8",
            "max": 65,
            "min": 0,
            "orientation": "horizontal",
            "style": "IPY_MODEL_839200c4d7fb4759a07177fb5984c8f0",
            "value": 65
          }
        },
        "ab46559dce82408982427ac5b8980885": {
          "model_module": "@jupyter-widgets/controls",
          "model_name": "HTMLModel",
          "model_module_version": "1.5.0",
          "state": {
            "_dom_classes": [],
            "_model_module": "@jupyter-widgets/controls",
            "_model_module_version": "1.5.0",
            "_model_name": "HTMLModel",
            "_view_count": null,
            "_view_module": "@jupyter-widgets/controls",
            "_view_module_version": "1.5.0",
            "_view_name": "HTMLView",
            "description": "",
            "description_tooltip": null,
            "layout": "IPY_MODEL_d370702c54ed48c699f0ddd77bc1e221",
            "placeholder": "​",
            "style": "IPY_MODEL_58047ca5fafd4cc4aadbf8a8fe0e526e",
            "value": " 65/65 [01:12&lt;00:00,  1.39it/s]"
          }
        },
        "bc3050e728c440c1a63294051d2af795": {
          "model_module": "@jupyter-widgets/base",
          "model_name": "LayoutModel",
          "model_module_version": "1.2.0",
          "state": {
            "_model_module": "@jupyter-widgets/base",
            "_model_module_version": "1.2.0",
            "_model_name": "LayoutModel",
            "_view_count": null,
            "_view_module": "@jupyter-widgets/base",
            "_view_module_version": "1.2.0",
            "_view_name": "LayoutView",
            "align_content": null,
            "align_items": null,
            "align_self": null,
            "border": null,
            "bottom": null,
            "display": null,
            "flex": null,
            "flex_flow": null,
            "grid_area": null,
            "grid_auto_columns": null,
            "grid_auto_flow": null,
            "grid_auto_rows": null,
            "grid_column": null,
            "grid_gap": null,
            "grid_row": null,
            "grid_template_areas": null,
            "grid_template_columns": null,
            "grid_template_rows": null,
            "height": null,
            "justify_content": null,
            "justify_items": null,
            "left": null,
            "margin": null,
            "max_height": null,
            "max_width": null,
            "min_height": null,
            "min_width": null,
            "object_fit": null,
            "object_position": null,
            "order": null,
            "overflow": null,
            "overflow_x": null,
            "overflow_y": null,
            "padding": null,
            "right": null,
            "top": null,
            "visibility": "hidden",
            "width": null
          }
        },
        "32cae1a21378486a9b695cef8107d0c9": {
          "model_module": "@jupyter-widgets/base",
          "model_name": "LayoutModel",
          "model_module_version": "1.2.0",
          "state": {
            "_model_module": "@jupyter-widgets/base",
            "_model_module_version": "1.2.0",
            "_model_name": "LayoutModel",
            "_view_count": null,
            "_view_module": "@jupyter-widgets/base",
            "_view_module_version": "1.2.0",
            "_view_name": "LayoutView",
            "align_content": null,
            "align_items": null,
            "align_self": null,
            "border": null,
            "bottom": null,
            "display": null,
            "flex": null,
            "flex_flow": null,
            "grid_area": null,
            "grid_auto_columns": null,
            "grid_auto_flow": null,
            "grid_auto_rows": null,
            "grid_column": null,
            "grid_gap": null,
            "grid_row": null,
            "grid_template_areas": null,
            "grid_template_columns": null,
            "grid_template_rows": null,
            "height": null,
            "justify_content": null,
            "justify_items": null,
            "left": null,
            "margin": null,
            "max_height": null,
            "max_width": null,
            "min_height": null,
            "min_width": null,
            "object_fit": null,
            "object_position": null,
            "order": null,
            "overflow": null,
            "overflow_x": null,
            "overflow_y": null,
            "padding": null,
            "right": null,
            "top": null,
            "visibility": null,
            "width": null
          }
        },
        "86b4ee063fd04df5905798d7adb72d60": {
          "model_module": "@jupyter-widgets/controls",
          "model_name": "DescriptionStyleModel",
          "model_module_version": "1.5.0",
          "state": {
            "_model_module": "@jupyter-widgets/controls",
            "_model_module_version": "1.5.0",
            "_model_name": "DescriptionStyleModel",
            "_view_count": null,
            "_view_module": "@jupyter-widgets/base",
            "_view_module_version": "1.2.0",
            "_view_name": "StyleView",
            "description_width": ""
          }
        },
        "410054d87e754b4f8c542b37c94b3df8": {
          "model_module": "@jupyter-widgets/base",
          "model_name": "LayoutModel",
          "model_module_version": "1.2.0",
          "state": {
            "_model_module": "@jupyter-widgets/base",
            "_model_module_version": "1.2.0",
            "_model_name": "LayoutModel",
            "_view_count": null,
            "_view_module": "@jupyter-widgets/base",
            "_view_module_version": "1.2.0",
            "_view_name": "LayoutView",
            "align_content": null,
            "align_items": null,
            "align_self": null,
            "border": null,
            "bottom": null,
            "display": null,
            "flex": null,
            "flex_flow": null,
            "grid_area": null,
            "grid_auto_columns": null,
            "grid_auto_flow": null,
            "grid_auto_rows": null,
            "grid_column": null,
            "grid_gap": null,
            "grid_row": null,
            "grid_template_areas": null,
            "grid_template_columns": null,
            "grid_template_rows": null,
            "height": null,
            "justify_content": null,
            "justify_items": null,
            "left": null,
            "margin": null,
            "max_height": null,
            "max_width": null,
            "min_height": null,
            "min_width": null,
            "object_fit": null,
            "object_position": null,
            "order": null,
            "overflow": null,
            "overflow_x": null,
            "overflow_y": null,
            "padding": null,
            "right": null,
            "top": null,
            "visibility": null,
            "width": null
          }
        },
        "839200c4d7fb4759a07177fb5984c8f0": {
          "model_module": "@jupyter-widgets/controls",
          "model_name": "ProgressStyleModel",
          "model_module_version": "1.5.0",
          "state": {
            "_model_module": "@jupyter-widgets/controls",
            "_model_module_version": "1.5.0",
            "_model_name": "ProgressStyleModel",
            "_view_count": null,
            "_view_module": "@jupyter-widgets/base",
            "_view_module_version": "1.2.0",
            "_view_name": "StyleView",
            "bar_color": null,
            "description_width": ""
          }
        },
        "d370702c54ed48c699f0ddd77bc1e221": {
          "model_module": "@jupyter-widgets/base",
          "model_name": "LayoutModel",
          "model_module_version": "1.2.0",
          "state": {
            "_model_module": "@jupyter-widgets/base",
            "_model_module_version": "1.2.0",
            "_model_name": "LayoutModel",
            "_view_count": null,
            "_view_module": "@jupyter-widgets/base",
            "_view_module_version": "1.2.0",
            "_view_name": "LayoutView",
            "align_content": null,
            "align_items": null,
            "align_self": null,
            "border": null,
            "bottom": null,
            "display": null,
            "flex": null,
            "flex_flow": null,
            "grid_area": null,
            "grid_auto_columns": null,
            "grid_auto_flow": null,
            "grid_auto_rows": null,
            "grid_column": null,
            "grid_gap": null,
            "grid_row": null,
            "grid_template_areas": null,
            "grid_template_columns": null,
            "grid_template_rows": null,
            "height": null,
            "justify_content": null,
            "justify_items": null,
            "left": null,
            "margin": null,
            "max_height": null,
            "max_width": null,
            "min_height": null,
            "min_width": null,
            "object_fit": null,
            "object_position": null,
            "order": null,
            "overflow": null,
            "overflow_x": null,
            "overflow_y": null,
            "padding": null,
            "right": null,
            "top": null,
            "visibility": null,
            "width": null
          }
        },
        "58047ca5fafd4cc4aadbf8a8fe0e526e": {
          "model_module": "@jupyter-widgets/controls",
          "model_name": "DescriptionStyleModel",
          "model_module_version": "1.5.0",
          "state": {
            "_model_module": "@jupyter-widgets/controls",
            "_model_module_version": "1.5.0",
            "_model_name": "DescriptionStyleModel",
            "_view_count": null,
            "_view_module": "@jupyter-widgets/base",
            "_view_module_version": "1.2.0",
            "_view_name": "StyleView",
            "description_width": ""
          }
        },
        "11d1b5a67c78459dadc82d80b13a24b3": {
          "model_module": "@jupyter-widgets/controls",
          "model_name": "HBoxModel",
          "model_module_version": "1.5.0",
          "state": {
            "_dom_classes": [],
            "_model_module": "@jupyter-widgets/controls",
            "_model_module_version": "1.5.0",
            "_model_name": "HBoxModel",
            "_view_count": null,
            "_view_module": "@jupyter-widgets/controls",
            "_view_module_version": "1.5.0",
            "_view_name": "HBoxView",
            "box_style": "",
            "children": [
              "IPY_MODEL_fb44711345ef4f6a82e30293269cb4d5",
              "IPY_MODEL_e9979d2cd2eb4a66b32d321e7826249c",
              "IPY_MODEL_e00dc91067074fe09e80c03e46b0ba6a"
            ],
            "layout": "IPY_MODEL_0be0af61f6db4e41843f417295148bcf"
          }
        },
        "fb44711345ef4f6a82e30293269cb4d5": {
          "model_module": "@jupyter-widgets/controls",
          "model_name": "HTMLModel",
          "model_module_version": "1.5.0",
          "state": {
            "_dom_classes": [],
            "_model_module": "@jupyter-widgets/controls",
            "_model_module_version": "1.5.0",
            "_model_name": "HTMLModel",
            "_view_count": null,
            "_view_module": "@jupyter-widgets/controls",
            "_view_module_version": "1.5.0",
            "_view_name": "HTMLView",
            "description": "",
            "description_tooltip": null,
            "layout": "IPY_MODEL_43bb35188daa4787a8a4141fdc2ef001",
            "placeholder": "​",
            "style": "IPY_MODEL_276209589d614ba7bd7aacbdeb1f3d3b",
            "value": "Processing: 100%"
          }
        },
        "e9979d2cd2eb4a66b32d321e7826249c": {
          "model_module": "@jupyter-widgets/controls",
          "model_name": "FloatProgressModel",
          "model_module_version": "1.5.0",
          "state": {
            "_dom_classes": [],
            "_model_module": "@jupyter-widgets/controls",
            "_model_module_version": "1.5.0",
            "_model_name": "FloatProgressModel",
            "_view_count": null,
            "_view_module": "@jupyter-widgets/controls",
            "_view_module_version": "1.5.0",
            "_view_name": "ProgressView",
            "bar_style": "",
            "description": "",
            "description_tooltip": null,
            "layout": "IPY_MODEL_85c78a02963743738ed61d1050057222",
            "max": 4,
            "min": 0,
            "orientation": "horizontal",
            "style": "IPY_MODEL_1e03ac1dbe4047f7a11a85f8145694fa",
            "value": 4
          }
        },
        "e00dc91067074fe09e80c03e46b0ba6a": {
          "model_module": "@jupyter-widgets/controls",
          "model_name": "HTMLModel",
          "model_module_version": "1.5.0",
          "state": {
            "_dom_classes": [],
            "_model_module": "@jupyter-widgets/controls",
            "_model_module_version": "1.5.0",
            "_model_name": "HTMLModel",
            "_view_count": null,
            "_view_module": "@jupyter-widgets/controls",
            "_view_module_version": "1.5.0",
            "_view_name": "HTMLView",
            "description": "",
            "description_tooltip": null,
            "layout": "IPY_MODEL_0f3ab8e05c8440418e5cbf13fd6949b4",
            "placeholder": "​",
            "style": "IPY_MODEL_b8af936157954ad2a0baaaf61cc3e294",
            "value": " 4/4 [00:02&lt;00:00,  1.90it/s]"
          }
        },
        "0be0af61f6db4e41843f417295148bcf": {
          "model_module": "@jupyter-widgets/base",
          "model_name": "LayoutModel",
          "model_module_version": "1.2.0",
          "state": {
            "_model_module": "@jupyter-widgets/base",
            "_model_module_version": "1.2.0",
            "_model_name": "LayoutModel",
            "_view_count": null,
            "_view_module": "@jupyter-widgets/base",
            "_view_module_version": "1.2.0",
            "_view_name": "LayoutView",
            "align_content": null,
            "align_items": null,
            "align_self": null,
            "border": null,
            "bottom": null,
            "display": null,
            "flex": null,
            "flex_flow": null,
            "grid_area": null,
            "grid_auto_columns": null,
            "grid_auto_flow": null,
            "grid_auto_rows": null,
            "grid_column": null,
            "grid_gap": null,
            "grid_row": null,
            "grid_template_areas": null,
            "grid_template_columns": null,
            "grid_template_rows": null,
            "height": null,
            "justify_content": null,
            "justify_items": null,
            "left": null,
            "margin": null,
            "max_height": null,
            "max_width": null,
            "min_height": null,
            "min_width": null,
            "object_fit": null,
            "object_position": null,
            "order": null,
            "overflow": null,
            "overflow_x": null,
            "overflow_y": null,
            "padding": null,
            "right": null,
            "top": null,
            "visibility": "hidden",
            "width": null
          }
        },
        "43bb35188daa4787a8a4141fdc2ef001": {
          "model_module": "@jupyter-widgets/base",
          "model_name": "LayoutModel",
          "model_module_version": "1.2.0",
          "state": {
            "_model_module": "@jupyter-widgets/base",
            "_model_module_version": "1.2.0",
            "_model_name": "LayoutModel",
            "_view_count": null,
            "_view_module": "@jupyter-widgets/base",
            "_view_module_version": "1.2.0",
            "_view_name": "LayoutView",
            "align_content": null,
            "align_items": null,
            "align_self": null,
            "border": null,
            "bottom": null,
            "display": null,
            "flex": null,
            "flex_flow": null,
            "grid_area": null,
            "grid_auto_columns": null,
            "grid_auto_flow": null,
            "grid_auto_rows": null,
            "grid_column": null,
            "grid_gap": null,
            "grid_row": null,
            "grid_template_areas": null,
            "grid_template_columns": null,
            "grid_template_rows": null,
            "height": null,
            "justify_content": null,
            "justify_items": null,
            "left": null,
            "margin": null,
            "max_height": null,
            "max_width": null,
            "min_height": null,
            "min_width": null,
            "object_fit": null,
            "object_position": null,
            "order": null,
            "overflow": null,
            "overflow_x": null,
            "overflow_y": null,
            "padding": null,
            "right": null,
            "top": null,
            "visibility": null,
            "width": null
          }
        },
        "276209589d614ba7bd7aacbdeb1f3d3b": {
          "model_module": "@jupyter-widgets/controls",
          "model_name": "DescriptionStyleModel",
          "model_module_version": "1.5.0",
          "state": {
            "_model_module": "@jupyter-widgets/controls",
            "_model_module_version": "1.5.0",
            "_model_name": "DescriptionStyleModel",
            "_view_count": null,
            "_view_module": "@jupyter-widgets/base",
            "_view_module_version": "1.2.0",
            "_view_name": "StyleView",
            "description_width": ""
          }
        },
        "85c78a02963743738ed61d1050057222": {
          "model_module": "@jupyter-widgets/base",
          "model_name": "LayoutModel",
          "model_module_version": "1.2.0",
          "state": {
            "_model_module": "@jupyter-widgets/base",
            "_model_module_version": "1.2.0",
            "_model_name": "LayoutModel",
            "_view_count": null,
            "_view_module": "@jupyter-widgets/base",
            "_view_module_version": "1.2.0",
            "_view_name": "LayoutView",
            "align_content": null,
            "align_items": null,
            "align_self": null,
            "border": null,
            "bottom": null,
            "display": null,
            "flex": null,
            "flex_flow": null,
            "grid_area": null,
            "grid_auto_columns": null,
            "grid_auto_flow": null,
            "grid_auto_rows": null,
            "grid_column": null,
            "grid_gap": null,
            "grid_row": null,
            "grid_template_areas": null,
            "grid_template_columns": null,
            "grid_template_rows": null,
            "height": null,
            "justify_content": null,
            "justify_items": null,
            "left": null,
            "margin": null,
            "max_height": null,
            "max_width": null,
            "min_height": null,
            "min_width": null,
            "object_fit": null,
            "object_position": null,
            "order": null,
            "overflow": null,
            "overflow_x": null,
            "overflow_y": null,
            "padding": null,
            "right": null,
            "top": null,
            "visibility": null,
            "width": null
          }
        },
        "1e03ac1dbe4047f7a11a85f8145694fa": {
          "model_module": "@jupyter-widgets/controls",
          "model_name": "ProgressStyleModel",
          "model_module_version": "1.5.0",
          "state": {
            "_model_module": "@jupyter-widgets/controls",
            "_model_module_version": "1.5.0",
            "_model_name": "ProgressStyleModel",
            "_view_count": null,
            "_view_module": "@jupyter-widgets/base",
            "_view_module_version": "1.2.0",
            "_view_name": "StyleView",
            "bar_color": null,
            "description_width": ""
          }
        },
        "0f3ab8e05c8440418e5cbf13fd6949b4": {
          "model_module": "@jupyter-widgets/base",
          "model_name": "LayoutModel",
          "model_module_version": "1.2.0",
          "state": {
            "_model_module": "@jupyter-widgets/base",
            "_model_module_version": "1.2.0",
            "_model_name": "LayoutModel",
            "_view_count": null,
            "_view_module": "@jupyter-widgets/base",
            "_view_module_version": "1.2.0",
            "_view_name": "LayoutView",
            "align_content": null,
            "align_items": null,
            "align_self": null,
            "border": null,
            "bottom": null,
            "display": null,
            "flex": null,
            "flex_flow": null,
            "grid_area": null,
            "grid_auto_columns": null,
            "grid_auto_flow": null,
            "grid_auto_rows": null,
            "grid_column": null,
            "grid_gap": null,
            "grid_row": null,
            "grid_template_areas": null,
            "grid_template_columns": null,
            "grid_template_rows": null,
            "height": null,
            "justify_content": null,
            "justify_items": null,
            "left": null,
            "margin": null,
            "max_height": null,
            "max_width": null,
            "min_height": null,
            "min_width": null,
            "object_fit": null,
            "object_position": null,
            "order": null,
            "overflow": null,
            "overflow_x": null,
            "overflow_y": null,
            "padding": null,
            "right": null,
            "top": null,
            "visibility": null,
            "width": null
          }
        },
        "b8af936157954ad2a0baaaf61cc3e294": {
          "model_module": "@jupyter-widgets/controls",
          "model_name": "DescriptionStyleModel",
          "model_module_version": "1.5.0",
          "state": {
            "_model_module": "@jupyter-widgets/controls",
            "_model_module_version": "1.5.0",
            "_model_name": "DescriptionStyleModel",
            "_view_count": null,
            "_view_module": "@jupyter-widgets/base",
            "_view_module_version": "1.2.0",
            "_view_name": "StyleView",
            "description_width": ""
          }
        },
        "27c7acd471ea498796a5d615f0d690d2": {
          "model_module": "@jupyter-widgets/controls",
          "model_name": "HBoxModel",
          "model_module_version": "1.5.0",
          "state": {
            "_dom_classes": [],
            "_model_module": "@jupyter-widgets/controls",
            "_model_module_version": "1.5.0",
            "_model_name": "HBoxModel",
            "_view_count": null,
            "_view_module": "@jupyter-widgets/controls",
            "_view_module_version": "1.5.0",
            "_view_name": "HBoxView",
            "box_style": "",
            "children": [
              "IPY_MODEL_5b9c9313adbf49888ef3de59aaf61a65",
              "IPY_MODEL_eae2be15a6b24252bc489b486be74f59",
              "IPY_MODEL_6358f301e002427aa53159afacb7fb75"
            ],
            "layout": "IPY_MODEL_a8db5a6b083749159973cf2e35dd403a"
          }
        },
        "5b9c9313adbf49888ef3de59aaf61a65": {
          "model_module": "@jupyter-widgets/controls",
          "model_name": "HTMLModel",
          "model_module_version": "1.5.0",
          "state": {
            "_dom_classes": [],
            "_model_module": "@jupyter-widgets/controls",
            "_model_module_version": "1.5.0",
            "_model_name": "HTMLModel",
            "_view_count": null,
            "_view_module": "@jupyter-widgets/controls",
            "_view_module_version": "1.5.0",
            "_view_name": "HTMLView",
            "description": "",
            "description_tooltip": null,
            "layout": "IPY_MODEL_525b0a37ecbe4664aa930652e8f77bca",
            "placeholder": "​",
            "style": "IPY_MODEL_7568ad6bde2841419cca28f8cf8966ea",
            "value": "Processing: 100%"
          }
        },
        "eae2be15a6b24252bc489b486be74f59": {
          "model_module": "@jupyter-widgets/controls",
          "model_name": "FloatProgressModel",
          "model_module_version": "1.5.0",
          "state": {
            "_dom_classes": [],
            "_model_module": "@jupyter-widgets/controls",
            "_model_module_version": "1.5.0",
            "_model_name": "FloatProgressModel",
            "_view_count": null,
            "_view_module": "@jupyter-widgets/controls",
            "_view_module_version": "1.5.0",
            "_view_name": "ProgressView",
            "bar_style": "",
            "description": "",
            "description_tooltip": null,
            "layout": "IPY_MODEL_2f789542f7b84503a43fe0a1e48b6375",
            "max": 7,
            "min": 0,
            "orientation": "horizontal",
            "style": "IPY_MODEL_c922c1ec1f474797b593e4ad9794bddc",
            "value": 7
          }
        },
        "6358f301e002427aa53159afacb7fb75": {
          "model_module": "@jupyter-widgets/controls",
          "model_name": "HTMLModel",
          "model_module_version": "1.5.0",
          "state": {
            "_dom_classes": [],
            "_model_module": "@jupyter-widgets/controls",
            "_model_module_version": "1.5.0",
            "_model_name": "HTMLModel",
            "_view_count": null,
            "_view_module": "@jupyter-widgets/controls",
            "_view_module_version": "1.5.0",
            "_view_name": "HTMLView",
            "description": "",
            "description_tooltip": null,
            "layout": "IPY_MODEL_09146cd3136a40b391a0ee7d3a6713c2",
            "placeholder": "​",
            "style": "IPY_MODEL_b6555ff5262448279a0b3c4e6667ebb7",
            "value": " 7/7 [00:32&lt;00:00,  3.67s/it]"
          }
        },
        "a8db5a6b083749159973cf2e35dd403a": {
          "model_module": "@jupyter-widgets/base",
          "model_name": "LayoutModel",
          "model_module_version": "1.2.0",
          "state": {
            "_model_module": "@jupyter-widgets/base",
            "_model_module_version": "1.2.0",
            "_model_name": "LayoutModel",
            "_view_count": null,
            "_view_module": "@jupyter-widgets/base",
            "_view_module_version": "1.2.0",
            "_view_name": "LayoutView",
            "align_content": null,
            "align_items": null,
            "align_self": null,
            "border": null,
            "bottom": null,
            "display": null,
            "flex": null,
            "flex_flow": null,
            "grid_area": null,
            "grid_auto_columns": null,
            "grid_auto_flow": null,
            "grid_auto_rows": null,
            "grid_column": null,
            "grid_gap": null,
            "grid_row": null,
            "grid_template_areas": null,
            "grid_template_columns": null,
            "grid_template_rows": null,
            "height": null,
            "justify_content": null,
            "justify_items": null,
            "left": null,
            "margin": null,
            "max_height": null,
            "max_width": null,
            "min_height": null,
            "min_width": null,
            "object_fit": null,
            "object_position": null,
            "order": null,
            "overflow": null,
            "overflow_x": null,
            "overflow_y": null,
            "padding": null,
            "right": null,
            "top": null,
            "visibility": "hidden",
            "width": null
          }
        },
        "525b0a37ecbe4664aa930652e8f77bca": {
          "model_module": "@jupyter-widgets/base",
          "model_name": "LayoutModel",
          "model_module_version": "1.2.0",
          "state": {
            "_model_module": "@jupyter-widgets/base",
            "_model_module_version": "1.2.0",
            "_model_name": "LayoutModel",
            "_view_count": null,
            "_view_module": "@jupyter-widgets/base",
            "_view_module_version": "1.2.0",
            "_view_name": "LayoutView",
            "align_content": null,
            "align_items": null,
            "align_self": null,
            "border": null,
            "bottom": null,
            "display": null,
            "flex": null,
            "flex_flow": null,
            "grid_area": null,
            "grid_auto_columns": null,
            "grid_auto_flow": null,
            "grid_auto_rows": null,
            "grid_column": null,
            "grid_gap": null,
            "grid_row": null,
            "grid_template_areas": null,
            "grid_template_columns": null,
            "grid_template_rows": null,
            "height": null,
            "justify_content": null,
            "justify_items": null,
            "left": null,
            "margin": null,
            "max_height": null,
            "max_width": null,
            "min_height": null,
            "min_width": null,
            "object_fit": null,
            "object_position": null,
            "order": null,
            "overflow": null,
            "overflow_x": null,
            "overflow_y": null,
            "padding": null,
            "right": null,
            "top": null,
            "visibility": null,
            "width": null
          }
        },
        "7568ad6bde2841419cca28f8cf8966ea": {
          "model_module": "@jupyter-widgets/controls",
          "model_name": "DescriptionStyleModel",
          "model_module_version": "1.5.0",
          "state": {
            "_model_module": "@jupyter-widgets/controls",
            "_model_module_version": "1.5.0",
            "_model_name": "DescriptionStyleModel",
            "_view_count": null,
            "_view_module": "@jupyter-widgets/base",
            "_view_module_version": "1.2.0",
            "_view_name": "StyleView",
            "description_width": ""
          }
        },
        "2f789542f7b84503a43fe0a1e48b6375": {
          "model_module": "@jupyter-widgets/base",
          "model_name": "LayoutModel",
          "model_module_version": "1.2.0",
          "state": {
            "_model_module": "@jupyter-widgets/base",
            "_model_module_version": "1.2.0",
            "_model_name": "LayoutModel",
            "_view_count": null,
            "_view_module": "@jupyter-widgets/base",
            "_view_module_version": "1.2.0",
            "_view_name": "LayoutView",
            "align_content": null,
            "align_items": null,
            "align_self": null,
            "border": null,
            "bottom": null,
            "display": null,
            "flex": null,
            "flex_flow": null,
            "grid_area": null,
            "grid_auto_columns": null,
            "grid_auto_flow": null,
            "grid_auto_rows": null,
            "grid_column": null,
            "grid_gap": null,
            "grid_row": null,
            "grid_template_areas": null,
            "grid_template_columns": null,
            "grid_template_rows": null,
            "height": null,
            "justify_content": null,
            "justify_items": null,
            "left": null,
            "margin": null,
            "max_height": null,
            "max_width": null,
            "min_height": null,
            "min_width": null,
            "object_fit": null,
            "object_position": null,
            "order": null,
            "overflow": null,
            "overflow_x": null,
            "overflow_y": null,
            "padding": null,
            "right": null,
            "top": null,
            "visibility": null,
            "width": null
          }
        },
        "c922c1ec1f474797b593e4ad9794bddc": {
          "model_module": "@jupyter-widgets/controls",
          "model_name": "ProgressStyleModel",
          "model_module_version": "1.5.0",
          "state": {
            "_model_module": "@jupyter-widgets/controls",
            "_model_module_version": "1.5.0",
            "_model_name": "ProgressStyleModel",
            "_view_count": null,
            "_view_module": "@jupyter-widgets/base",
            "_view_module_version": "1.2.0",
            "_view_name": "StyleView",
            "bar_color": null,
            "description_width": ""
          }
        },
        "09146cd3136a40b391a0ee7d3a6713c2": {
          "model_module": "@jupyter-widgets/base",
          "model_name": "LayoutModel",
          "model_module_version": "1.2.0",
          "state": {
            "_model_module": "@jupyter-widgets/base",
            "_model_module_version": "1.2.0",
            "_model_name": "LayoutModel",
            "_view_count": null,
            "_view_module": "@jupyter-widgets/base",
            "_view_module_version": "1.2.0",
            "_view_name": "LayoutView",
            "align_content": null,
            "align_items": null,
            "align_self": null,
            "border": null,
            "bottom": null,
            "display": null,
            "flex": null,
            "flex_flow": null,
            "grid_area": null,
            "grid_auto_columns": null,
            "grid_auto_flow": null,
            "grid_auto_rows": null,
            "grid_column": null,
            "grid_gap": null,
            "grid_row": null,
            "grid_template_areas": null,
            "grid_template_columns": null,
            "grid_template_rows": null,
            "height": null,
            "justify_content": null,
            "justify_items": null,
            "left": null,
            "margin": null,
            "max_height": null,
            "max_width": null,
            "min_height": null,
            "min_width": null,
            "object_fit": null,
            "object_position": null,
            "order": null,
            "overflow": null,
            "overflow_x": null,
            "overflow_y": null,
            "padding": null,
            "right": null,
            "top": null,
            "visibility": null,
            "width": null
          }
        },
        "b6555ff5262448279a0b3c4e6667ebb7": {
          "model_module": "@jupyter-widgets/controls",
          "model_name": "DescriptionStyleModel",
          "model_module_version": "1.5.0",
          "state": {
            "_model_module": "@jupyter-widgets/controls",
            "_model_module_version": "1.5.0",
            "_model_name": "DescriptionStyleModel",
            "_view_count": null,
            "_view_module": "@jupyter-widgets/base",
            "_view_module_version": "1.2.0",
            "_view_name": "StyleView",
            "description_width": ""
          }
        }
      }
    }
  },
  "cells": [
    {
      "cell_type": "markdown",
      "source": [
        "customer_id : id of the credit card holder\n",
        "\n",
        "balance_account : balance amount left in the account to make purchases at the end of the 6-month period\n",
        "\n",
        "purchases_amount : amount of purchases made from account\n",
        "\n",
        "paid_advance : number of transactions made with “Cash in Advance” method\n",
        "\n",
        "full_purchases : maximum purchase amount done in full payment\n",
        "\n",
        "balance_frequency_update : how frequently the balance has been updated, score between 0 and 1 (1 = frequently - updated, 0 = not frequently updated)\n",
        "\n",
        "installments : amount of purchases done in installments\n",
        "\n",
        "purchases_frequency : how frequently the purchases are being made, score between 0 and 1 (1 = frequently - - purchased, 0 = not frequently purchased)\n",
        "\n",
        "full_purchases_frequency : how frequently purchases are happening in full payment (1 = frequently purchased, - 0 = not frequently purchased)\n",
        "\n",
        "purchases_installments_frequency : how frequently purchases in installments are being done (1 = frequently - done, 0 = not frequently done)\n",
        "\n",
        "cash_advance_frequency : how frequently the cash in advance being paid\n",
        "\n",
        "nr_cash_advances : cash in advance given by the user\n",
        "\n",
        "nr_purchases : number of purchase transactions made\n",
        "\n",
        "credit_limit : limit of credit card for user\n",
        "\n",
        "fixed_rate_period : duration of fixed interest rate of credit card service for user (in months)\n",
        "\n",
        "payments : amount of payment done by user\n",
        "\n",
        "min_payments : minimum amount of payments made by user\n",
        "\n",
        "full_payment_prc : percent of full payment paid by user"
      ],
      "metadata": {
        "id": "cw2yel4MqaXS"
      }
    },
    {
      "cell_type": "code",
      "source": [
        "# !pip install umap-learn"
      ],
      "metadata": {
        "id": "Spa5Z858X2U4",
        "colab": {
          "base_uri": "https://localhost:8080/"
        },
        "outputId": "6df1c6cf-5243-413d-9a64-baa45bc61b60"
      },
      "execution_count": 11,
      "outputs": [
        {
          "output_type": "stream",
          "name": "stdout",
          "text": [
            "Looking in indexes: https://pypi.org/simple, https://us-python.pkg.dev/colab-wheels/public/simple/\n",
            "Collecting umap-learn\n",
            "  Downloading umap-learn-0.5.3.tar.gz (88 kB)\n",
            "\u001b[2K     \u001b[90m━━━━━━━━━━━━━━━━━━━━━━━━━━━━━━━━━━━━━━━━\u001b[0m \u001b[32m88.2/88.2 KB\u001b[0m \u001b[31m3.8 MB/s\u001b[0m eta \u001b[36m0:00:00\u001b[0m\n",
            "\u001b[?25h  Preparing metadata (setup.py) ... \u001b[?25l\u001b[?25hdone\n",
            "Requirement already satisfied: numpy>=1.17 in /usr/local/lib/python3.9/dist-packages (from umap-learn) (1.22.4)\n",
            "Requirement already satisfied: scikit-learn>=0.22 in /usr/local/lib/python3.9/dist-packages (from umap-learn) (1.2.1)\n",
            "Requirement already satisfied: scipy>=1.0 in /usr/local/lib/python3.9/dist-packages (from umap-learn) (1.10.1)\n",
            "Requirement already satisfied: numba>=0.49 in /usr/local/lib/python3.9/dist-packages (from umap-learn) (0.56.4)\n",
            "Collecting pynndescent>=0.5\n",
            "  Downloading pynndescent-0.5.8.tar.gz (1.1 MB)\n",
            "\u001b[2K     \u001b[90m━━━━━━━━━━━━━━━━━━━━━━━━━━━━━━━━━━━━━━━━\u001b[0m \u001b[32m1.1/1.1 MB\u001b[0m \u001b[31m20.9 MB/s\u001b[0m eta \u001b[36m0:00:00\u001b[0m\n",
            "\u001b[?25h  Preparing metadata (setup.py) ... \u001b[?25l\u001b[?25hdone\n",
            "Requirement already satisfied: tqdm in /usr/local/lib/python3.9/dist-packages (from umap-learn) (4.65.0)\n",
            "Requirement already satisfied: setuptools in /usr/local/lib/python3.9/dist-packages (from numba>=0.49->umap-learn) (57.4.0)\n",
            "Requirement already satisfied: llvmlite<0.40,>=0.39.0dev0 in /usr/local/lib/python3.9/dist-packages (from numba>=0.49->umap-learn) (0.39.1)\n",
            "Requirement already satisfied: joblib>=0.11 in /usr/local/lib/python3.9/dist-packages (from pynndescent>=0.5->umap-learn) (1.2.0)\n",
            "Requirement already satisfied: threadpoolctl>=2.0.0 in /usr/local/lib/python3.9/dist-packages (from scikit-learn>=0.22->umap-learn) (3.1.0)\n",
            "Building wheels for collected packages: umap-learn, pynndescent\n",
            "  Building wheel for umap-learn (setup.py) ... \u001b[?25l\u001b[?25hdone\n",
            "  Created wheel for umap-learn: filename=umap_learn-0.5.3-py3-none-any.whl size=82829 sha256=876d791ba6ce5591d778437e5d8078e3cd2a267b9e971f71839d8bb43e9c5839\n",
            "  Stored in directory: /root/.cache/pip/wheels/f4/3e/1c/596d0a463d17475af648688443fa4846fef624d1390339e7e9\n",
            "  Building wheel for pynndescent (setup.py) ... \u001b[?25l\u001b[?25hdone\n",
            "  Created wheel for pynndescent: filename=pynndescent-0.5.8-py3-none-any.whl size=55513 sha256=0f09892c8236f66682f3b1cddf390ad5531b04bbab96595b35475074f901cc47\n",
            "  Stored in directory: /root/.cache/pip/wheels/b9/89/cc/59ab91ef5b21dc2ab3635528d7d227f49dfc9169905dcb959d\n",
            "Successfully built umap-learn pynndescent\n",
            "Installing collected packages: pynndescent, umap-learn\n",
            "Successfully installed pynndescent-0.5.8 umap-learn-0.5.3\n"
          ]
        }
      ]
    },
    {
      "cell_type": "code",
      "source": [
        "# !pip install auto-sklearn"
      ],
      "metadata": {
        "id": "LP52Eak-PhFd"
      },
      "execution_count": 2,
      "outputs": []
    },
    {
      "cell_type": "code",
      "source": [
        "!pip install --pre pycaret"
      ],
      "metadata": {
        "id": "0A3u0vSgV5Kw",
        "colab": {
          "base_uri": "https://localhost:8080/",
          "height": 1000
        },
        "outputId": "37b57cfe-6be4-487e-f421-c9e42e00d367"
      },
      "execution_count": 18,
      "outputs": [
        {
          "output_type": "stream",
          "name": "stdout",
          "text": [
            "Looking in indexes: https://pypi.org/simple, https://us-python.pkg.dev/colab-wheels/public/simple/\n",
            "Collecting pycaret\n",
            "  Downloading pycaret-3.0.0rc9-py3-none-any.whl (480 kB)\n",
            "\u001b[2K     \u001b[90m━━━━━━━━━━━━━━━━━━━━━━━━━━━━━━━━━━━━━━━\u001b[0m \u001b[32m480.1/480.1 KB\u001b[0m \u001b[31m8.3 MB/s\u001b[0m eta \u001b[36m0:00:00\u001b[0m\n",
            "\u001b[?25hRequirement already satisfied: imbalanced-learn>=0.8.1 in /usr/local/lib/python3.9/dist-packages (from pycaret) (0.8.1)\n",
            "Requirement already satisfied: ipython>=5.5.0 in /usr/local/lib/python3.9/dist-packages (from pycaret) (7.9.0)\n",
            "Requirement already satisfied: scipy<2.0.0 in /usr/local/lib/python3.9/dist-packages (from pycaret) (1.10.1)\n",
            "Collecting deprecation>=2.1.0\n",
            "  Downloading deprecation-2.1.0-py2.py3-none-any.whl (11 kB)\n",
            "Collecting pyod>=0.9.8\n",
            "  Downloading pyod-1.0.8.tar.gz (149 kB)\n",
            "\u001b[2K     \u001b[90m━━━━━━━━━━━━━━━━━━━━━━━━━━━━━━━━━━━━━━\u001b[0m \u001b[32m150.0/150.0 KB\u001b[0m \u001b[31m17.2 MB/s\u001b[0m eta \u001b[36m0:00:00\u001b[0m\n",
            "\u001b[?25h  Preparing metadata (setup.py) ... \u001b[?25l\u001b[?25hdone\n",
            "Collecting lightgbm>=3.0.0\n",
            "  Downloading lightgbm-3.3.5-py3-none-manylinux1_x86_64.whl (2.0 MB)\n",
            "\u001b[2K     \u001b[90m━━━━━━━━━━━━━━━━━━━━━━━━━━━━━━━━━━━━━━━━\u001b[0m \u001b[32m2.0/2.0 MB\u001b[0m \u001b[31m37.7 MB/s\u001b[0m eta \u001b[36m0:00:00\u001b[0m\n",
            "\u001b[?25hRequirement already satisfied: plotly>=5.0.0 in /usr/local/lib/python3.9/dist-packages (from pycaret) (5.5.0)\n",
            "Requirement already satisfied: scikit-learn>=1.0 in /usr/local/lib/python3.9/dist-packages (from pycaret) (1.2.1)\n",
            "Collecting category-encoders>=2.4.0\n",
            "  Downloading category_encoders-2.6.0-py2.py3-none-any.whl (81 kB)\n",
            "\u001b[2K     \u001b[90m━━━━━━━━━━━━━━━━━━━━━━━━━━━━━━━━━━━━━━━━\u001b[0m \u001b[32m81.2/81.2 KB\u001b[0m \u001b[31m7.8 MB/s\u001b[0m eta \u001b[36m0:00:00\u001b[0m\n",
            "\u001b[?25hRequirement already satisfied: pandas<1.6.0,>=1.3.0 in /usr/local/lib/python3.9/dist-packages (from pycaret) (1.3.5)\n",
            "Requirement already satisfied: markupsafe>=2.0.1 in /usr/local/lib/python3.9/dist-packages (from pycaret) (2.1.2)\n",
            "Collecting sktime>=0.15.0\n",
            "  Downloading sktime-0.16.1-py3-none-any.whl (16.0 MB)\n",
            "\u001b[2K     \u001b[90m━━━━━━━━━━━━━━━━━━━━━━━━━━━━━━━━━━━━━━━━\u001b[0m \u001b[32m16.0/16.0 MB\u001b[0m \u001b[31m22.3 MB/s\u001b[0m eta \u001b[36m0:00:00\u001b[0m\n",
            "\u001b[?25hRequirement already satisfied: jinja2>=1.2 in /usr/local/lib/python3.9/dist-packages (from pycaret) (3.1.2)\n",
            "Requirement already satisfied: joblib>=1.2.0 in /usr/local/lib/python3.9/dist-packages (from pycaret) (1.2.0)\n",
            "Requirement already satisfied: nbformat>=4.2.0 in /usr/local/lib/python3.9/dist-packages (from pycaret) (5.7.3)\n",
            "Collecting xxhash\n",
            "  Downloading xxhash-3.2.0-cp39-cp39-manylinux_2_17_x86_64.manylinux2014_x86_64.whl (212 kB)\n",
            "\u001b[2K     \u001b[90m━━━━━━━━━━━━━━━━━━━━━━━━━━━━━━━━━━━━━━\u001b[0m \u001b[32m212.2/212.2 KB\u001b[0m \u001b[31m25.2 MB/s\u001b[0m eta \u001b[36m0:00:00\u001b[0m\n",
            "\u001b[?25hCollecting tbats>=1.1.0\n",
            "  Downloading tbats-1.1.2-py3-none-any.whl (43 kB)\n",
            "\u001b[2K     \u001b[90m━━━━━━━━━━━━━━━━━━━━━━━━━━━━━━━━━━━━━━━━\u001b[0m \u001b[32m43.8/43.8 KB\u001b[0m \u001b[31m6.0 MB/s\u001b[0m eta \u001b[36m0:00:00\u001b[0m\n",
            "\u001b[?25hCollecting schemdraw>=0.14\n",
            "  Downloading schemdraw-0.15-py3-none-any.whl (106 kB)\n",
            "\u001b[2K     \u001b[90m━━━━━━━━━━━━━━━━━━━━━━━━━━━━━━━━━━━━━━\u001b[0m \u001b[32m106.8/106.8 KB\u001b[0m \u001b[31m14.3 MB/s\u001b[0m eta \u001b[36m0:00:00\u001b[0m\n",
            "\u001b[?25hRequirement already satisfied: yellowbrick>=1.4 in /usr/local/lib/python3.9/dist-packages (from pycaret) (1.5)\n",
            "Requirement already satisfied: statsmodels>=0.12.1 in /usr/local/lib/python3.9/dist-packages (from pycaret) (0.13.5)\n",
            "Requirement already satisfied: matplotlib>=3.3.0 in /usr/local/lib/python3.9/dist-packages (from pycaret) (3.5.3)\n",
            "Requirement already satisfied: ipywidgets>=7.6.5 in /usr/local/lib/python3.9/dist-packages (from pycaret) (7.7.1)\n",
            "Requirement already satisfied: importlib-metadata>=4.12.0 in /usr/local/lib/python3.9/dist-packages (from pycaret) (6.0.0)\n",
            "Requirement already satisfied: numba>=0.55.0 in /usr/local/lib/python3.9/dist-packages (from pycaret) (0.56.4)\n",
            "Collecting scikit-plot>=0.3.7\n",
            "  Downloading scikit_plot-0.3.7-py3-none-any.whl (33 kB)\n",
            "Collecting kaleido>=0.2.1\n",
            "  Downloading kaleido-0.2.1-py2.py3-none-manylinux1_x86_64.whl (79.9 MB)\n",
            "\u001b[2K     \u001b[90m━━━━━━━━━━━━━━━━━━━━━━━━━━━━━━━━━━━━━━━━\u001b[0m \u001b[32m79.9/79.9 MB\u001b[0m \u001b[31m12.3 MB/s\u001b[0m eta \u001b[36m0:00:00\u001b[0m\n",
            "\u001b[?25hCollecting requests>=2.27.1\n",
            "  Downloading requests-2.28.2-py3-none-any.whl (62 kB)\n",
            "\u001b[2K     \u001b[90m━━━━━━━━━━━━━━━━━━━━━━━━━━━━━━━━━━━━━━━━\u001b[0m \u001b[32m62.8/62.8 KB\u001b[0m \u001b[31m1.7 MB/s\u001b[0m eta \u001b[36m0:00:00\u001b[0m\n",
            "\u001b[?25hCollecting psutil>=5.9.0\n",
            "  Downloading psutil-5.9.4-cp36-abi3-manylinux_2_12_x86_64.manylinux2010_x86_64.manylinux_2_17_x86_64.manylinux2014_x86_64.whl (280 kB)\n",
            "\u001b[2K     \u001b[90m━━━━━━━━━━━━━━━━━━━━━━━━━━━━━━━━━━━━━━\u001b[0m \u001b[32m280.2/280.2 KB\u001b[0m \u001b[31m35.1 MB/s\u001b[0m eta \u001b[36m0:00:00\u001b[0m\n",
            "\u001b[?25hCollecting plotly-resampler>=0.7.2.2\n",
            "  Downloading plotly_resampler-0.8.4rc1.tar.gz (45 kB)\n",
            "\u001b[2K     \u001b[90m━━━━━━━━━━━━━━━━━━━━━━━━━━━━━━━━━━━━━━━━\u001b[0m \u001b[32m45.8/45.8 KB\u001b[0m \u001b[31m6.6 MB/s\u001b[0m eta \u001b[36m0:00:00\u001b[0m\n",
            "\u001b[?25h  Installing build dependencies ... \u001b[?25l\u001b[?25hdone\n",
            "  Getting requirements to build wheel ... \u001b[?25l\u001b[?25hdone\n",
            "  Preparing metadata (pyproject.toml) ... \u001b[?25l\u001b[?25hdone\n",
            "\u001b[33m  WARNING: Requested plotly-resampler>=0.7.2.2 from https://files.pythonhosted.org/packages/d7/5e/71a9e34a36c1855d0c4e30a88405d58c4bbbe7ece802b188628a643f2cda/plotly_resampler-0.8.4rc1.tar.gz#sha256=154ebffa9778813fe457ac9112e71e085ac283644a1e26b869bd5c6b7bf064a2 (from pycaret), but installing version 0.8.4rc1\u001b[0m\u001b[33m\n",
            "\u001b[0mRequirement already satisfied: tqdm>=4.62.0 in /usr/local/lib/python3.9/dist-packages (from pycaret) (4.65.0)\n",
            "Collecting pmdarima!=1.8.1,<3.0.0,>=1.8.0\n",
            "  Downloading pmdarima-2.0.2-cp39-cp39-manylinux_2_17_x86_64.manylinux2014_x86_64.manylinux_2_28_x86_64.whl (1.9 MB)\n",
            "\u001b[2K     \u001b[90m━━━━━━━━━━━━━━━━━━━━━━━━━━━━━━━━━━━━━━━━\u001b[0m \u001b[32m1.9/1.9 MB\u001b[0m \u001b[31m63.3 MB/s\u001b[0m eta \u001b[36m0:00:00\u001b[0m\n",
            "\u001b[?25hRequirement already satisfied: numpy<1.25,>=1.21 in /usr/local/lib/python3.9/dist-packages (from pycaret) (1.22.4)\n",
            "Requirement already satisfied: cloudpickle in /usr/local/lib/python3.9/dist-packages (from pycaret) (2.2.1)\n",
            "Requirement already satisfied: patsy>=0.5.1 in /usr/local/lib/python3.9/dist-packages (from category-encoders>=2.4.0->pycaret) (0.5.3)\n",
            "Requirement already satisfied: packaging in /usr/local/lib/python3.9/dist-packages (from deprecation>=2.1.0->pycaret) (23.0)\n",
            "Requirement already satisfied: zipp>=0.5 in /usr/local/lib/python3.9/dist-packages (from importlib-metadata>=4.12.0->pycaret) (3.15.0)\n",
            "Requirement already satisfied: backcall in /usr/local/lib/python3.9/dist-packages (from ipython>=5.5.0->pycaret) (0.2.0)\n",
            "Requirement already satisfied: pygments in /usr/local/lib/python3.9/dist-packages (from ipython>=5.5.0->pycaret) (2.6.1)\n",
            "Requirement already satisfied: setuptools>=18.5 in /usr/local/lib/python3.9/dist-packages (from ipython>=5.5.0->pycaret) (57.4.0)\n",
            "Requirement already satisfied: pexpect in /usr/local/lib/python3.9/dist-packages (from ipython>=5.5.0->pycaret) (4.8.0)\n",
            "Requirement already satisfied: pickleshare in /usr/local/lib/python3.9/dist-packages (from ipython>=5.5.0->pycaret) (0.7.5)\n",
            "Requirement already satisfied: traitlets>=4.2 in /usr/local/lib/python3.9/dist-packages (from ipython>=5.5.0->pycaret) (5.7.1)\n",
            "Requirement already satisfied: decorator in /usr/local/lib/python3.9/dist-packages (from ipython>=5.5.0->pycaret) (4.4.2)\n",
            "Collecting jedi>=0.10\n",
            "  Downloading jedi-0.18.2-py2.py3-none-any.whl (1.6 MB)\n",
            "\u001b[2K     \u001b[90m━━━━━━━━━━━━━━━━━━━━━━━━━━━━━━━━━━━━━━━━\u001b[0m \u001b[32m1.6/1.6 MB\u001b[0m \u001b[31m72.9 MB/s\u001b[0m eta \u001b[36m0:00:00\u001b[0m\n",
            "\u001b[?25hRequirement already satisfied: prompt-toolkit<2.1.0,>=2.0.0 in /usr/local/lib/python3.9/dist-packages (from ipython>=5.5.0->pycaret) (2.0.10)\n",
            "Requirement already satisfied: ipython-genutils~=0.2.0 in /usr/local/lib/python3.9/dist-packages (from ipywidgets>=7.6.5->pycaret) (0.2.0)\n",
            "Requirement already satisfied: ipykernel>=4.5.1 in /usr/local/lib/python3.9/dist-packages (from ipywidgets>=7.6.5->pycaret) (5.3.4)\n",
            "Requirement already satisfied: widgetsnbextension~=3.6.0 in /usr/local/lib/python3.9/dist-packages (from ipywidgets>=7.6.5->pycaret) (3.6.2)\n",
            "Requirement already satisfied: jupyterlab-widgets>=1.0.0 in /usr/local/lib/python3.9/dist-packages (from ipywidgets>=7.6.5->pycaret) (3.0.5)\n",
            "Requirement already satisfied: wheel in /usr/local/lib/python3.9/dist-packages (from lightgbm>=3.0.0->pycaret) (0.38.4)\n",
            "Requirement already satisfied: fonttools>=4.22.0 in /usr/local/lib/python3.9/dist-packages (from matplotlib>=3.3.0->pycaret) (4.39.0)\n",
            "Requirement already satisfied: cycler>=0.10 in /usr/local/lib/python3.9/dist-packages (from matplotlib>=3.3.0->pycaret) (0.11.0)\n",
            "Requirement already satisfied: pyparsing>=2.2.1 in /usr/local/lib/python3.9/dist-packages (from matplotlib>=3.3.0->pycaret) (3.0.9)\n",
            "Requirement already satisfied: python-dateutil>=2.7 in /usr/local/lib/python3.9/dist-packages (from matplotlib>=3.3.0->pycaret) (2.8.2)\n",
            "Requirement already satisfied: pillow>=6.2.0 in /usr/local/lib/python3.9/dist-packages (from matplotlib>=3.3.0->pycaret) (8.4.0)\n",
            "Requirement already satisfied: kiwisolver>=1.0.1 in /usr/local/lib/python3.9/dist-packages (from matplotlib>=3.3.0->pycaret) (1.4.4)\n",
            "Requirement already satisfied: jupyter-core in /usr/local/lib/python3.9/dist-packages (from nbformat>=4.2.0->pycaret) (5.2.0)\n",
            "Requirement already satisfied: jsonschema>=2.6 in /usr/local/lib/python3.9/dist-packages (from nbformat>=4.2.0->pycaret) (4.3.3)\n",
            "Requirement already satisfied: fastjsonschema in /usr/local/lib/python3.9/dist-packages (from nbformat>=4.2.0->pycaret) (2.16.3)\n",
            "Requirement already satisfied: llvmlite<0.40,>=0.39.0dev0 in /usr/local/lib/python3.9/dist-packages (from numba>=0.55.0->pycaret) (0.39.1)\n",
            "Requirement already satisfied: pytz>=2017.3 in /usr/local/lib/python3.9/dist-packages (from pandas<1.6.0,>=1.3.0->pycaret) (2022.7.1)\n",
            "Requirement already satisfied: six in /usr/local/lib/python3.9/dist-packages (from plotly>=5.0.0->pycaret) (1.15.0)\n",
            "Requirement already satisfied: tenacity>=6.2.0 in /usr/local/lib/python3.9/dist-packages (from plotly>=5.0.0->pycaret) (8.2.2)\n",
            "Collecting dash<3.0.0,>=2.2.0\n",
            "  Downloading dash-2.8.1-py3-none-any.whl (9.9 MB)\n",
            "\u001b[2K     \u001b[90m━━━━━━━━━━━━━━━━━━━━━━━━━━━━━━━━━━━━━━━━\u001b[0m \u001b[32m9.9/9.9 MB\u001b[0m \u001b[31m57.8 MB/s\u001b[0m eta \u001b[36m0:00:00\u001b[0m\n",
            "\u001b[?25hCollecting trace-updater>=0.0.8\n",
            "  Downloading trace_updater-0.0.9-py3-none-any.whl (185 kB)\n",
            "\u001b[2K     \u001b[90m━━━━━━━━━━━━━━━━━━━━━━━━━━━━━━━━━━━━━━\u001b[0m \u001b[32m185.1/185.1 KB\u001b[0m \u001b[31m22.0 MB/s\u001b[0m eta \u001b[36m0:00:00\u001b[0m\n",
            "\u001b[?25hCollecting jupyter-dash>=0.4.2\n",
            "  Downloading jupyter_dash-0.4.2-py3-none-any.whl (23 kB)\n",
            "Collecting Werkzeug<=2.1.2\n",
            "  Downloading Werkzeug-2.1.2-py3-none-any.whl (224 kB)\n",
            "\u001b[2K     \u001b[90m━━━━━━━━━━━━━━━━━━━━━━━━━━━━━━━━━━━━━━\u001b[0m \u001b[32m224.9/224.9 KB\u001b[0m \u001b[31m24.0 MB/s\u001b[0m eta \u001b[36m0:00:00\u001b[0m\n",
            "\u001b[?25hCollecting orjson<4.0.0,>=3.8.0\n",
            "  Downloading orjson-3.8.7-cp39-cp39-manylinux_2_28_x86_64.whl (140 kB)\n",
            "\u001b[2K     \u001b[90m━━━━━━━━━━━━━━━━━━━━━━━━━━━━━━━━━━━━━━\u001b[0m \u001b[32m140.9/140.9 KB\u001b[0m \u001b[31m15.1 MB/s\u001b[0m eta \u001b[36m0:00:00\u001b[0m\n",
            "\u001b[?25hCollecting Flask-Cors<4.0.0,>=3.0.10\n",
            "  Downloading Flask_Cors-3.0.10-py2.py3-none-any.whl (14 kB)\n",
            "Requirement already satisfied: urllib3 in /usr/local/lib/python3.9/dist-packages (from pmdarima!=1.8.1,<3.0.0,>=1.8.0->pycaret) (1.26.14)\n",
            "Requirement already satisfied: Cython!=0.29.18,!=0.29.31,>=0.29 in /usr/local/lib/python3.9/dist-packages (from pmdarima!=1.8.1,<3.0.0,>=1.8.0->pycaret) (0.29.33)\n",
            "Collecting charset-normalizer<4,>=2\n",
            "  Downloading charset_normalizer-3.1.0-cp39-cp39-manylinux_2_17_x86_64.manylinux2014_x86_64.whl (199 kB)\n",
            "\u001b[2K     \u001b[90m━━━━━━━━━━━━━━━━━━━━━━━━━━━━━━━━━━━━━━\u001b[0m \u001b[32m199.2/199.2 KB\u001b[0m \u001b[31m21.3 MB/s\u001b[0m eta \u001b[36m0:00:00\u001b[0m\n",
            "\u001b[?25hRequirement already satisfied: certifi>=2017.4.17 in /usr/local/lib/python3.9/dist-packages (from requests>=2.27.1->pycaret) (2022.12.7)\n",
            "Requirement already satisfied: idna<4,>=2.5 in /usr/local/lib/python3.9/dist-packages (from requests>=2.27.1->pycaret) (2.10)\n",
            "Requirement already satisfied: threadpoolctl>=2.0.0 in /usr/local/lib/python3.9/dist-packages (from scikit-learn>=1.0->pycaret) (3.1.0)\n",
            "Collecting deprecated>=1.2.13\n",
            "  Downloading Deprecated-1.2.13-py2.py3-none-any.whl (9.6 kB)\n",
            "Requirement already satisfied: Flask>=1.0.4 in /usr/local/lib/python3.9/dist-packages (from dash<3.0.0,>=2.2.0->plotly-resampler>=0.7.2.2->pycaret) (2.2.3)\n",
            "Collecting dash-core-components==2.0.0\n",
            "  Downloading dash_core_components-2.0.0-py3-none-any.whl (3.8 kB)\n",
            "Collecting dash-html-components==2.0.0\n",
            "  Downloading dash_html_components-2.0.0-py3-none-any.whl (4.1 kB)\n",
            "Collecting dash-table==5.0.0\n",
            "  Downloading dash_table-5.0.0-py3-none-any.whl (3.9 kB)\n",
            "Requirement already satisfied: wrapt<2,>=1.10 in /usr/local/lib/python3.9/dist-packages (from deprecated>=1.2.13->sktime>=0.15.0->pycaret) (1.15.0)\n",
            "Requirement already satisfied: tornado>=4.2 in /usr/local/lib/python3.9/dist-packages (from ipykernel>=4.5.1->ipywidgets>=7.6.5->pycaret) (6.2)\n",
            "Requirement already satisfied: jupyter-client in /usr/local/lib/python3.9/dist-packages (from ipykernel>=4.5.1->ipywidgets>=7.6.5->pycaret) (6.1.12)\n",
            "Requirement already satisfied: parso<0.9.0,>=0.8.0 in /usr/local/lib/python3.9/dist-packages (from jedi>=0.10->ipython>=5.5.0->pycaret) (0.8.3)\n",
            "Requirement already satisfied: attrs>=17.4.0 in /usr/local/lib/python3.9/dist-packages (from jsonschema>=2.6->nbformat>=4.2.0->pycaret) (22.2.0)\n",
            "Requirement already satisfied: pyrsistent!=0.17.0,!=0.17.1,!=0.17.2,>=0.14.0 in /usr/local/lib/python3.9/dist-packages (from jsonschema>=2.6->nbformat>=4.2.0->pycaret) (0.19.3)\n",
            "Collecting ansi2html\n",
            "  Downloading ansi2html-1.9.0rc1-py3-none-any.whl (17 kB)\n",
            "Collecting nest-asyncio\n",
            "  Downloading nest_asyncio-1.5.6-py3-none-any.whl (5.2 kB)\n",
            "Collecting retrying\n",
            "  Downloading retrying-1.3.4-py3-none-any.whl (11 kB)\n",
            "Requirement already satisfied: wcwidth in /usr/local/lib/python3.9/dist-packages (from prompt-toolkit<2.1.0,>=2.0.0->ipython>=5.5.0->pycaret) (0.2.6)\n",
            "Requirement already satisfied: notebook>=4.4.1 in /usr/local/lib/python3.9/dist-packages (from widgetsnbextension~=3.6.0->ipywidgets>=7.6.5->pycaret) (6.3.0)\n",
            "Requirement already satisfied: platformdirs>=2.5 in /usr/local/lib/python3.9/dist-packages (from jupyter-core->nbformat>=4.2.0->pycaret) (3.1.0)\n",
            "Requirement already satisfied: ptyprocess>=0.5 in /usr/local/lib/python3.9/dist-packages (from pexpect->ipython>=5.5.0->pycaret) (0.7.0)\n",
            "Requirement already satisfied: click>=8.0 in /usr/local/lib/python3.9/dist-packages (from Flask>=1.0.4->dash<3.0.0,>=2.2.0->plotly-resampler>=0.7.2.2->pycaret) (8.1.3)\n",
            "Collecting Flask>=1.0.4\n",
            "  Downloading Flask-2.2.2-py3-none-any.whl (101 kB)\n",
            "\u001b[2K     \u001b[90m━━━━━━━━━━━━━━━━━━━━━━━━━━━━━━━━━━━━━━\u001b[0m \u001b[32m101.5/101.5 KB\u001b[0m \u001b[31m13.1 MB/s\u001b[0m eta \u001b[36m0:00:00\u001b[0m\n",
            "\u001b[?25h  Downloading Flask-2.2.1-py3-none-any.whl (101 kB)\n",
            "\u001b[2K     \u001b[90m━━━━━━━━━━━━━━━━━━━━━━━━━━━━━━━━━━━━━━\u001b[0m \u001b[32m101.5/101.5 KB\u001b[0m \u001b[31m15.0 MB/s\u001b[0m eta \u001b[36m0:00:00\u001b[0m\n",
            "\u001b[?25h  Downloading Flask-2.2.0-py3-none-any.whl (101 kB)\n",
            "\u001b[2K     \u001b[90m━━━━━━━━━━━━━━━━━━━━━━━━━━━━━━━━━━━━━━\u001b[0m \u001b[32m101.1/101.1 KB\u001b[0m \u001b[31m14.3 MB/s\u001b[0m eta \u001b[36m0:00:00\u001b[0m\n",
            "\u001b[?25h  Downloading Flask-2.1.3-py3-none-any.whl (95 kB)\n",
            "\u001b[2K     \u001b[90m━━━━━━━━━━━━━━━━━━━━━━━━━━━━━━━━━━━━━━━━\u001b[0m \u001b[32m95.6/95.6 KB\u001b[0m \u001b[31m10.8 MB/s\u001b[0m eta \u001b[36m0:00:00\u001b[0m\n",
            "\u001b[?25hRequirement already satisfied: itsdangerous>=2.0 in /usr/local/lib/python3.9/dist-packages (from Flask>=1.0.4->dash<3.0.0,>=2.2.0->plotly-resampler>=0.7.2.2->pycaret) (2.1.2)\n",
            "Requirement already satisfied: terminado>=0.8.3 in /usr/local/lib/python3.9/dist-packages (from notebook>=4.4.1->widgetsnbextension~=3.6.0->ipywidgets>=7.6.5->pycaret) (0.17.1)\n",
            "Requirement already satisfied: prometheus-client in /usr/local/lib/python3.9/dist-packages (from notebook>=4.4.1->widgetsnbextension~=3.6.0->ipywidgets>=7.6.5->pycaret) (0.16.0)\n",
            "Requirement already satisfied: pyzmq>=17 in /usr/local/lib/python3.9/dist-packages (from notebook>=4.4.1->widgetsnbextension~=3.6.0->ipywidgets>=7.6.5->pycaret) (23.2.1)\n",
            "Requirement already satisfied: Send2Trash>=1.5.0 in /usr/local/lib/python3.9/dist-packages (from notebook>=4.4.1->widgetsnbextension~=3.6.0->ipywidgets>=7.6.5->pycaret) (1.8.0)\n",
            "Requirement already satisfied: nbconvert in /usr/local/lib/python3.9/dist-packages (from notebook>=4.4.1->widgetsnbextension~=3.6.0->ipywidgets>=7.6.5->pycaret) (6.5.4)\n",
            "Requirement already satisfied: argon2-cffi in /usr/local/lib/python3.9/dist-packages (from notebook>=4.4.1->widgetsnbextension~=3.6.0->ipywidgets>=7.6.5->pycaret) (21.3.0)\n",
            "Requirement already satisfied: argon2-cffi-bindings in /usr/local/lib/python3.9/dist-packages (from argon2-cffi->notebook>=4.4.1->widgetsnbextension~=3.6.0->ipywidgets>=7.6.5->pycaret) (21.2.0)\n",
            "Requirement already satisfied: entrypoints>=0.2.2 in /usr/local/lib/python3.9/dist-packages (from nbconvert->notebook>=4.4.1->widgetsnbextension~=3.6.0->ipywidgets>=7.6.5->pycaret) (0.4)\n",
            "Requirement already satisfied: nbclient>=0.5.0 in /usr/local/lib/python3.9/dist-packages (from nbconvert->notebook>=4.4.1->widgetsnbextension~=3.6.0->ipywidgets>=7.6.5->pycaret) (0.7.2)\n",
            "Requirement already satisfied: defusedxml in /usr/local/lib/python3.9/dist-packages (from nbconvert->notebook>=4.4.1->widgetsnbextension~=3.6.0->ipywidgets>=7.6.5->pycaret) (0.7.1)\n",
            "Requirement already satisfied: pandocfilters>=1.4.1 in /usr/local/lib/python3.9/dist-packages (from nbconvert->notebook>=4.4.1->widgetsnbextension~=3.6.0->ipywidgets>=7.6.5->pycaret) (1.5.0)\n",
            "Requirement already satisfied: mistune<2,>=0.8.1 in /usr/local/lib/python3.9/dist-packages (from nbconvert->notebook>=4.4.1->widgetsnbextension~=3.6.0->ipywidgets>=7.6.5->pycaret) (0.8.4)\n",
            "Requirement already satisfied: bleach in /usr/local/lib/python3.9/dist-packages (from nbconvert->notebook>=4.4.1->widgetsnbextension~=3.6.0->ipywidgets>=7.6.5->pycaret) (6.0.0)\n",
            "Requirement already satisfied: beautifulsoup4 in /usr/local/lib/python3.9/dist-packages (from nbconvert->notebook>=4.4.1->widgetsnbextension~=3.6.0->ipywidgets>=7.6.5->pycaret) (4.6.3)\n",
            "Requirement already satisfied: tinycss2 in /usr/local/lib/python3.9/dist-packages (from nbconvert->notebook>=4.4.1->widgetsnbextension~=3.6.0->ipywidgets>=7.6.5->pycaret) (1.2.1)\n",
            "Requirement already satisfied: jupyterlab-pygments in /usr/local/lib/python3.9/dist-packages (from nbconvert->notebook>=4.4.1->widgetsnbextension~=3.6.0->ipywidgets>=7.6.5->pycaret) (0.2.2)\n",
            "Requirement already satisfied: lxml in /usr/local/lib/python3.9/dist-packages (from nbconvert->notebook>=4.4.1->widgetsnbextension~=3.6.0->ipywidgets>=7.6.5->pycaret) (4.9.2)\n",
            "Requirement already satisfied: cffi>=1.0.1 in /usr/local/lib/python3.9/dist-packages (from argon2-cffi-bindings->argon2-cffi->notebook>=4.4.1->widgetsnbextension~=3.6.0->ipywidgets>=7.6.5->pycaret) (1.15.1)\n",
            "Requirement already satisfied: webencodings in /usr/local/lib/python3.9/dist-packages (from bleach->nbconvert->notebook>=4.4.1->widgetsnbextension~=3.6.0->ipywidgets>=7.6.5->pycaret) (0.5.1)\n",
            "Requirement already satisfied: pycparser in /usr/local/lib/python3.9/dist-packages (from cffi>=1.0.1->argon2-cffi-bindings->argon2-cffi->notebook>=4.4.1->widgetsnbextension~=3.6.0->ipywidgets>=7.6.5->pycaret) (2.21)\n",
            "Building wheels for collected packages: plotly-resampler, pyod\n",
            "  Building wheel for plotly-resampler (pyproject.toml) ... \u001b[?25l\u001b[?25hdone\n",
            "  Created wheel for plotly-resampler: filename=plotly_resampler-0.8.4rc1-cp39-cp39-manylinux_2_31_x86_64.whl size=74541 sha256=942382106a9bbb5d653d53a046ee765b1b5805f4a355be0470de9ea73d208a67\n",
            "  Stored in directory: /root/.cache/pip/wheels/86/7b/c2/9bb757e94d5d5d7037b680c4455023740fcf287c6b20707a26\n",
            "  Building wheel for pyod (setup.py) ... \u001b[?25l\u001b[?25hdone\n",
            "  Created wheel for pyod: filename=pyod-1.0.8-py3-none-any.whl size=184055 sha256=648fe10e77be1af27ebbcb7ab343c99f7703a4a4a180c1c773a8d865ae748abf\n",
            "  Stored in directory: /root/.cache/pip/wheels/90/2b/16/c9baeb5fcd94a8a5bc4ea786fef2122f5b9ab3a61a7fc0303a\n",
            "Successfully built plotly-resampler pyod\n",
            "Installing collected packages: trace-updater, kaleido, dash-table, dash-html-components, dash-core-components, xxhash, Werkzeug, schemdraw, retrying, psutil, orjson, nest-asyncio, jedi, deprecation, deprecated, charset-normalizer, ansi2html, requests, Flask, sktime, scikit-plot, pyod, lightgbm, Flask-Cors, dash, pmdarima, jupyter-dash, category-encoders, tbats, plotly-resampler, pycaret\n",
            "  Attempting uninstall: Werkzeug\n",
            "    Found existing installation: Werkzeug 2.2.3\n",
            "    Uninstalling Werkzeug-2.2.3:\n",
            "      Successfully uninstalled Werkzeug-2.2.3\n",
            "  Attempting uninstall: psutil\n",
            "    Found existing installation: psutil 5.4.8\n",
            "    Uninstalling psutil-5.4.8:\n",
            "      Successfully uninstalled psutil-5.4.8\n",
            "  Attempting uninstall: requests\n",
            "    Found existing installation: requests 2.25.1\n",
            "    Uninstalling requests-2.25.1:\n",
            "      Successfully uninstalled requests-2.25.1\n",
            "  Attempting uninstall: Flask\n",
            "    Found existing installation: Flask 2.2.3\n",
            "    Uninstalling Flask-2.2.3:\n",
            "      Successfully uninstalled Flask-2.2.3\n",
            "  Attempting uninstall: lightgbm\n",
            "    Found existing installation: lightgbm 2.2.3\n",
            "    Uninstalling lightgbm-2.2.3:\n",
            "      Successfully uninstalled lightgbm-2.2.3\n",
            "Successfully installed Flask-2.1.3 Flask-Cors-3.0.10 Werkzeug-2.1.2 ansi2html-1.9.0rc1 category-encoders-2.6.0 charset-normalizer-3.1.0 dash-2.8.1 dash-core-components-2.0.0 dash-html-components-2.0.0 dash-table-5.0.0 deprecated-1.2.13 deprecation-2.1.0 jedi-0.18.2 jupyter-dash-0.4.2 kaleido-0.2.1 lightgbm-3.3.5 nest-asyncio-1.5.6 orjson-3.8.7 plotly-resampler-0.8.4rc1 pmdarima-2.0.2 psutil-5.9.4 pycaret-3.0.0rc9 pyod-1.0.8 requests-2.28.2 retrying-1.3.4 schemdraw-0.15 scikit-plot-0.3.7 sktime-0.16.1 tbats-1.1.2 trace-updater-0.0.9 xxhash-3.2.0\n"
          ]
        },
        {
          "output_type": "display_data",
          "data": {
            "application/vnd.colab-display-data+json": {
              "pip_warning": {
                "packages": [
                  "psutil",
                  "requests"
                ]
              }
            }
          },
          "metadata": {}
        }
      ]
    },
    {
      "cell_type": "code",
      "source": [
        "# Libraries and modules Installation:\n",
        "!pip install yellowbrick"
      ],
      "metadata": {
        "id": "5ExymnuLG1cF",
        "colab": {
          "base_uri": "https://localhost:8080/"
        },
        "outputId": "e2984ea4-b77c-4de0-d1c8-e756653455f6"
      },
      "execution_count": 4,
      "outputs": [
        {
          "output_type": "stream",
          "name": "stdout",
          "text": [
            "Looking in indexes: https://pypi.org/simple, https://us-python.pkg.dev/colab-wheels/public/simple/\n",
            "Requirement already satisfied: yellowbrick in /usr/local/lib/python3.9/dist-packages (1.5)\n",
            "Requirement already satisfied: scipy>=1.0.0 in /usr/local/lib/python3.9/dist-packages (from yellowbrick) (1.10.1)\n",
            "Requirement already satisfied: matplotlib!=3.0.0,>=2.0.2 in /usr/local/lib/python3.9/dist-packages (from yellowbrick) (3.5.3)\n",
            "Requirement already satisfied: cycler>=0.10.0 in /usr/local/lib/python3.9/dist-packages (from yellowbrick) (0.11.0)\n",
            "Requirement already satisfied: numpy>=1.16.0 in /usr/local/lib/python3.9/dist-packages (from yellowbrick) (1.22.4)\n",
            "Requirement already satisfied: scikit-learn>=1.0.0 in /usr/local/lib/python3.9/dist-packages (from yellowbrick) (1.2.2)\n",
            "Requirement already satisfied: packaging>=20.0 in /usr/local/lib/python3.9/dist-packages (from matplotlib!=3.0.0,>=2.0.2->yellowbrick) (23.0)\n",
            "Requirement already satisfied: fonttools>=4.22.0 in /usr/local/lib/python3.9/dist-packages (from matplotlib!=3.0.0,>=2.0.2->yellowbrick) (4.39.0)\n",
            "Requirement already satisfied: pillow>=6.2.0 in /usr/local/lib/python3.9/dist-packages (from matplotlib!=3.0.0,>=2.0.2->yellowbrick) (8.4.0)\n",
            "Requirement already satisfied: kiwisolver>=1.0.1 in /usr/local/lib/python3.9/dist-packages (from matplotlib!=3.0.0,>=2.0.2->yellowbrick) (1.4.4)\n",
            "Requirement already satisfied: python-dateutil>=2.7 in /usr/local/lib/python3.9/dist-packages (from matplotlib!=3.0.0,>=2.0.2->yellowbrick) (2.8.2)\n",
            "Requirement already satisfied: pyparsing>=2.2.1 in /usr/local/lib/python3.9/dist-packages (from matplotlib!=3.0.0,>=2.0.2->yellowbrick) (3.0.9)\n",
            "Requirement already satisfied: threadpoolctl>=2.0.0 in /usr/local/lib/python3.9/dist-packages (from scikit-learn>=1.0.0->yellowbrick) (3.1.0)\n",
            "Requirement already satisfied: joblib>=1.1.1 in /usr/local/lib/python3.9/dist-packages (from scikit-learn>=1.0.0->yellowbrick) (1.2.0)\n",
            "Requirement already satisfied: six>=1.5 in /usr/local/lib/python3.9/dist-packages (from python-dateutil>=2.7->matplotlib!=3.0.0,>=2.0.2->yellowbrick) (1.15.0)\n"
          ]
        }
      ]
    },
    {
      "cell_type": "code",
      "source": [
        "# !curl https://raw.githubusercontent.com/automl/auto-sklearn/master/requirements.txt | xargs -n 1 -L 1 pip install"
      ],
      "metadata": {
        "id": "L6arEPEePBkD"
      },
      "execution_count": 5,
      "outputs": []
    },
    {
      "cell_type": "code",
      "source": [
        "# !pip install tpot"
      ],
      "metadata": {
        "id": "Vi0-W-WBOaPn"
      },
      "execution_count": 6,
      "outputs": []
    },
    {
      "cell_type": "code",
      "source": [
        "# !curl https://raw.githubusercontent.com/EpistasisLab/tpot/master/requirements.txt | xargs -n 1 -L 1 pip install"
      ],
      "metadata": {
        "id": "d1Tt1XfnPHVM"
      },
      "execution_count": 7,
      "outputs": []
    },
    {
      "cell_type": "code",
      "source": [
        "# !pip install flaml"
      ],
      "metadata": {
        "id": "OJNJZJW4PIRp"
      },
      "execution_count": 8,
      "outputs": []
    },
    {
      "cell_type": "code",
      "source": [
        "# !pip install interpret"
      ],
      "metadata": {
        "id": "b34LMs2mUwd7"
      },
      "execution_count": 9,
      "outputs": []
    },
    {
      "cell_type": "code",
      "source": [
        "!pip install auto-sklearn"
      ],
      "metadata": {
        "colab": {
          "base_uri": "https://localhost:8080/"
        },
        "id": "xZ894tJxn_wq",
        "outputId": "4c843c26-2cfa-4087-e45a-1bc8e0465248"
      },
      "execution_count": 10,
      "outputs": [
        {
          "output_type": "stream",
          "name": "stdout",
          "text": [
            "Looking in indexes: https://pypi.org/simple, https://us-python.pkg.dev/colab-wheels/public/simple/\n",
            "Requirement already satisfied: auto-sklearn in /usr/local/lib/python3.9/dist-packages (0.15.0)\n",
            "Requirement already satisfied: joblib in /usr/local/lib/python3.9/dist-packages (from auto-sklearn) (1.2.0)\n",
            "Requirement already satisfied: ConfigSpace<0.5,>=0.4.21 in /usr/local/lib/python3.9/dist-packages (from auto-sklearn) (0.4.21)\n",
            "Requirement already satisfied: pyrfr<0.9,>=0.8.1 in /usr/local/lib/python3.9/dist-packages (from auto-sklearn) (0.8.3)\n",
            "Requirement already satisfied: setuptools in /usr/local/lib/python3.9/dist-packages (from auto-sklearn) (57.4.0)\n",
            "Requirement already satisfied: pandas>=1.0 in /usr/local/lib/python3.9/dist-packages (from auto-sklearn) (1.3.5)\n",
            "Requirement already satisfied: pynisher<0.7,>=0.6.3 in /usr/local/lib/python3.9/dist-packages (from auto-sklearn) (0.6.4)\n",
            "Requirement already satisfied: dask>=2021.12 in /usr/local/lib/python3.9/dist-packages (from auto-sklearn) (2022.2.1)\n",
            "Requirement already satisfied: liac-arff in /usr/local/lib/python3.9/dist-packages (from auto-sklearn) (2.5.0)\n",
            "Requirement already satisfied: smac<1.3,>=1.2 in /usr/local/lib/python3.9/dist-packages (from auto-sklearn) (1.2)\n",
            "Requirement already satisfied: distro in /usr/local/lib/python3.9/dist-packages (from auto-sklearn) (1.8.0)\n",
            "Requirement already satisfied: typing-extensions in /usr/local/lib/python3.9/dist-packages (from auto-sklearn) (4.5.0)\n",
            "Requirement already satisfied: distributed>=2012.12 in /usr/local/lib/python3.9/dist-packages (from auto-sklearn) (2022.2.1)\n",
            "Requirement already satisfied: scipy>=1.7.0 in /usr/local/lib/python3.9/dist-packages (from auto-sklearn) (1.10.1)\n",
            "Requirement already satisfied: pyyaml in /usr/local/lib/python3.9/dist-packages (from auto-sklearn) (6.0)\n",
            "Requirement already satisfied: numpy>=1.9.0 in /usr/local/lib/python3.9/dist-packages (from auto-sklearn) (1.22.4)\n",
            "Collecting scikit-learn<0.25.0,>=0.24.0\n",
            "  Using cached scikit_learn-0.24.2-cp39-cp39-manylinux2010_x86_64.whl (23.8 MB)\n",
            "Requirement already satisfied: threadpoolctl in /usr/local/lib/python3.9/dist-packages (from auto-sklearn) (3.1.0)\n",
            "Requirement already satisfied: cython in /usr/local/lib/python3.9/dist-packages (from ConfigSpace<0.5,>=0.4.21->auto-sklearn) (0.29.33)\n",
            "Requirement already satisfied: pyparsing in /usr/local/lib/python3.9/dist-packages (from ConfigSpace<0.5,>=0.4.21->auto-sklearn) (3.0.9)\n",
            "Requirement already satisfied: packaging>=20.0 in /usr/local/lib/python3.9/dist-packages (from dask>=2021.12->auto-sklearn) (23.0)\n",
            "Requirement already satisfied: toolz>=0.8.2 in /usr/local/lib/python3.9/dist-packages (from dask>=2021.12->auto-sklearn) (0.12.0)\n",
            "Requirement already satisfied: cloudpickle>=1.1.1 in /usr/local/lib/python3.9/dist-packages (from dask>=2021.12->auto-sklearn) (2.2.1)\n",
            "Requirement already satisfied: fsspec>=0.6.0 in /usr/local/lib/python3.9/dist-packages (from dask>=2021.12->auto-sklearn) (2023.3.0)\n",
            "Requirement already satisfied: partd>=0.3.10 in /usr/local/lib/python3.9/dist-packages (from dask>=2021.12->auto-sklearn) (1.3.0)\n",
            "Requirement already satisfied: jinja2 in /usr/local/lib/python3.9/dist-packages (from distributed>=2012.12->auto-sklearn) (3.1.2)\n",
            "Requirement already satisfied: psutil>=5.0 in /usr/local/lib/python3.9/dist-packages (from distributed>=2012.12->auto-sklearn) (5.9.4)\n",
            "Requirement already satisfied: zict>=0.1.3 in /usr/local/lib/python3.9/dist-packages (from distributed>=2012.12->auto-sklearn) (2.2.0)\n",
            "Requirement already satisfied: click>=6.6 in /usr/local/lib/python3.9/dist-packages (from distributed>=2012.12->auto-sklearn) (8.1.3)\n",
            "Requirement already satisfied: tblib>=1.6.0 in /usr/local/lib/python3.9/dist-packages (from distributed>=2012.12->auto-sklearn) (1.7.0)\n",
            "Requirement already satisfied: msgpack>=0.6.0 in /usr/local/lib/python3.9/dist-packages (from distributed>=2012.12->auto-sklearn) (1.0.4)\n",
            "Requirement already satisfied: sortedcontainers!=2.0.0,!=2.0.1 in /usr/local/lib/python3.9/dist-packages (from distributed>=2012.12->auto-sklearn) (2.4.0)\n",
            "Requirement already satisfied: tornado>=6.0.3 in /usr/local/lib/python3.9/dist-packages (from distributed>=2012.12->auto-sklearn) (6.2)\n",
            "Requirement already satisfied: pytz>=2017.3 in /usr/local/lib/python3.9/dist-packages (from pandas>=1.0->auto-sklearn) (2022.7.1)\n",
            "Requirement already satisfied: python-dateutil>=2.7.3 in /usr/local/lib/python3.9/dist-packages (from pandas>=1.0->auto-sklearn) (2.8.2)\n",
            "Requirement already satisfied: emcee>=3.0.0 in /usr/local/lib/python3.9/dist-packages (from smac<1.3,>=1.2->auto-sklearn) (3.1.4)\n",
            "Requirement already satisfied: locket in /usr/local/lib/python3.9/dist-packages (from partd>=0.3.10->dask>=2021.12->auto-sklearn) (1.0.0)\n",
            "Requirement already satisfied: six>=1.5 in /usr/local/lib/python3.9/dist-packages (from python-dateutil>=2.7.3->pandas>=1.0->auto-sklearn) (1.15.0)\n",
            "Requirement already satisfied: heapdict in /usr/local/lib/python3.9/dist-packages (from zict>=0.1.3->distributed>=2012.12->auto-sklearn) (1.0.1)\n",
            "Requirement already satisfied: MarkupSafe>=2.0 in /usr/local/lib/python3.9/dist-packages (from jinja2->distributed>=2012.12->auto-sklearn) (2.1.2)\n",
            "Installing collected packages: scikit-learn\n",
            "  Attempting uninstall: scikit-learn\n",
            "    Found existing installation: scikit-learn 1.2.2\n",
            "    Uninstalling scikit-learn-1.2.2:\n",
            "      Successfully uninstalled scikit-learn-1.2.2\n",
            "\u001b[31mERROR: pip's dependency resolver does not currently take into account all the packages that are installed. This behaviour is the source of the following dependency conflicts.\n",
            "yellowbrick 1.5 requires scikit-learn>=1.0.0, but you have scikit-learn 0.24.2 which is incompatible.\n",
            "pycaret 3.0.0rc9 requires scikit-learn>=1.0, but you have scikit-learn 0.24.2 which is incompatible.\u001b[0m\u001b[31m\n",
            "\u001b[0mSuccessfully installed scikit-learn-0.24.2\n"
          ]
        }
      ]
    },
    {
      "cell_type": "code",
      "source": [
        "# LOAD FUNCTIONS\n",
        "import pandas as pd\n",
        "import seaborn as sns\n",
        "import matplotlib.pyplot as plt\n",
        "import matplotlib.cm as cm\n",
        "import numpy as np\n",
        "\n",
        "import warnings\n",
        "warnings.filterwarnings(\"ignore\")\n",
        "\n",
        "# ----------------------------------PRE-PROCESSING---------------------------\n",
        "\n",
        "from sklearn.preprocessing import StandardScaler, LabelEncoder\n",
        "from sklearn.metrics import silhouette_samples, silhouette_score\n",
        "\n",
        "# ----------------------------------PIPELINE AND MODELS----------------------\n",
        "\n",
        "from sklearn.pipeline import Pipeline\n",
        "from sklearn.cluster import KMeans"
      ],
      "metadata": {
        "id": "9JFC3eVmslLw"
      },
      "execution_count": 1,
      "outputs": []
    },
    {
      "cell_type": "code",
      "source": [
        "# ----------------------------------VISUALIZATION---------------------------\n",
        "from sklearn.manifold import TSNE  \n",
        "from plotly import graph_objs as go\n",
        "plt.style.use(\"ggplot\")\n",
        "plt.rcParams[\"figure.figsize\"] = (12, 8)"
      ],
      "metadata": {
        "id": "VpA9jpd8fp8c"
      },
      "execution_count": 2,
      "outputs": []
    },
    {
      "cell_type": "code",
      "execution_count": 3,
      "metadata": {
        "id": "JNuehC8YnWn3",
        "colab": {
          "base_uri": "https://localhost:8080/",
          "height": 444
        },
        "outputId": "47182613-c5b6-423b-9905-0a2e004ff70c"
      },
      "outputs": [
        {
          "output_type": "stream",
          "name": "stdout",
          "text": [
            "Mounted at /content/drive\n"
          ]
        },
        {
          "output_type": "execute_result",
          "data": {
            "text/plain": [
              "        customer_id  balance_account  purchases_amount  paid_advance  \\\n",
              "0  tGEg8fT2eCgVxdwS         9.298409            107.60      0.000000   \n",
              "1  stEDu20sSKOXomjg        52.666422            150.30      0.000000   \n",
              "2  CEB2blrN3b88GsRe      1360.795674              0.00    462.861443   \n",
              "3  0N0eBl8ySaZThxKE      2021.641161            363.18      0.000000   \n",
              "4  6NLauoHUwtwOv4Wy        22.322374             95.00   1162.045833   \n",
              "5  3Zx75mmL4wXFf36M      9266.080540            100.00   4383.296268   \n",
              "6  VIncqsQDzbMSsvL9        97.389327             60.00      0.000000   \n",
              "7  fDoLh1FTtFMuu3xs      4788.283283              0.00    437.808586   \n",
              "8  OpclyuJ9WGTLImw1       319.037744           1262.28      0.000000   \n",
              "9  k2GbzBNCo0TQmwaw      1641.251218              0.00   2990.165538   \n",
              "\n",
              "   full_purchases  balance_frequency_update  installments  \\\n",
              "0            0.00                  0.909091         107.6   \n",
              "1            0.00                  1.000000         150.3   \n",
              "2            0.00                  1.000000           0.0   \n",
              "3          363.18                  1.000000           0.0   \n",
              "4           95.00                  0.363636           0.0   \n",
              "5            0.00                  1.000000         100.0   \n",
              "6           60.00                  1.000000           0.0   \n",
              "7            0.00                  1.000000           0.0   \n",
              "8         1262.28                  0.818182           0.0   \n",
              "9            0.00                  0.727273           0.0   \n",
              "\n",
              "   purchases_frequency  full_purchases_frequency  \\\n",
              "0             0.909091                  0.000000   \n",
              "1             1.000000                  0.000000   \n",
              "2             0.000000                  0.000000   \n",
              "3             1.000000                  1.000000   \n",
              "4             0.083333                  0.083333   \n",
              "5             0.333333                  0.000000   \n",
              "6             0.083333                  0.083333   \n",
              "7             0.000000                  0.000000   \n",
              "8             0.250000                  0.250000   \n",
              "9             0.000000                  0.000000   \n",
              "\n",
              "   purchases_installments_frequency  cash_advance_frequency  nr_cash_advances  \\\n",
              "0                          0.818182                0.000000                 0   \n",
              "1                          0.833333                0.000000                 0   \n",
              "2                          0.000000                0.272727                 6   \n",
              "3                          0.000000                0.000000                 0   \n",
              "4                          0.000000                0.166667                 3   \n",
              "5                          0.250000                0.166667                 3   \n",
              "6                          0.000000                0.000000                 0   \n",
              "7                          0.000000                0.166667                 2   \n",
              "8                          0.000000                0.000000                 0   \n",
              "9                          0.000000                0.166667                 4   \n",
              "\n",
              "   nr_purchases  credit_limit  fixed_rate_period     payments  min_payments  \\\n",
              "0            10        1000.0                 11    89.868853     89.711672   \n",
              "1             6        1000.0                  6    54.722514     82.955180   \n",
              "2             0        1500.0                 11   303.031979    443.781316   \n",
              "3            13        2000.0                 12   704.240770    795.859808   \n",
              "4             1        2500.0                 12  4094.261427     40.142262   \n",
              "5             4       17500.0                 12  2444.123547   2603.406476   \n",
              "6             1       12500.0                 12   453.421982    204.880010   \n",
              "7             0        5000.0                 12   823.840717   1934.821741   \n",
              "8             6       10500.0                 12  1350.541585    218.810614   \n",
              "9             0        3000.0                 12  4399.723425    500.276155   \n",
              "\n",
              "   full_payment_prc  \n",
              "0          0.428571  \n",
              "1          0.000000  \n",
              "2          0.000000  \n",
              "3          0.000000  \n",
              "4          0.000000  \n",
              "5          0.000000  \n",
              "6          0.000000  \n",
              "7          0.000000  \n",
              "8          0.125000  \n",
              "9          0.142857  "
            ],
            "text/html": [
              "\n",
              "  <div id=\"df-0600d860-f706-41b2-a633-8497c1610872\">\n",
              "    <div class=\"colab-df-container\">\n",
              "      <div>\n",
              "<style scoped>\n",
              "    .dataframe tbody tr th:only-of-type {\n",
              "        vertical-align: middle;\n",
              "    }\n",
              "\n",
              "    .dataframe tbody tr th {\n",
              "        vertical-align: top;\n",
              "    }\n",
              "\n",
              "    .dataframe thead th {\n",
              "        text-align: right;\n",
              "    }\n",
              "</style>\n",
              "<table border=\"1\" class=\"dataframe\">\n",
              "  <thead>\n",
              "    <tr style=\"text-align: right;\">\n",
              "      <th></th>\n",
              "      <th>customer_id</th>\n",
              "      <th>balance_account</th>\n",
              "      <th>purchases_amount</th>\n",
              "      <th>paid_advance</th>\n",
              "      <th>full_purchases</th>\n",
              "      <th>balance_frequency_update</th>\n",
              "      <th>installments</th>\n",
              "      <th>purchases_frequency</th>\n",
              "      <th>full_purchases_frequency</th>\n",
              "      <th>purchases_installments_frequency</th>\n",
              "      <th>cash_advance_frequency</th>\n",
              "      <th>nr_cash_advances</th>\n",
              "      <th>nr_purchases</th>\n",
              "      <th>credit_limit</th>\n",
              "      <th>fixed_rate_period</th>\n",
              "      <th>payments</th>\n",
              "      <th>min_payments</th>\n",
              "      <th>full_payment_prc</th>\n",
              "    </tr>\n",
              "  </thead>\n",
              "  <tbody>\n",
              "    <tr>\n",
              "      <th>0</th>\n",
              "      <td>tGEg8fT2eCgVxdwS</td>\n",
              "      <td>9.298409</td>\n",
              "      <td>107.60</td>\n",
              "      <td>0.000000</td>\n",
              "      <td>0.00</td>\n",
              "      <td>0.909091</td>\n",
              "      <td>107.6</td>\n",
              "      <td>0.909091</td>\n",
              "      <td>0.000000</td>\n",
              "      <td>0.818182</td>\n",
              "      <td>0.000000</td>\n",
              "      <td>0</td>\n",
              "      <td>10</td>\n",
              "      <td>1000.0</td>\n",
              "      <td>11</td>\n",
              "      <td>89.868853</td>\n",
              "      <td>89.711672</td>\n",
              "      <td>0.428571</td>\n",
              "    </tr>\n",
              "    <tr>\n",
              "      <th>1</th>\n",
              "      <td>stEDu20sSKOXomjg</td>\n",
              "      <td>52.666422</td>\n",
              "      <td>150.30</td>\n",
              "      <td>0.000000</td>\n",
              "      <td>0.00</td>\n",
              "      <td>1.000000</td>\n",
              "      <td>150.3</td>\n",
              "      <td>1.000000</td>\n",
              "      <td>0.000000</td>\n",
              "      <td>0.833333</td>\n",
              "      <td>0.000000</td>\n",
              "      <td>0</td>\n",
              "      <td>6</td>\n",
              "      <td>1000.0</td>\n",
              "      <td>6</td>\n",
              "      <td>54.722514</td>\n",
              "      <td>82.955180</td>\n",
              "      <td>0.000000</td>\n",
              "    </tr>\n",
              "    <tr>\n",
              "      <th>2</th>\n",
              "      <td>CEB2blrN3b88GsRe</td>\n",
              "      <td>1360.795674</td>\n",
              "      <td>0.00</td>\n",
              "      <td>462.861443</td>\n",
              "      <td>0.00</td>\n",
              "      <td>1.000000</td>\n",
              "      <td>0.0</td>\n",
              "      <td>0.000000</td>\n",
              "      <td>0.000000</td>\n",
              "      <td>0.000000</td>\n",
              "      <td>0.272727</td>\n",
              "      <td>6</td>\n",
              "      <td>0</td>\n",
              "      <td>1500.0</td>\n",
              "      <td>11</td>\n",
              "      <td>303.031979</td>\n",
              "      <td>443.781316</td>\n",
              "      <td>0.000000</td>\n",
              "    </tr>\n",
              "    <tr>\n",
              "      <th>3</th>\n",
              "      <td>0N0eBl8ySaZThxKE</td>\n",
              "      <td>2021.641161</td>\n",
              "      <td>363.18</td>\n",
              "      <td>0.000000</td>\n",
              "      <td>363.18</td>\n",
              "      <td>1.000000</td>\n",
              "      <td>0.0</td>\n",
              "      <td>1.000000</td>\n",
              "      <td>1.000000</td>\n",
              "      <td>0.000000</td>\n",
              "      <td>0.000000</td>\n",
              "      <td>0</td>\n",
              "      <td>13</td>\n",
              "      <td>2000.0</td>\n",
              "      <td>12</td>\n",
              "      <td>704.240770</td>\n",
              "      <td>795.859808</td>\n",
              "      <td>0.000000</td>\n",
              "    </tr>\n",
              "    <tr>\n",
              "      <th>4</th>\n",
              "      <td>6NLauoHUwtwOv4Wy</td>\n",
              "      <td>22.322374</td>\n",
              "      <td>95.00</td>\n",
              "      <td>1162.045833</td>\n",
              "      <td>95.00</td>\n",
              "      <td>0.363636</td>\n",
              "      <td>0.0</td>\n",
              "      <td>0.083333</td>\n",
              "      <td>0.083333</td>\n",
              "      <td>0.000000</td>\n",
              "      <td>0.166667</td>\n",
              "      <td>3</td>\n",
              "      <td>1</td>\n",
              "      <td>2500.0</td>\n",
              "      <td>12</td>\n",
              "      <td>4094.261427</td>\n",
              "      <td>40.142262</td>\n",
              "      <td>0.000000</td>\n",
              "    </tr>\n",
              "    <tr>\n",
              "      <th>5</th>\n",
              "      <td>3Zx75mmL4wXFf36M</td>\n",
              "      <td>9266.080540</td>\n",
              "      <td>100.00</td>\n",
              "      <td>4383.296268</td>\n",
              "      <td>0.00</td>\n",
              "      <td>1.000000</td>\n",
              "      <td>100.0</td>\n",
              "      <td>0.333333</td>\n",
              "      <td>0.000000</td>\n",
              "      <td>0.250000</td>\n",
              "      <td>0.166667</td>\n",
              "      <td>3</td>\n",
              "      <td>4</td>\n",
              "      <td>17500.0</td>\n",
              "      <td>12</td>\n",
              "      <td>2444.123547</td>\n",
              "      <td>2603.406476</td>\n",
              "      <td>0.000000</td>\n",
              "    </tr>\n",
              "    <tr>\n",
              "      <th>6</th>\n",
              "      <td>VIncqsQDzbMSsvL9</td>\n",
              "      <td>97.389327</td>\n",
              "      <td>60.00</td>\n",
              "      <td>0.000000</td>\n",
              "      <td>60.00</td>\n",
              "      <td>1.000000</td>\n",
              "      <td>0.0</td>\n",
              "      <td>0.083333</td>\n",
              "      <td>0.083333</td>\n",
              "      <td>0.000000</td>\n",
              "      <td>0.000000</td>\n",
              "      <td>0</td>\n",
              "      <td>1</td>\n",
              "      <td>12500.0</td>\n",
              "      <td>12</td>\n",
              "      <td>453.421982</td>\n",
              "      <td>204.880010</td>\n",
              "      <td>0.000000</td>\n",
              "    </tr>\n",
              "    <tr>\n",
              "      <th>7</th>\n",
              "      <td>fDoLh1FTtFMuu3xs</td>\n",
              "      <td>4788.283283</td>\n",
              "      <td>0.00</td>\n",
              "      <td>437.808586</td>\n",
              "      <td>0.00</td>\n",
              "      <td>1.000000</td>\n",
              "      <td>0.0</td>\n",
              "      <td>0.000000</td>\n",
              "      <td>0.000000</td>\n",
              "      <td>0.000000</td>\n",
              "      <td>0.166667</td>\n",
              "      <td>2</td>\n",
              "      <td>0</td>\n",
              "      <td>5000.0</td>\n",
              "      <td>12</td>\n",
              "      <td>823.840717</td>\n",
              "      <td>1934.821741</td>\n",
              "      <td>0.000000</td>\n",
              "    </tr>\n",
              "    <tr>\n",
              "      <th>8</th>\n",
              "      <td>OpclyuJ9WGTLImw1</td>\n",
              "      <td>319.037744</td>\n",
              "      <td>1262.28</td>\n",
              "      <td>0.000000</td>\n",
              "      <td>1262.28</td>\n",
              "      <td>0.818182</td>\n",
              "      <td>0.0</td>\n",
              "      <td>0.250000</td>\n",
              "      <td>0.250000</td>\n",
              "      <td>0.000000</td>\n",
              "      <td>0.000000</td>\n",
              "      <td>0</td>\n",
              "      <td>6</td>\n",
              "      <td>10500.0</td>\n",
              "      <td>12</td>\n",
              "      <td>1350.541585</td>\n",
              "      <td>218.810614</td>\n",
              "      <td>0.125000</td>\n",
              "    </tr>\n",
              "    <tr>\n",
              "      <th>9</th>\n",
              "      <td>k2GbzBNCo0TQmwaw</td>\n",
              "      <td>1641.251218</td>\n",
              "      <td>0.00</td>\n",
              "      <td>2990.165538</td>\n",
              "      <td>0.00</td>\n",
              "      <td>0.727273</td>\n",
              "      <td>0.0</td>\n",
              "      <td>0.000000</td>\n",
              "      <td>0.000000</td>\n",
              "      <td>0.000000</td>\n",
              "      <td>0.166667</td>\n",
              "      <td>4</td>\n",
              "      <td>0</td>\n",
              "      <td>3000.0</td>\n",
              "      <td>12</td>\n",
              "      <td>4399.723425</td>\n",
              "      <td>500.276155</td>\n",
              "      <td>0.142857</td>\n",
              "    </tr>\n",
              "  </tbody>\n",
              "</table>\n",
              "</div>\n",
              "      <button class=\"colab-df-convert\" onclick=\"convertToInteractive('df-0600d860-f706-41b2-a633-8497c1610872')\"\n",
              "              title=\"Convert this dataframe to an interactive table.\"\n",
              "              style=\"display:none;\">\n",
              "        \n",
              "  <svg xmlns=\"http://www.w3.org/2000/svg\" height=\"24px\"viewBox=\"0 0 24 24\"\n",
              "       width=\"24px\">\n",
              "    <path d=\"M0 0h24v24H0V0z\" fill=\"none\"/>\n",
              "    <path d=\"M18.56 5.44l.94 2.06.94-2.06 2.06-.94-2.06-.94-.94-2.06-.94 2.06-2.06.94zm-11 1L8.5 8.5l.94-2.06 2.06-.94-2.06-.94L8.5 2.5l-.94 2.06-2.06.94zm10 10l.94 2.06.94-2.06 2.06-.94-2.06-.94-.94-2.06-.94 2.06-2.06.94z\"/><path d=\"M17.41 7.96l-1.37-1.37c-.4-.4-.92-.59-1.43-.59-.52 0-1.04.2-1.43.59L10.3 9.45l-7.72 7.72c-.78.78-.78 2.05 0 2.83L4 21.41c.39.39.9.59 1.41.59.51 0 1.02-.2 1.41-.59l7.78-7.78 2.81-2.81c.8-.78.8-2.07 0-2.86zM5.41 20L4 18.59l7.72-7.72 1.47 1.35L5.41 20z\"/>\n",
              "  </svg>\n",
              "      </button>\n",
              "      \n",
              "  <style>\n",
              "    .colab-df-container {\n",
              "      display:flex;\n",
              "      flex-wrap:wrap;\n",
              "      gap: 12px;\n",
              "    }\n",
              "\n",
              "    .colab-df-convert {\n",
              "      background-color: #E8F0FE;\n",
              "      border: none;\n",
              "      border-radius: 50%;\n",
              "      cursor: pointer;\n",
              "      display: none;\n",
              "      fill: #1967D2;\n",
              "      height: 32px;\n",
              "      padding: 0 0 0 0;\n",
              "      width: 32px;\n",
              "    }\n",
              "\n",
              "    .colab-df-convert:hover {\n",
              "      background-color: #E2EBFA;\n",
              "      box-shadow: 0px 1px 2px rgba(60, 64, 67, 0.3), 0px 1px 3px 1px rgba(60, 64, 67, 0.15);\n",
              "      fill: #174EA6;\n",
              "    }\n",
              "\n",
              "    [theme=dark] .colab-df-convert {\n",
              "      background-color: #3B4455;\n",
              "      fill: #D2E3FC;\n",
              "    }\n",
              "\n",
              "    [theme=dark] .colab-df-convert:hover {\n",
              "      background-color: #434B5C;\n",
              "      box-shadow: 0px 1px 3px 1px rgba(0, 0, 0, 0.15);\n",
              "      filter: drop-shadow(0px 1px 2px rgba(0, 0, 0, 0.3));\n",
              "      fill: #FFFFFF;\n",
              "    }\n",
              "  </style>\n",
              "\n",
              "      <script>\n",
              "        const buttonEl =\n",
              "          document.querySelector('#df-0600d860-f706-41b2-a633-8497c1610872 button.colab-df-convert');\n",
              "        buttonEl.style.display =\n",
              "          google.colab.kernel.accessAllowed ? 'block' : 'none';\n",
              "\n",
              "        async function convertToInteractive(key) {\n",
              "          const element = document.querySelector('#df-0600d860-f706-41b2-a633-8497c1610872');\n",
              "          const dataTable =\n",
              "            await google.colab.kernel.invokeFunction('convertToInteractive',\n",
              "                                                     [key], {});\n",
              "          if (!dataTable) return;\n",
              "\n",
              "          const docLinkHtml = 'Like what you see? Visit the ' +\n",
              "            '<a target=\"_blank\" href=https://colab.research.google.com/notebooks/data_table.ipynb>data table notebook</a>'\n",
              "            + ' to learn more about interactive tables.';\n",
              "          element.innerHTML = '';\n",
              "          dataTable['output_type'] = 'display_data';\n",
              "          await google.colab.output.renderOutput(dataTable, element);\n",
              "          const docLink = document.createElement('div');\n",
              "          docLink.innerHTML = docLinkHtml;\n",
              "          element.appendChild(docLink);\n",
              "        }\n",
              "      </script>\n",
              "    </div>\n",
              "  </div>\n",
              "  "
            ]
          },
          "metadata": {},
          "execution_count": 3
        }
      ],
      "source": [
        "# LOAD DATA\n",
        "from google.colab import drive\n",
        "drive.mount('/content/drive')\n",
        "\n",
        "df = pd.read_csv('drive/MyDrive/ML_group challenge/card_transactions (1).csv')\n",
        "\n",
        "df.drop_duplicates().head(10)"
      ]
    },
    {
      "cell_type": "code",
      "source": [
        "df.info()"
      ],
      "metadata": {
        "colab": {
          "base_uri": "https://localhost:8080/"
        },
        "id": "uD-wW6-soZjn",
        "outputId": "cccfb848-a8ca-44cf-b50d-1a7189b2df06"
      },
      "execution_count": 4,
      "outputs": [
        {
          "output_type": "stream",
          "name": "stdout",
          "text": [
            "<class 'pandas.core.frame.DataFrame'>\n",
            "RangeIndex: 8500 entries, 0 to 8499\n",
            "Data columns (total 18 columns):\n",
            " #   Column                            Non-Null Count  Dtype  \n",
            "---  ------                            --------------  -----  \n",
            " 0   customer_id                       8500 non-null   object \n",
            " 1   balance_account                   8500 non-null   float64\n",
            " 2   purchases_amount                  8500 non-null   float64\n",
            " 3   paid_advance                      8500 non-null   float64\n",
            " 4   full_purchases                    8500 non-null   float64\n",
            " 5   balance_frequency_update          8500 non-null   float64\n",
            " 6   installments                      8500 non-null   float64\n",
            " 7   purchases_frequency               8500 non-null   float64\n",
            " 8   full_purchases_frequency          8500 non-null   float64\n",
            " 9   purchases_installments_frequency  8500 non-null   float64\n",
            " 10  cash_advance_frequency            8500 non-null   float64\n",
            " 11  nr_cash_advances                  8500 non-null   int64  \n",
            " 12  nr_purchases                      8500 non-null   int64  \n",
            " 13  credit_limit                      8499 non-null   float64\n",
            " 14  fixed_rate_period                 8500 non-null   int64  \n",
            " 15  payments                          8500 non-null   float64\n",
            " 16  min_payments                      8202 non-null   float64\n",
            " 17  full_payment_prc                  8500 non-null   float64\n",
            "dtypes: float64(14), int64(3), object(1)\n",
            "memory usage: 1.2+ MB\n"
          ]
        }
      ]
    },
    {
      "cell_type": "code",
      "source": [
        "df['customer_id'].drop_duplicates().shape"
      ],
      "metadata": {
        "colab": {
          "base_uri": "https://localhost:8080/"
        },
        "id": "oYkKwlL7ou9l",
        "outputId": "439c69df-2fea-4796-d892-47d187b96bb9"
      },
      "execution_count": 15,
      "outputs": [
        {
          "output_type": "execute_result",
          "data": {
            "text/plain": [
              "(8500,)"
            ]
          },
          "metadata": {},
          "execution_count": 15
        }
      ]
    },
    {
      "cell_type": "code",
      "source": [
        "df.isnull().sum()"
      ],
      "metadata": {
        "colab": {
          "base_uri": "https://localhost:8080/"
        },
        "id": "nMoyk5W-oySL",
        "outputId": "d4ac99df-347d-4861-bbba-64fb2c6d4a13"
      },
      "execution_count": 16,
      "outputs": [
        {
          "output_type": "execute_result",
          "data": {
            "text/plain": [
              "customer_id                           0\n",
              "balance_account                       0\n",
              "purchases_amount                      0\n",
              "paid_advance                          0\n",
              "full_purchases                        0\n",
              "balance_frequency_update              0\n",
              "installments                          0\n",
              "purchases_frequency                   0\n",
              "full_purchases_frequency              0\n",
              "purchases_installments_frequency      0\n",
              "cash_advance_frequency                0\n",
              "nr_cash_advances                      0\n",
              "nr_purchases                          0\n",
              "credit_limit                          1\n",
              "fixed_rate_period                     0\n",
              "payments                              0\n",
              "min_payments                        298\n",
              "full_payment_prc                      0\n",
              "dtype: int64"
            ]
          },
          "metadata": {},
          "execution_count": 16
        }
      ]
    },
    {
      "cell_type": "code",
      "source": [
        "df['min_payments'].describe()"
      ],
      "metadata": {
        "colab": {
          "base_uri": "https://localhost:8080/"
        },
        "id": "cIFB44GuQmbR",
        "outputId": "79a7b3b0-b155-45d9-9f73-0236e8e7773d"
      },
      "execution_count": 17,
      "outputs": [
        {
          "output_type": "execute_result",
          "data": {
            "text/plain": [
              "count     8202.000000\n",
              "mean       865.594683\n",
              "std       2389.297977\n",
              "min          0.019163\n",
              "25%        168.712104\n",
              "50%        310.399040\n",
              "75%        826.426929\n",
              "max      76406.207520\n",
              "Name: min_payments, dtype: float64"
            ]
          },
          "metadata": {},
          "execution_count": 17
        }
      ]
    },
    {
      "cell_type": "code",
      "source": [
        "# Check the distribution of the data \n",
        "ax=df.plot(kind=\"kde\", subplots=True, layout=(6,3), figsize=(20,15))"
      ],
      "metadata": {
        "colab": {
          "base_uri": "https://localhost:8080/",
          "height": 863
        },
        "id": "iqG3WSToq9d7",
        "outputId": "60190579-9a34-4764-cec6-aa7bb36e84b6"
      },
      "execution_count": 18,
      "outputs": [
        {
          "output_type": "display_data",
          "data": {
            "text/plain": [
              "<Figure size 1440x1080 with 18 Axes>"
            ],
            "image/png": "[encoded data removed]"
          },
          "metadata": {}
        }
      ]
    },
    {
      "cell_type": "code",
      "source": [
        "predictors = df.drop('customer_id', axis = 1) \n",
        "scaler = StandardScaler() # Scaling the data so the plot makes sense once it is ploted\n",
        "df_scaled = pd.DataFrame(scaler.fit_transform(predictors), columns=predictors.columns)\n",
        "\n",
        "sns.set(rc={'figure.figsize':(11.7,8.27)})\n",
        "ax = sns.boxplot(data=df_scaled)\n",
        "plt.setp(ax.get_xticklabels(), rotation=90)\n",
        "plt.show()"
      ],
      "metadata": {
        "colab": {
          "base_uri": "https://localhost:8080/",
          "height": 681
        },
        "id": "fhv1veqYAzdh",
        "outputId": "989ab9b3-85e6-44d4-fb4a-bd8aed5ff21c"
      },
      "execution_count": 19,
      "outputs": [
        {
          "output_type": "display_data",
          "data": {
            "text/plain": [
              "<Figure size 842.4x595.44 with 1 Axes>"
            ],
            "image/png": "[encoded data removed]"
          },
          "metadata": {}
        }
      ]
    },
    {
      "cell_type": "code",
      "source": [
        "corr = df.corr() # computing correlation values\n",
        "fig, ax = plt.subplots(figsize=(40, 40)) # setting up the empty plot to use next\n",
        "\n",
        "# Assembly of the heatmap:\n",
        "h = sns.heatmap(\n",
        "    corr,\n",
        "    cmap=\"coolwarm\",\n",
        "    vmax=1,\n",
        "    fmt=\".2f\",\n",
        "    annot=True,\n",
        "    center=0,\n",
        "    square=True,\n",
        "    linewidths=0.5,\n",
        "    cbar_kws={\"shrink\": 0.5},\n",
        ")"
      ],
      "metadata": {
        "colab": {
          "base_uri": "https://localhost:8080/",
          "height": 1000
        },
        "id": "nPYwN2tzwx9f",
        "outputId": "74f1a407-062c-4d51-b591-d050e89d22a7"
      },
      "execution_count": 5,
      "outputs": [
        {
          "output_type": "display_data",
          "data": {
            "text/plain": [
              "<Figure size 2880x2880 with 2 Axes>"
            ],
            "image/png": "[encoded data removed]"
          },
          "metadata": {}
        }
      ]
    },
    {
      "cell_type": "code",
      "source": [
        "# upper_tri = corr.where(np.triu(np.ones(corr.shape),k=1).astype(np.bool))\n",
        "# #  print(upper_tri)\n",
        "# to_drop = [column for column in upper_tri.columns if any(upper_tri[column] > 0.79)]\n",
        "# print(to_drop)"
      ],
      "metadata": {
        "colab": {
          "base_uri": "https://localhost:8080/"
        },
        "id": "Va189DjY6ZPy",
        "outputId": "296b9342-3aaa-4e70-db25-c8ee822bcbeb"
      },
      "execution_count": 21,
      "outputs": [
        {
          "output_type": "stream",
          "name": "stdout",
          "text": [
            "['full_purchases', 'purchases_installments_frequency', 'nr_cash_advances']\n"
          ]
        }
      ]
    },
    {
      "cell_type": "code",
      "source": [
        "# threshold = 0.79\n",
        "\n",
        "# def high_cor_function(df):\n",
        "#     cor = df.corr()\n",
        "#     corrm = np.corrcoef(df.transpose())\n",
        "#     corr = corrm - np.diagflat(corrm.diagonal())\n",
        "#     print(\"max corr:\",corr.max(), \", min corr: \", corr.min())\n",
        "#     c1 = cor.stack().sort_values(ascending=False).drop_duplicates()\n",
        "#     high_cor = c1[c1.values!=1]    \n",
        "#     thresh = threshold \n",
        "#     display(high_cor[high_cor>thresh])"
      ],
      "metadata": {
        "id": "-oD4w8hG9okE"
      },
      "execution_count": 22,
      "outputs": []
    },
    {
      "cell_type": "code",
      "source": [
        "predictors = df.drop('customer_id', axis = 1) \n",
        "high_cor_function(predictors)"
      ],
      "metadata": {
        "colab": {
          "base_uri": "https://localhost:8080/",
          "height": 104
        },
        "id": "wNUJ_XNl91KV",
        "outputId": "e32cba7e-b151-45cc-c7c0-f9fd187aef8d"
      },
      "execution_count": 23,
      "outputs": [
        {
          "output_type": "stream",
          "name": "stdout",
          "text": [
            "max corr: nan , min corr:  nan\n"
          ]
        },
        {
          "output_type": "display_data",
          "data": {
            "text/plain": [
              "full_purchases                    purchases_amount          0.917602\n",
              "purchases_installments_frequency  purchases_frequency       0.863361\n",
              "nr_cash_advances                  cash_advance_frequency    0.799357\n",
              "dtype: float64"
            ]
          },
          "metadata": {}
        }
      ]
    },
    {
      "cell_type": "code",
      "source": [
        "# df1 = df.drop(['customer_id','full_purchases', 'purchases_installments_frequency', 'cash_advance_frequency'], axis=1)\n",
        "\n",
        "df1 = df.drop(['customer_id'], axis=1)"
      ],
      "metadata": {
        "id": "tWVTOn5X-iL7"
      },
      "execution_count": 6,
      "outputs": []
    },
    {
      "cell_type": "code",
      "source": [
        "df1.shape"
      ],
      "metadata": {
        "colab": {
          "base_uri": "https://localhost:8080/"
        },
        "id": "URtuTjtM_vGp",
        "outputId": "e5363867-1c6a-41d2-895a-1b6232ac3e5a"
      },
      "execution_count": 25,
      "outputs": [
        {
          "output_type": "execute_result",
          "data": {
            "text/plain": [
              "(8500, 14)"
            ]
          },
          "metadata": {},
          "execution_count": 25
        }
      ]
    },
    {
      "cell_type": "code",
      "source": [
        "plt.rcParams['axes.facecolor'] = 'white'\n",
        "# DESCRIPTION --> # it plots the distributions of your data\n",
        "def plot_distrib(df, ncols, nrows, figsize):\n",
        "    vars_ = df.columns\n",
        "    c = 0\n",
        "    plt.figure(figsize=figsize)\n",
        "    for v in vars_:\n",
        "        ax = plt.subplot(nrows, ncols, c + 1)\n",
        "        _, nbins, _ = plt.hist(df[v], 20, color=\"g\", alpha=0.6, label=v)\n",
        "        plt.xlabel(v)\n",
        "        plt.legend(loc=\"best\")\n",
        "        c = c + 1\n",
        "    plt.show()\n",
        "plot_distrib(df1, ncols=7, nrows=2, figsize=(40, 20))"
      ],
      "metadata": {
        "colab": {
          "base_uri": "https://localhost:8080/",
          "height": 1000
        },
        "id": "1Syo_YEU_vuH",
        "outputId": "4984f85e-ea05-43c7-f88b-6e2eee6965c1"
      },
      "execution_count": 7,
      "outputs": [
        {
          "output_type": "error",
          "ename": "ValueError",
          "evalue": "ignored",
          "traceback": [
            "\u001b[0;31m---------------------------------------------------------------------------\u001b[0m",
            "\u001b[0;31mValueError\u001b[0m                                Traceback (most recent call last)",
            "\u001b[0;32m<ipython-input-7-b84b177848d1>\u001b[0m in \u001b[0;36m<module>\u001b[0;34m\u001b[0m\n\u001b[1;32m     12\u001b[0m         \u001b[0mc\u001b[0m \u001b[0;34m=\u001b[0m \u001b[0mc\u001b[0m \u001b[0;34m+\u001b[0m \u001b[0;36m1\u001b[0m\u001b[0;34m\u001b[0m\u001b[0;34m\u001b[0m\u001b[0m\n\u001b[1;32m     13\u001b[0m     \u001b[0mplt\u001b[0m\u001b[0;34m.\u001b[0m\u001b[0mshow\u001b[0m\u001b[0;34m(\u001b[0m\u001b[0;34m)\u001b[0m\u001b[0;34m\u001b[0m\u001b[0;34m\u001b[0m\u001b[0m\n\u001b[0;32m---> 14\u001b[0;31m \u001b[0mplot_distrib\u001b[0m\u001b[0;34m(\u001b[0m\u001b[0mdf1\u001b[0m\u001b[0;34m,\u001b[0m \u001b[0mncols\u001b[0m\u001b[0;34m=\u001b[0m\u001b[0;36m7\u001b[0m\u001b[0;34m,\u001b[0m \u001b[0mnrows\u001b[0m\u001b[0;34m=\u001b[0m\u001b[0;36m2\u001b[0m\u001b[0;34m,\u001b[0m \u001b[0mfigsize\u001b[0m\u001b[0;34m=\u001b[0m\u001b[0;34m(\u001b[0m\u001b[0;36m40\u001b[0m\u001b[0;34m,\u001b[0m \u001b[0;36m20\u001b[0m\u001b[0;34m)\u001b[0m\u001b[0;34m)\u001b[0m\u001b[0;34m\u001b[0m\u001b[0;34m\u001b[0m\u001b[0m\n\u001b[0m",
            "\u001b[0;32m<ipython-input-7-b84b177848d1>\u001b[0m in \u001b[0;36mplot_distrib\u001b[0;34m(df, ncols, nrows, figsize)\u001b[0m\n\u001b[1;32m      6\u001b[0m     \u001b[0mplt\u001b[0m\u001b[0;34m.\u001b[0m\u001b[0mfigure\u001b[0m\u001b[0;34m(\u001b[0m\u001b[0mfigsize\u001b[0m\u001b[0;34m=\u001b[0m\u001b[0mfigsize\u001b[0m\u001b[0;34m)\u001b[0m\u001b[0;34m\u001b[0m\u001b[0;34m\u001b[0m\u001b[0m\n\u001b[1;32m      7\u001b[0m     \u001b[0;32mfor\u001b[0m \u001b[0mv\u001b[0m \u001b[0;32min\u001b[0m \u001b[0mvars_\u001b[0m\u001b[0;34m:\u001b[0m\u001b[0;34m\u001b[0m\u001b[0;34m\u001b[0m\u001b[0m\n\u001b[0;32m----> 8\u001b[0;31m         \u001b[0max\u001b[0m \u001b[0;34m=\u001b[0m \u001b[0mplt\u001b[0m\u001b[0;34m.\u001b[0m\u001b[0msubplot\u001b[0m\u001b[0;34m(\u001b[0m\u001b[0mnrows\u001b[0m\u001b[0;34m,\u001b[0m \u001b[0mncols\u001b[0m\u001b[0;34m,\u001b[0m \u001b[0mc\u001b[0m \u001b[0;34m+\u001b[0m \u001b[0;36m1\u001b[0m\u001b[0;34m)\u001b[0m\u001b[0;34m\u001b[0m\u001b[0;34m\u001b[0m\u001b[0m\n\u001b[0m\u001b[1;32m      9\u001b[0m         \u001b[0m_\u001b[0m\u001b[0;34m,\u001b[0m \u001b[0mnbins\u001b[0m\u001b[0;34m,\u001b[0m \u001b[0m_\u001b[0m \u001b[0;34m=\u001b[0m \u001b[0mplt\u001b[0m\u001b[0;34m.\u001b[0m\u001b[0mhist\u001b[0m\u001b[0;34m(\u001b[0m\u001b[0mdf\u001b[0m\u001b[0;34m[\u001b[0m\u001b[0mv\u001b[0m\u001b[0;34m]\u001b[0m\u001b[0;34m,\u001b[0m \u001b[0;36m20\u001b[0m\u001b[0;34m,\u001b[0m \u001b[0mcolor\u001b[0m\u001b[0;34m=\u001b[0m\u001b[0;34m\"g\"\u001b[0m\u001b[0;34m,\u001b[0m \u001b[0malpha\u001b[0m\u001b[0;34m=\u001b[0m\u001b[0;36m0.6\u001b[0m\u001b[0;34m,\u001b[0m \u001b[0mlabel\u001b[0m\u001b[0;34m=\u001b[0m\u001b[0mv\u001b[0m\u001b[0;34m)\u001b[0m\u001b[0;34m\u001b[0m\u001b[0;34m\u001b[0m\u001b[0m\n\u001b[1;32m     10\u001b[0m         \u001b[0mplt\u001b[0m\u001b[0;34m.\u001b[0m\u001b[0mxlabel\u001b[0m\u001b[0;34m(\u001b[0m\u001b[0mv\u001b[0m\u001b[0;34m)\u001b[0m\u001b[0;34m\u001b[0m\u001b[0;34m\u001b[0m\u001b[0m\n",
            "\u001b[0;32m/usr/local/lib/python3.9/dist-packages/matplotlib/pyplot.py\u001b[0m in \u001b[0;36msubplot\u001b[0;34m(*args, **kwargs)\u001b[0m\n\u001b[1;32m   1285\u001b[0m \u001b[0;34m\u001b[0m\u001b[0m\n\u001b[1;32m   1286\u001b[0m     \u001b[0;31m# First, search for an existing subplot with a matching spec.\u001b[0m\u001b[0;34m\u001b[0m\u001b[0;34m\u001b[0m\u001b[0m\n\u001b[0;32m-> 1287\u001b[0;31m     \u001b[0mkey\u001b[0m \u001b[0;34m=\u001b[0m \u001b[0mSubplotSpec\u001b[0m\u001b[0;34m.\u001b[0m\u001b[0m_from_subplot_args\u001b[0m\u001b[0;34m(\u001b[0m\u001b[0mfig\u001b[0m\u001b[0;34m,\u001b[0m \u001b[0margs\u001b[0m\u001b[0;34m)\u001b[0m\u001b[0;34m\u001b[0m\u001b[0;34m\u001b[0m\u001b[0m\n\u001b[0m\u001b[1;32m   1288\u001b[0m \u001b[0;34m\u001b[0m\u001b[0m\n\u001b[1;32m   1289\u001b[0m     \u001b[0;32mfor\u001b[0m \u001b[0max\u001b[0m \u001b[0;32min\u001b[0m \u001b[0mfig\u001b[0m\u001b[0;34m.\u001b[0m\u001b[0maxes\u001b[0m\u001b[0;34m:\u001b[0m\u001b[0;34m\u001b[0m\u001b[0;34m\u001b[0m\u001b[0m\n",
            "\u001b[0;32m/usr/local/lib/python3.9/dist-packages/matplotlib/gridspec.py\u001b[0m in \u001b[0;36m_from_subplot_args\u001b[0;34m(figure, args)\u001b[0m\n\u001b[1;32m    606\u001b[0m         \u001b[0;32melse\u001b[0m\u001b[0;34m:\u001b[0m\u001b[0;34m\u001b[0m\u001b[0;34m\u001b[0m\u001b[0m\n\u001b[1;32m    607\u001b[0m             \u001b[0;32mif\u001b[0m \u001b[0;32mnot\u001b[0m \u001b[0misinstance\u001b[0m\u001b[0;34m(\u001b[0m\u001b[0mnum\u001b[0m\u001b[0;34m,\u001b[0m \u001b[0mIntegral\u001b[0m\u001b[0;34m)\u001b[0m \u001b[0;32mor\u001b[0m \u001b[0mnum\u001b[0m \u001b[0;34m<\u001b[0m \u001b[0;36m1\u001b[0m \u001b[0;32mor\u001b[0m \u001b[0mnum\u001b[0m \u001b[0;34m>\u001b[0m \u001b[0mrows\u001b[0m\u001b[0;34m*\u001b[0m\u001b[0mcols\u001b[0m\u001b[0;34m:\u001b[0m\u001b[0;34m\u001b[0m\u001b[0;34m\u001b[0m\u001b[0m\n\u001b[0;32m--> 608\u001b[0;31m                 raise ValueError(\n\u001b[0m\u001b[1;32m    609\u001b[0m                     f\"num must be 1 <= num <= {rows*cols}, not {num!r}\")\n\u001b[1;32m    610\u001b[0m             \u001b[0mi\u001b[0m \u001b[0;34m=\u001b[0m \u001b[0mj\u001b[0m \u001b[0;34m=\u001b[0m \u001b[0mnum\u001b[0m\u001b[0;34m\u001b[0m\u001b[0;34m\u001b[0m\u001b[0m\n",
            "\u001b[0;31mValueError\u001b[0m: num must be 1 <= num <= 14, not 15"
          ]
        },
        {
          "output_type": "display_data",
          "data": {
            "text/plain": [
              "<Figure size 2880x1440 with 14 Axes>"
            ],
            "image/png": "[encoded data removed]"
          },
          "metadata": {}
        }
      ]
    },
    {
      "cell_type": "code",
      "source": [
        "df1.dtypes"
      ],
      "metadata": {
        "colab": {
          "base_uri": "https://localhost:8080/"
        },
        "id": "Vu_Zew_LCxNM",
        "outputId": "577da923-9827-4b39-bac0-7b83eb986b95"
      },
      "execution_count": 8,
      "outputs": [
        {
          "output_type": "execute_result",
          "data": {
            "text/plain": [
              "balance_account                     float64\n",
              "purchases_amount                    float64\n",
              "paid_advance                        float64\n",
              "full_purchases                      float64\n",
              "balance_frequency_update            float64\n",
              "installments                        float64\n",
              "purchases_frequency                 float64\n",
              "full_purchases_frequency            float64\n",
              "purchases_installments_frequency    float64\n",
              "cash_advance_frequency              float64\n",
              "nr_cash_advances                      int64\n",
              "nr_purchases                          int64\n",
              "credit_limit                        float64\n",
              "fixed_rate_period                     int64\n",
              "payments                            float64\n",
              "min_payments                        float64\n",
              "full_payment_prc                    float64\n",
              "dtype: object"
            ]
          },
          "metadata": {},
          "execution_count": 8
        }
      ]
    },
    {
      "cell_type": "code",
      "source": [
        "# Should reconsider if this is a proper method\n",
        "df1=df1.dropna()"
      ],
      "metadata": {
        "id": "Q8gQBinyJOcs"
      },
      "execution_count": 9,
      "outputs": []
    },
    {
      "cell_type": "code",
      "source": [
        "r_seed = 23  # random seed to use during modeling for reproducability purposes"
      ],
      "metadata": {
        "id": "AjG524M2GJ6m"
      },
      "execution_count": 13,
      "outputs": []
    },
    {
      "cell_type": "code",
      "source": [
        "\n",
        "cluster_errors = []\n",
        "for i in range(1, 10):\n",
        "    n_clusters = i\n",
        "    kmeans_pipeline = Pipeline(\n",
        "        [\n",
        "            (\"scaler\", StandardScaler()),\n",
        "            (\n",
        "                \"cluster\",\n",
        "                KMeans(n_clusters=n_clusters, random_state=r_seed, verbose=0, \n",
        "                       # n_jobs=1\n",
        "                      ),\n",
        "            ),\n",
        "        ]\n",
        "    )\n",
        "    kmeans_pipeline.fit(df1)\n",
        "    kmeans_pipeline.predict(df1)\n",
        "    cluster_errors.append(kmeans_pipeline.named_steps[\"cluster\"].inertia_)\n"
      ],
      "metadata": {
        "id": "5942J6iKEwxE"
      },
      "execution_count": 30,
      "outputs": []
    },
    {
      "cell_type": "code",
      "source": [
        "# visualizing the Elbow method\n",
        "\n",
        "# Libraries:\n",
        "from yellowbrick.cluster import KElbowVisualizer\n",
        "from sklearn.pipeline import Pipeline\n",
        "from sklearn.preprocessing import StandardScaler, OneHotEncoder\n",
        "from sklearn.impute import SimpleImputer\n",
        "from sklearn.compose import ColumnTransformer\n",
        "from sklearn.cluster import KMeans\n",
        "\n",
        "# List with Features:\n",
        "\n",
        "features = list(df1.columns)\n",
        "\n",
        "# Setting up the content of variable 'X':\n",
        "X = df1.loc[:,features].values\n",
        "\n",
        "numeric_transformer = Pipeline(steps=[('onehot', StandardScaler()),('imputer', SimpleImputer(strategy='mean'))])\n",
        "numeric_features = list(range(len(features)))\n",
        "\n",
        "feature_encoder = ColumnTransformer(transformers=[('num', numeric_transformer, numeric_features)])\n",
        "\n",
        "X = feature_encoder.fit_transform(X)\n",
        "\n",
        "# Clustering model and visualizer:\n",
        "model = KMeans()\n",
        "visualizer = KElbowVisualizer(model, k=(1,10))\n",
        "visualizer.fit(X) # Fit the data to the visualizer\n",
        "visualizer.poof() # Draw/show/poof the data"
      ],
      "metadata": {
        "colab": {
          "base_uri": "https://localhost:8080/",
          "height": 393
        },
        "id": "ZgeX3LSNGOVg",
        "outputId": "6c217cb5-daf8-4fc3-ae74-0b3d067de527"
      },
      "execution_count": 31,
      "outputs": [
        {
          "output_type": "display_data",
          "data": {
            "text/plain": [
              "<Figure size 576x396 with 2 Axes>"
            ],
            "image/png": "[encoded data removed]"
          },
          "metadata": {}
        },
        {
          "output_type": "execute_result",
          "data": {
            "text/plain": [
              "<AxesSubplot:title={'center':'Distortion Score Elbow for KMeans Clustering'}, xlabel='k', ylabel='distortion score'>"
            ]
          },
          "metadata": {},
          "execution_count": 31
        }
      ]
    },
    {
      "cell_type": "markdown",
      "source": [
        "**PCA ANALYSIS :To identify n_component**"
      ],
      "metadata": {
        "id": "KGuxtbyaiW0X"
      }
    },
    {
      "cell_type": "code",
      "source": [
        "from sklearn.decomposition import PCA as sklearnPCA"
      ],
      "metadata": {
        "id": "TOYgeQl4iWDr"
      },
      "execution_count": 32,
      "outputs": []
    },
    {
      "cell_type": "code",
      "source": [
        "# Eigenvalue decomposition: eigenvalue(magnitude), eigen-vector(direction)\n",
        "# Step 1: standardize\n",
        "df_std = StandardScaler().fit_transform(df1)\n",
        "\n",
        "# Step 2: Covariance matrix\n",
        "import numpy as np\n",
        "mean_vec = np.mean(df_std, axis=0)\n",
        "cov_mat = (df_std - mean_vec).T.dot((df_std - mean_vec)) / (df_std.shape[0]-1)\n",
        "print('Covariance matrix: \\n', cov_mat)\n",
        "\n",
        "# Step 3: Eigen decomposition \n",
        "cov_mat = np.cov(df_std.T)\n",
        "\n",
        "eig_vals, eig_vecs = np.linalg.eig(cov_mat)\n",
        "\n",
        "print('Eigenvectors: \\n', eig_vecs)\n",
        "print('\\nEigenvalues: \\n', eig_vals)"
      ],
      "metadata": {
        "colab": {
          "base_uri": "https://localhost:8080/"
        },
        "id": "B_Q1jLT4idqc",
        "outputId": "8e288437-4d8c-4a25-e8c1-ddfa4022fa03"
      },
      "execution_count": 33,
      "outputs": [
        {
          "output_type": "stream",
          "name": "stdout",
          "text": [
            "Covariance matrix: \n",
            " [[ 1.00012195  0.17821692  0.49369993  0.31195153  0.12421584 -0.0861024\n",
            "   0.06509819  0.38224491  0.15227222  0.54191923  0.06942585  0.32058124\n",
            "   0.39871653 -0.33129106]\n",
            " [ 0.17821692  1.00012195 -0.05234251  0.12183533  0.68331083  0.38953209\n",
            "   0.49326201 -0.06918679  0.6868524   0.35857884  0.08343217  0.61286316\n",
            "   0.09308644  0.17539329]\n",
            " [ 0.49369993 -0.05234251  1.00012195  0.08985221 -0.06636244 -0.21713539\n",
            "  -0.0904092   0.6566266  -0.07636623  0.30638677 -0.07341731  0.45279393\n",
            "   0.14230178 -0.15814727]\n",
            " [ 0.31195153  0.12183533  0.08985221  1.00012195  0.11503993  0.22774933\n",
            "   0.18842596  0.13253833  0.18252657  0.09115838  0.10513239  0.03867767\n",
            "   0.13283439 -0.15446015]\n",
            " [ 0.12421584  0.68331083 -0.06636244  0.11503993  1.00012195  0.44023227\n",
            "   0.21460658 -0.07587678  0.62835529  0.26026482  0.08271115  0.3874784\n",
            "   0.12945283  0.17766068]\n",
            " [-0.0861024   0.38953209 -0.21713539  0.22774933  0.44023227  1.00012195\n",
            "   0.50221214 -0.20713814  0.56373646  0.11896353  0.04881862  0.09917937\n",
            "   0.00124985  0.30350099]\n",
            " [ 0.06509819  0.49326201 -0.0904092   0.18842596  0.21460658  0.50221214\n",
            "   1.00012195 -0.07356688  0.54175993  0.29245532  0.08002337  0.24105325\n",
            "  -0.03038831  0.15471226]\n",
            " [ 0.38224491 -0.06918679  0.6566266   0.13253833 -0.07587678 -0.20713814\n",
            "  -0.07356688  1.00012195 -0.06832208  0.1541178  -0.04546112  0.25013311\n",
            "   0.11121417 -0.17523962]\n",
            " [ 0.15227222  0.6868524  -0.07636623  0.18252657  0.62835529  0.56373646\n",
            "   0.54175993 -0.06832208  1.00012195  0.27391055  0.11788154  0.37248272\n",
            "   0.09671654  0.1550448 ]\n",
            " [ 0.54191923  0.35857884  0.30638677  0.09115838  0.26026482  0.11896353\n",
            "   0.29245532  0.1541178   0.27391055  1.00012195  0.13563127  0.42660752\n",
            "   0.12919073  0.04243211]\n",
            " [ 0.06942585  0.08343217 -0.07341731  0.10513239  0.08271115  0.04881862\n",
            "   0.08002337 -0.04546112  0.11788154  0.13563127  1.00012195  0.10236753\n",
            "   0.05928488 -0.02747548]\n",
            " [ 0.32058124  0.61286316  0.45279393  0.03867767  0.3874784   0.09917937\n",
            "   0.24105325  0.25013311  0.37248272  0.42660752  0.10236753  1.00012195\n",
            "   0.1272199   0.10693192]\n",
            " [ 0.39871653  0.09308644  0.14230178  0.13283439  0.12945283  0.00124985\n",
            "  -0.03038831  0.11121417  0.09671654  0.12919073  0.05928488  0.1272199\n",
            "   1.00012195 -0.1390951 ]\n",
            " [-0.33129106  0.17539329 -0.15814727 -0.15446015  0.17766068  0.30350099\n",
            "   0.15471226 -0.17523962  0.1550448   0.04243211 -0.02747548  0.10693192\n",
            "  -0.1390951   1.00012195]]\n",
            "Eigenvectors: \n",
            " [[-0.20317801 -0.44055146  0.21973376 -0.05801281  0.04216029 -0.11995757\n",
            "   0.25954116 -0.56821753  0.42532145  0.06493201 -0.10149649 -0.19234132\n",
            "   0.27231322  0.0043477 ]\n",
            " [-0.43560903  0.0961948  -0.11406635 -0.13432075  0.10672448  0.69331812\n",
            "  -0.02182146 -0.26378592 -0.13659681  0.20688162  0.26850899  0.02318595\n",
            "  -0.06200474 -0.26431208]\n",
            " [-0.07206641 -0.48894467 -0.27112933  0.19770746 -0.0422482   0.38848877\n",
            "   0.31895177  0.39336241  0.2300732  -0.3797838  -0.05729219  0.06169515\n",
            "  -0.13763053  0.1037655 ]\n",
            " [-0.152202   -0.11039419  0.54260034  0.43097558 -0.05589561 -0.01374084\n",
            "  -0.0823931   0.1631965  -0.04975428  0.06587474  0.42777936 -0.41054391\n",
            "  -0.28641856  0.08582363]\n",
            " [-0.3742104   0.11958803 -0.04183346 -0.21492772  0.28933571 -0.26940537\n",
            "   0.49159352  0.21306609 -0.21294157  0.10337455 -0.3051021  -0.30767612\n",
            "  -0.30620998 -0.12968699]\n",
            " [-0.29717511  0.28885095  0.14429381  0.30647441  0.03703081  0.09504089\n",
            "  -0.10312239 -0.3320631  -0.20086614 -0.5709613  -0.37912701  0.04009661\n",
            "  -0.03136219  0.26368165]\n",
            " [-0.31976221  0.15273769  0.07840248  0.34921198 -0.24924095 -0.17900708\n",
            "   0.42693821  0.12332195 -0.09739632  0.17817557  0.16580742  0.50556821\n",
            "   0.35894929 -0.03885562]\n",
            " [-0.03386811 -0.43730138 -0.17283472  0.31428766 -0.03707789 -0.07821292\n",
            "  -0.20818216 -0.19336408 -0.3068933   0.45635886 -0.32463982  0.23596971\n",
            "  -0.34533762  0.08928977]\n",
            " [-0.4194906   0.14856304  0.06278784  0.04316735  0.09000053 -0.07406738\n",
            "  -0.44387281  0.29081591  0.61041795  0.13634974 -0.23828852  0.16936984\n",
            "  -0.08379262 -0.13144504]\n",
            " [-0.29558452 -0.21917468 -0.09141313 -0.11553085 -0.26748849  0.03485488\n",
            "  -0.29722228  0.28479364 -0.31901923  0.04602161 -0.17617541 -0.37717715\n",
            "   0.56218189  0.08622608]\n",
            " [-0.09280505  0.00300474  0.2725586  -0.46563663 -0.72221579  0.06928752\n",
            "   0.07433311 -0.02173657  0.02771166 -0.01508078 -0.10531533  0.13182774\n",
            "  -0.34541076  0.13821867]\n",
            " [-0.33949016 -0.19646698 -0.36427915 -0.14072892 -0.05333848 -0.47075123\n",
            "  -0.2083786  -0.1451312  -0.07536248 -0.36632218  0.46723313  0.08868951\n",
            "  -0.16702637 -0.10375416]\n",
            " [-0.11073152 -0.21163216  0.32806547 -0.37110808  0.47221132  0.03029361\n",
            "  -0.06269237  0.15186773 -0.14609231  0.01332528  0.13677967  0.36727693\n",
            "   0.07526454  0.51567483]\n",
            " [-0.09691581  0.28214312 -0.43043821  0.05799933 -0.07916152 -0.00299895\n",
            "   0.08652949 -0.08739021  0.23129895  0.26908994  0.16028141 -0.22688302\n",
            "  -0.04723905  0.70402806]]\n",
            "\n",
            "Eigenvalues: \n",
            " [3.78944472 2.73135232 1.32809835 1.04775485 0.97855551 0.1460468\n",
            " 0.23750478 0.24801356 0.30387774 0.40483961 0.54084773 0.64378008\n",
            " 0.80810582 0.79348547]\n"
          ]
        }
      ]
    },
    {
      "cell_type": "code",
      "source": [
        "# Sorting Eigenpairs \n",
        "for ev in eig_vecs.T:\n",
        "    np.testing.assert_array_almost_equal(1.0, np.linalg.norm(ev))\n",
        "print('works fine')\n",
        "\n",
        "# Make a list of (eigenvalue, eigenvector) tuples\n",
        "eig_pairs = [(np.abs(eig_vals[i]), eig_vecs[:,i]) for i in range(len(eig_vals))]\n",
        "\n",
        "# Sort the (eigenvalue, eigenvector) tuples from high to low\n",
        "eig_pairs.sort(key=lambda x: x[0], reverse=True)\n",
        "\n",
        "# Visually confirm that the list is correctly sorted by decreasing eigenvalues\n",
        "print('Eigenvalues in descending order:')\n",
        "for i in eig_pairs:\n",
        "    print(i[0])"
      ],
      "metadata": {
        "colab": {
          "base_uri": "https://localhost:8080/"
        },
        "id": "G37A-2nMil8k",
        "outputId": "3158d441-bebd-4ef1-9d5b-78e8ca1aa678"
      },
      "execution_count": 34,
      "outputs": [
        {
          "output_type": "stream",
          "name": "stdout",
          "text": [
            "works fine\n",
            "Eigenvalues in descending order:\n",
            "3.789444717638629\n",
            "2.7313523204810766\n",
            "1.328098352499716\n",
            "1.047754846635532\n",
            "0.9785555063149189\n",
            "0.8081058197481388\n",
            "0.7934854680898189\n",
            "0.6437800786734539\n",
            "0.540847727790035\n",
            "0.4048396059254707\n",
            "0.3038777404846404\n",
            "0.24801355504369121\n",
            "0.23750477532531825\n",
            "0.14604680242273954\n"
          ]
        }
      ]
    },
    {
      "cell_type": "markdown",
      "source": [
        "“how many principal components are we going to choose for our new feature subspace?”"
      ],
      "metadata": {
        "id": "mr5BOGo-isxX"
      }
    },
    {
      "cell_type": "code",
      "source": [
        "tot = sum(eig_vals)\n",
        "var_exp = [(i / tot)*100 for i in sorted(eig_vals, reverse=True)]\n",
        "cum_var_exp = np.cumsum(var_exp)"
      ],
      "metadata": {
        "id": "c0Szm4S9ip_y"
      },
      "execution_count": 35,
      "outputs": []
    },
    {
      "cell_type": "code",
      "source": [
        "with plt.style.context('seaborn-whitegrid'):\n",
        "    plt.figure(figsize=(6, 4))\n",
        "\n",
        "    plt.bar(range(14), var_exp, alpha=0.5, align='center',\n",
        "            label='individual explained variance')\n",
        "    plt.step(range(14), cum_var_exp, where='mid',\n",
        "             label='cumulative explained variance')\n",
        "    plt.ylabel('Explained variance ratio')\n",
        "    plt.xlabel('Principal components')\n",
        "    plt.legend(loc='best')\n",
        "    plt.tight_layout()"
      ],
      "metadata": {
        "colab": {
          "base_uri": "https://localhost:8080/",
          "height": 293
        },
        "id": "T22xzlN5iw15",
        "outputId": "1e24eb40-f233-4f4d-d7b7-abb11956e749"
      },
      "execution_count": 36,
      "outputs": [
        {
          "output_type": "display_data",
          "data": {
            "text/plain": [
              "<Figure size 432x288 with 1 Axes>"
            ],
            "image/png": "[encoded data removed]"
          },
          "metadata": {}
        }
      ]
    },
    {
      "cell_type": "code",
      "source": [
        "with plt.style.context('seaborn-whitegrid'):\n",
        "    plt.figure(figsize=(6, 4))\n",
        "\n",
        "    plt.scatter(range(14), var_exp, alpha=0.5)\n",
        "    plt.ylabel('Explained variance ratio')\n",
        "    plt.xlabel('Principal components')\n",
        "    plt.tight_layout()"
      ],
      "metadata": {
        "colab": {
          "base_uri": "https://localhost:8080/",
          "height": 293
        },
        "id": "wEPxys5ijEhv",
        "outputId": "03108dd9-61fb-4151-a5ce-35b421c69b53"
      },
      "execution_count": 37,
      "outputs": [
        {
          "output_type": "display_data",
          "data": {
            "text/plain": [
              "<Figure size 432x288 with 1 Axes>"
            ],
            "image/png": "[encoded data removed]"
          },
          "metadata": {}
        }
      ]
    },
    {
      "cell_type": "code",
      "source": [
        "from sklearn.decomposition import PCA as sklearnPCA"
      ],
      "metadata": {
        "id": "71i2kiyJyDGN"
      },
      "execution_count": 38,
      "outputs": []
    },
    {
      "cell_type": "code",
      "source": [
        "# PCA\n",
        "pca = sklearnPCA(n_components=5)\n",
        "pca_df=pca.fit_transform(df_std)\n",
        "\n",
        "# Dump components relations with features:\n",
        "print(pd.DataFrame(pca.components_, columns=df1.columns, index = ['PC1','Pc2','PC3','PC4','PC5']))\n"
      ],
      "metadata": {
        "colab": {
          "base_uri": "https://localhost:8080/"
        },
        "id": "MmYu_Q2Oxx3_",
        "outputId": "b1d65585-94fd-447d-8477-e508f022615e"
      },
      "execution_count": 39,
      "outputs": [
        {
          "output_type": "stream",
          "name": "stdout",
          "text": [
            "     balance_account  purchases_amount  paid_advance  \\\n",
            "PC1         0.203178          0.435609      0.072066   \n",
            "Pc2         0.440551         -0.096195      0.488945   \n",
            "PC3        -0.219734          0.114066      0.271129   \n",
            "PC4         0.058013          0.134321     -0.197707   \n",
            "PC5         0.042160          0.106724     -0.042248   \n",
            "\n",
            "     balance_frequency_update  installments  purchases_frequency  \\\n",
            "PC1                  0.152202      0.374210             0.297175   \n",
            "Pc2                  0.110394     -0.119588            -0.288851   \n",
            "PC3                 -0.542600      0.041833            -0.144294   \n",
            "PC4                 -0.430976      0.214928            -0.306474   \n",
            "PC5                 -0.055896      0.289336             0.037031   \n",
            "\n",
            "     full_purchases_frequency  nr_cash_advances  nr_purchases  credit_limit  \\\n",
            "PC1                  0.319762          0.033868      0.419491      0.295585   \n",
            "Pc2                 -0.152738          0.437301     -0.148563      0.219175   \n",
            "PC3                 -0.078402          0.172835     -0.062788      0.091413   \n",
            "PC4                 -0.349212         -0.314288     -0.043167      0.115531   \n",
            "PC5                 -0.249241         -0.037078      0.090001     -0.267488   \n",
            "\n",
            "     fixed_rate_period  payments  min_payments  full_payment_prc  \n",
            "PC1           0.092805  0.339490      0.110732          0.096916  \n",
            "Pc2          -0.003005  0.196467      0.211632         -0.282143  \n",
            "PC3          -0.272559  0.364279     -0.328065          0.430438  \n",
            "PC4           0.465637  0.140729      0.371108         -0.057999  \n",
            "PC5          -0.722216 -0.053338      0.472211         -0.079162  \n"
          ]
        }
      ]
    },
    {
      "cell_type": "markdown",
      "source": [
        "**CALCULATE CLUSTER ID BASED ON UMAP AND KMEAN**"
      ],
      "metadata": {
        "id": "YMnZ-3jAKp-K"
      }
    },
    {
      "cell_type": "code",
      "source": [
        "from umap import UMAP\n",
        "# UMAP and Kmean\n",
        "# Build Pipeline\n",
        "pipe_umap_kmean = Pipeline(\n",
        "        [\n",
        "            (\"scl\", StandardScaler()), \n",
        "            (\"UMAP\", UMAP(n_neighbors=30, n_components=8,  min_dist= 0.3)), \n",
        "            (\"cluster\", KMeans(n_clusters=4, random_state=r_seed, verbose=0))]\n",
        "    )\n",
        "\n",
        "# fit the data\n",
        "pipe_umap_kmean.fit(df1)\n",
        "\n",
        "# Create Cluster id\n",
        "df1_umap_cluster = pd.DataFrame(\n",
        "    data = pipe_umap_kmean.named_steps[\"cluster\"].labels_,\n",
        "    index = df1.index,\n",
        "    columns=['Cluster_id'])\n",
        "\n",
        "\n",
        "# Check \n",
        "df1_umap_cluster['Cluster_id'].value_counts()"
      ],
      "metadata": {
        "colab": {
          "base_uri": "https://localhost:8080/"
        },
        "id": "sUAlAWXTWxSh",
        "outputId": "901fc5ac-9fd2-412a-ae6b-44de2f42dddd"
      },
      "execution_count": 14,
      "outputs": [
        {
          "output_type": "execute_result",
          "data": {
            "text/plain": [
              "1    3015\n",
              "3    1840\n",
              "0    1727\n",
              "2    1619\n",
              "Name: Cluster_id, dtype: int64"
            ]
          },
          "metadata": {},
          "execution_count": 14
        }
      ]
    },
    {
      "cell_type": "code",
      "source": [
        "df1_umap_cluster.head()"
      ],
      "metadata": {
        "colab": {
          "base_uri": "https://localhost:8080/",
          "height": 206
        },
        "id": "o0JlJQ3xaSJO",
        "outputId": "971b9f73-11d0-4cd9-b2a5-46efbbf7c83a"
      },
      "execution_count": 41,
      "outputs": [
        {
          "output_type": "execute_result",
          "data": {
            "text/plain": [
              "   Cluster_id\n",
              "0           1\n",
              "1           2\n",
              "2           3\n",
              "3           1\n",
              "4           2"
            ],
            "text/html": [
              "\n",
              "  <div id=\"df-aefbc6a3-a3e1-46ab-9609-a13ed10449cf\">\n",
              "    <div class=\"colab-df-container\">\n",
              "      <div>\n",
              "<style scoped>\n",
              "    .dataframe tbody tr th:only-of-type {\n",
              "        vertical-align: middle;\n",
              "    }\n",
              "\n",
              "    .dataframe tbody tr th {\n",
              "        vertical-align: top;\n",
              "    }\n",
              "\n",
              "    .dataframe thead th {\n",
              "        text-align: right;\n",
              "    }\n",
              "</style>\n",
              "<table border=\"1\" class=\"dataframe\">\n",
              "  <thead>\n",
              "    <tr style=\"text-align: right;\">\n",
              "      <th></th>\n",
              "      <th>Cluster_id</th>\n",
              "    </tr>\n",
              "  </thead>\n",
              "  <tbody>\n",
              "    <tr>\n",
              "      <th>0</th>\n",
              "      <td>1</td>\n",
              "    </tr>\n",
              "    <tr>\n",
              "      <th>1</th>\n",
              "      <td>2</td>\n",
              "    </tr>\n",
              "    <tr>\n",
              "      <th>2</th>\n",
              "      <td>3</td>\n",
              "    </tr>\n",
              "    <tr>\n",
              "      <th>3</th>\n",
              "      <td>1</td>\n",
              "    </tr>\n",
              "    <tr>\n",
              "      <th>4</th>\n",
              "      <td>2</td>\n",
              "    </tr>\n",
              "  </tbody>\n",
              "</table>\n",
              "</div>\n",
              "      <button class=\"colab-df-convert\" onclick=\"convertToInteractive('df-aefbc6a3-a3e1-46ab-9609-a13ed10449cf')\"\n",
              "              title=\"Convert this dataframe to an interactive table.\"\n",
              "              style=\"display:none;\">\n",
              "        \n",
              "  <svg xmlns=\"http://www.w3.org/2000/svg\" height=\"24px\"viewBox=\"0 0 24 24\"\n",
              "       width=\"24px\">\n",
              "    <path d=\"M0 0h24v24H0V0z\" fill=\"none\"/>\n",
              "    <path d=\"M18.56 5.44l.94 2.06.94-2.06 2.06-.94-2.06-.94-.94-2.06-.94 2.06-2.06.94zm-11 1L8.5 8.5l.94-2.06 2.06-.94-2.06-.94L8.5 2.5l-.94 2.06-2.06.94zm10 10l.94 2.06.94-2.06 2.06-.94-2.06-.94-.94-2.06-.94 2.06-2.06.94z\"/><path d=\"M17.41 7.96l-1.37-1.37c-.4-.4-.92-.59-1.43-.59-.52 0-1.04.2-1.43.59L10.3 9.45l-7.72 7.72c-.78.78-.78 2.05 0 2.83L4 21.41c.39.39.9.59 1.41.59.51 0 1.02-.2 1.41-.59l7.78-7.78 2.81-2.81c.8-.78.8-2.07 0-2.86zM5.41 20L4 18.59l7.72-7.72 1.47 1.35L5.41 20z\"/>\n",
              "  </svg>\n",
              "      </button>\n",
              "      \n",
              "  <style>\n",
              "    .colab-df-container {\n",
              "      display:flex;\n",
              "      flex-wrap:wrap;\n",
              "      gap: 12px;\n",
              "    }\n",
              "\n",
              "    .colab-df-convert {\n",
              "      background-color: #E8F0FE;\n",
              "      border: none;\n",
              "      border-radius: 50%;\n",
              "      cursor: pointer;\n",
              "      display: none;\n",
              "      fill: #1967D2;\n",
              "      height: 32px;\n",
              "      padding: 0 0 0 0;\n",
              "      width: 32px;\n",
              "    }\n",
              "\n",
              "    .colab-df-convert:hover {\n",
              "      background-color: #E2EBFA;\n",
              "      box-shadow: 0px 1px 2px rgba(60, 64, 67, 0.3), 0px 1px 3px 1px rgba(60, 64, 67, 0.15);\n",
              "      fill: #174EA6;\n",
              "    }\n",
              "\n",
              "    [theme=dark] .colab-df-convert {\n",
              "      background-color: #3B4455;\n",
              "      fill: #D2E3FC;\n",
              "    }\n",
              "\n",
              "    [theme=dark] .colab-df-convert:hover {\n",
              "      background-color: #434B5C;\n",
              "      box-shadow: 0px 1px 3px 1px rgba(0, 0, 0, 0.15);\n",
              "      filter: drop-shadow(0px 1px 2px rgba(0, 0, 0, 0.3));\n",
              "      fill: #FFFFFF;\n",
              "    }\n",
              "  </style>\n",
              "\n",
              "      <script>\n",
              "        const buttonEl =\n",
              "          document.querySelector('#df-aefbc6a3-a3e1-46ab-9609-a13ed10449cf button.colab-df-convert');\n",
              "        buttonEl.style.display =\n",
              "          google.colab.kernel.accessAllowed ? 'block' : 'none';\n",
              "\n",
              "        async function convertToInteractive(key) {\n",
              "          const element = document.querySelector('#df-aefbc6a3-a3e1-46ab-9609-a13ed10449cf');\n",
              "          const dataTable =\n",
              "            await google.colab.kernel.invokeFunction('convertToInteractive',\n",
              "                                                     [key], {});\n",
              "          if (!dataTable) return;\n",
              "\n",
              "          const docLinkHtml = 'Like what you see? Visit the ' +\n",
              "            '<a target=\"_blank\" href=https://colab.research.google.com/notebooks/data_table.ipynb>data table notebook</a>'\n",
              "            + ' to learn more about interactive tables.';\n",
              "          element.innerHTML = '';\n",
              "          dataTable['output_type'] = 'display_data';\n",
              "          await google.colab.output.renderOutput(dataTable, element);\n",
              "          const docLink = document.createElement('div');\n",
              "          docLink.innerHTML = docLinkHtml;\n",
              "          element.appendChild(docLink);\n",
              "        }\n",
              "      </script>\n",
              "    </div>\n",
              "  </div>\n",
              "  "
            ]
          },
          "metadata": {},
          "execution_count": 41
        }
      ]
    },
    {
      "cell_type": "code",
      "source": [
        "df1_umap_cluster.shape"
      ],
      "metadata": {
        "colab": {
          "base_uri": "https://localhost:8080/"
        },
        "id": "QVsloAcpaco4",
        "outputId": "044cb83e-c344-4b4a-f6b1-70a987934df5"
      },
      "execution_count": 42,
      "outputs": [
        {
          "output_type": "execute_result",
          "data": {
            "text/plain": [
              "(8201, 1)"
            ]
          },
          "metadata": {},
          "execution_count": 42
        }
      ]
    },
    {
      "cell_type": "code",
      "source": [
        "# Adding Cluster ID to the Original dataset \n",
        "clustered_df=pd.concat([df1, df1_umap_cluster], axis=1)\n",
        "clustered_df.head()"
      ],
      "metadata": {
        "colab": {
          "base_uri": "https://localhost:8080/",
          "height": 270
        },
        "id": "oBAF9jM_bT8K",
        "outputId": "9a0eaa63-b7bb-4763-b6a8-7dd8a3c6d62d"
      },
      "execution_count": 15,
      "outputs": [
        {
          "output_type": "execute_result",
          "data": {
            "text/plain": [
              "   balance_account  purchases_amount  paid_advance  full_purchases  \\\n",
              "0         9.298409            107.60      0.000000            0.00   \n",
              "1        52.666422            150.30      0.000000            0.00   \n",
              "2      1360.795674              0.00    462.861443            0.00   \n",
              "3      2021.641161            363.18      0.000000          363.18   \n",
              "4        22.322374             95.00   1162.045833           95.00   \n",
              "\n",
              "   balance_frequency_update  installments  purchases_frequency  \\\n",
              "0                  0.909091         107.6             0.909091   \n",
              "1                  1.000000         150.3             1.000000   \n",
              "2                  1.000000           0.0             0.000000   \n",
              "3                  1.000000           0.0             1.000000   \n",
              "4                  0.363636           0.0             0.083333   \n",
              "\n",
              "   full_purchases_frequency  purchases_installments_frequency  \\\n",
              "0                  0.000000                          0.818182   \n",
              "1                  0.000000                          0.833333   \n",
              "2                  0.000000                          0.000000   \n",
              "3                  1.000000                          0.000000   \n",
              "4                  0.083333                          0.000000   \n",
              "\n",
              "   cash_advance_frequency  nr_cash_advances  nr_purchases  credit_limit  \\\n",
              "0                0.000000                 0            10        1000.0   \n",
              "1                0.000000                 0             6        1000.0   \n",
              "2                0.272727                 6             0        1500.0   \n",
              "3                0.000000                 0            13        2000.0   \n",
              "4                0.166667                 3             1        2500.0   \n",
              "\n",
              "   fixed_rate_period     payments  min_payments  full_payment_prc  Cluster_id  \n",
              "0                 11    89.868853     89.711672          0.428571           1  \n",
              "1                  6    54.722514     82.955180          0.000000           2  \n",
              "2                 11   303.031979    443.781316          0.000000           3  \n",
              "3                 12   704.240770    795.859808          0.000000           1  \n",
              "4                 12  4094.261427     40.142262          0.000000           2  "
            ],
            "text/html": [
              "\n",
              "  <div id=\"df-63da86aa-6b6f-4137-90b6-ba0308a8a590\">\n",
              "    <div class=\"colab-df-container\">\n",
              "      <div>\n",
              "<style scoped>\n",
              "    .dataframe tbody tr th:only-of-type {\n",
              "        vertical-align: middle;\n",
              "    }\n",
              "\n",
              "    .dataframe tbody tr th {\n",
              "        vertical-align: top;\n",
              "    }\n",
              "\n",
              "    .dataframe thead th {\n",
              "        text-align: right;\n",
              "    }\n",
              "</style>\n",
              "<table border=\"1\" class=\"dataframe\">\n",
              "  <thead>\n",
              "    <tr style=\"text-align: right;\">\n",
              "      <th></th>\n",
              "      <th>balance_account</th>\n",
              "      <th>purchases_amount</th>\n",
              "      <th>paid_advance</th>\n",
              "      <th>full_purchases</th>\n",
              "      <th>balance_frequency_update</th>\n",
              "      <th>installments</th>\n",
              "      <th>purchases_frequency</th>\n",
              "      <th>full_purchases_frequency</th>\n",
              "      <th>purchases_installments_frequency</th>\n",
              "      <th>cash_advance_frequency</th>\n",
              "      <th>nr_cash_advances</th>\n",
              "      <th>nr_purchases</th>\n",
              "      <th>credit_limit</th>\n",
              "      <th>fixed_rate_period</th>\n",
              "      <th>payments</th>\n",
              "      <th>min_payments</th>\n",
              "      <th>full_payment_prc</th>\n",
              "      <th>Cluster_id</th>\n",
              "    </tr>\n",
              "  </thead>\n",
              "  <tbody>\n",
              "    <tr>\n",
              "      <th>0</th>\n",
              "      <td>9.298409</td>\n",
              "      <td>107.60</td>\n",
              "      <td>0.000000</td>\n",
              "      <td>0.00</td>\n",
              "      <td>0.909091</td>\n",
              "      <td>107.6</td>\n",
              "      <td>0.909091</td>\n",
              "      <td>0.000000</td>\n",
              "      <td>0.818182</td>\n",
              "      <td>0.000000</td>\n",
              "      <td>0</td>\n",
              "      <td>10</td>\n",
              "      <td>1000.0</td>\n",
              "      <td>11</td>\n",
              "      <td>89.868853</td>\n",
              "      <td>89.711672</td>\n",
              "      <td>0.428571</td>\n",
              "      <td>1</td>\n",
              "    </tr>\n",
              "    <tr>\n",
              "      <th>1</th>\n",
              "      <td>52.666422</td>\n",
              "      <td>150.30</td>\n",
              "      <td>0.000000</td>\n",
              "      <td>0.00</td>\n",
              "      <td>1.000000</td>\n",
              "      <td>150.3</td>\n",
              "      <td>1.000000</td>\n",
              "      <td>0.000000</td>\n",
              "      <td>0.833333</td>\n",
              "      <td>0.000000</td>\n",
              "      <td>0</td>\n",
              "      <td>6</td>\n",
              "      <td>1000.0</td>\n",
              "      <td>6</td>\n",
              "      <td>54.722514</td>\n",
              "      <td>82.955180</td>\n",
              "      <td>0.000000</td>\n",
              "      <td>2</td>\n",
              "    </tr>\n",
              "    <tr>\n",
              "      <th>2</th>\n",
              "      <td>1360.795674</td>\n",
              "      <td>0.00</td>\n",
              "      <td>462.861443</td>\n",
              "      <td>0.00</td>\n",
              "      <td>1.000000</td>\n",
              "      <td>0.0</td>\n",
              "      <td>0.000000</td>\n",
              "      <td>0.000000</td>\n",
              "      <td>0.000000</td>\n",
              "      <td>0.272727</td>\n",
              "      <td>6</td>\n",
              "      <td>0</td>\n",
              "      <td>1500.0</td>\n",
              "      <td>11</td>\n",
              "      <td>303.031979</td>\n",
              "      <td>443.781316</td>\n",
              "      <td>0.000000</td>\n",
              "      <td>3</td>\n",
              "    </tr>\n",
              "    <tr>\n",
              "      <th>3</th>\n",
              "      <td>2021.641161</td>\n",
              "      <td>363.18</td>\n",
              "      <td>0.000000</td>\n",
              "      <td>363.18</td>\n",
              "      <td>1.000000</td>\n",
              "      <td>0.0</td>\n",
              "      <td>1.000000</td>\n",
              "      <td>1.000000</td>\n",
              "      <td>0.000000</td>\n",
              "      <td>0.000000</td>\n",
              "      <td>0</td>\n",
              "      <td>13</td>\n",
              "      <td>2000.0</td>\n",
              "      <td>12</td>\n",
              "      <td>704.240770</td>\n",
              "      <td>795.859808</td>\n",
              "      <td>0.000000</td>\n",
              "      <td>1</td>\n",
              "    </tr>\n",
              "    <tr>\n",
              "      <th>4</th>\n",
              "      <td>22.322374</td>\n",
              "      <td>95.00</td>\n",
              "      <td>1162.045833</td>\n",
              "      <td>95.00</td>\n",
              "      <td>0.363636</td>\n",
              "      <td>0.0</td>\n",
              "      <td>0.083333</td>\n",
              "      <td>0.083333</td>\n",
              "      <td>0.000000</td>\n",
              "      <td>0.166667</td>\n",
              "      <td>3</td>\n",
              "      <td>1</td>\n",
              "      <td>2500.0</td>\n",
              "      <td>12</td>\n",
              "      <td>4094.261427</td>\n",
              "      <td>40.142262</td>\n",
              "      <td>0.000000</td>\n",
              "      <td>2</td>\n",
              "    </tr>\n",
              "  </tbody>\n",
              "</table>\n",
              "</div>\n",
              "      <button class=\"colab-df-convert\" onclick=\"convertToInteractive('df-63da86aa-6b6f-4137-90b6-ba0308a8a590')\"\n",
              "              title=\"Convert this dataframe to an interactive table.\"\n",
              "              style=\"display:none;\">\n",
              "        \n",
              "  <svg xmlns=\"http://www.w3.org/2000/svg\" height=\"24px\"viewBox=\"0 0 24 24\"\n",
              "       width=\"24px\">\n",
              "    <path d=\"M0 0h24v24H0V0z\" fill=\"none\"/>\n",
              "    <path d=\"M18.56 5.44l.94 2.06.94-2.06 2.06-.94-2.06-.94-.94-2.06-.94 2.06-2.06.94zm-11 1L8.5 8.5l.94-2.06 2.06-.94-2.06-.94L8.5 2.5l-.94 2.06-2.06.94zm10 10l.94 2.06.94-2.06 2.06-.94-2.06-.94-.94-2.06-.94 2.06-2.06.94z\"/><path d=\"M17.41 7.96l-1.37-1.37c-.4-.4-.92-.59-1.43-.59-.52 0-1.04.2-1.43.59L10.3 9.45l-7.72 7.72c-.78.78-.78 2.05 0 2.83L4 21.41c.39.39.9.59 1.41.59.51 0 1.02-.2 1.41-.59l7.78-7.78 2.81-2.81c.8-.78.8-2.07 0-2.86zM5.41 20L4 18.59l7.72-7.72 1.47 1.35L5.41 20z\"/>\n",
              "  </svg>\n",
              "      </button>\n",
              "      \n",
              "  <style>\n",
              "    .colab-df-container {\n",
              "      display:flex;\n",
              "      flex-wrap:wrap;\n",
              "      gap: 12px;\n",
              "    }\n",
              "\n",
              "    .colab-df-convert {\n",
              "      background-color: #E8F0FE;\n",
              "      border: none;\n",
              "      border-radius: 50%;\n",
              "      cursor: pointer;\n",
              "      display: none;\n",
              "      fill: #1967D2;\n",
              "      height: 32px;\n",
              "      padding: 0 0 0 0;\n",
              "      width: 32px;\n",
              "    }\n",
              "\n",
              "    .colab-df-convert:hover {\n",
              "      background-color: #E2EBFA;\n",
              "      box-shadow: 0px 1px 2px rgba(60, 64, 67, 0.3), 0px 1px 3px 1px rgba(60, 64, 67, 0.15);\n",
              "      fill: #174EA6;\n",
              "    }\n",
              "\n",
              "    [theme=dark] .colab-df-convert {\n",
              "      background-color: #3B4455;\n",
              "      fill: #D2E3FC;\n",
              "    }\n",
              "\n",
              "    [theme=dark] .colab-df-convert:hover {\n",
              "      background-color: #434B5C;\n",
              "      box-shadow: 0px 1px 3px 1px rgba(0, 0, 0, 0.15);\n",
              "      filter: drop-shadow(0px 1px 2px rgba(0, 0, 0, 0.3));\n",
              "      fill: #FFFFFF;\n",
              "    }\n",
              "  </style>\n",
              "\n",
              "      <script>\n",
              "        const buttonEl =\n",
              "          document.querySelector('#df-63da86aa-6b6f-4137-90b6-ba0308a8a590 button.colab-df-convert');\n",
              "        buttonEl.style.display =\n",
              "          google.colab.kernel.accessAllowed ? 'block' : 'none';\n",
              "\n",
              "        async function convertToInteractive(key) {\n",
              "          const element = document.querySelector('#df-63da86aa-6b6f-4137-90b6-ba0308a8a590');\n",
              "          const dataTable =\n",
              "            await google.colab.kernel.invokeFunction('convertToInteractive',\n",
              "                                                     [key], {});\n",
              "          if (!dataTable) return;\n",
              "\n",
              "          const docLinkHtml = 'Like what you see? Visit the ' +\n",
              "            '<a target=\"_blank\" href=https://colab.research.google.com/notebooks/data_table.ipynb>data table notebook</a>'\n",
              "            + ' to learn more about interactive tables.';\n",
              "          element.innerHTML = '';\n",
              "          dataTable['output_type'] = 'display_data';\n",
              "          await google.colab.output.renderOutput(dataTable, element);\n",
              "          const docLink = document.createElement('div');\n",
              "          docLink.innerHTML = docLinkHtml;\n",
              "          element.appendChild(docLink);\n",
              "        }\n",
              "      </script>\n",
              "    </div>\n",
              "  </div>\n",
              "  "
            ]
          },
          "metadata": {},
          "execution_count": 15
        }
      ]
    },
    {
      "cell_type": "code",
      "source": [],
      "metadata": {
        "id": "urokQKEz8o3m"
      },
      "execution_count": null,
      "outputs": []
    },
    {
      "cell_type": "code",
      "source": [],
      "metadata": {
        "id": "RZvrOYxevRl0"
      },
      "execution_count": null,
      "outputs": []
    },
    {
      "cell_type": "code",
      "source": [],
      "metadata": {
        "id": "IKXja88DvR1a"
      },
      "execution_count": null,
      "outputs": []
    },
    {
      "cell_type": "markdown",
      "source": [
        "**SUPERVISED LEARNING MODEL to find feature importance for Clustering**"
      ],
      "metadata": {
        "id": "FMz8bZIZL9IR"
      }
    },
    {
      "cell_type": "code",
      "source": [
        "\n",
        "from sklearn.metrics import classification_report, confusion_matrix\n",
        "from sklearn.model_selection import train_test_split"
      ],
      "metadata": {
        "id": "wF0MYZBDK4J0"
      },
      "execution_count": 20,
      "outputs": []
    },
    {
      "cell_type": "code",
      "source": [
        "X =clustered_df.drop('Cluster_id', axis=1)\n",
        "y= clustered_df['Cluster_id']\n",
        "\n",
        "X_train, X_test, y_train, y_test = train_test_split(X, y, test_size=0.2, random_state=42)\n",
        "\n",
        "X_train.shape, X_test.shape"
      ],
      "metadata": {
        "colab": {
          "base_uri": "https://localhost:8080/"
        },
        "id": "ZRlGXj_SMia4",
        "outputId": "13898c2b-b463-4fbf-a920-2bf46c37064e"
      },
      "execution_count": 21,
      "outputs": [
        {
          "output_type": "execute_result",
          "data": {
            "text/plain": [
              "((6560, 17), (1641, 17))"
            ]
          },
          "metadata": {},
          "execution_count": 21
        }
      ]
    },
    {
      "cell_type": "code",
      "source": [
        "# from tpot import TPOTClassifier"
      ],
      "metadata": {
        "id": "SySENPUNN_2G"
      },
      "execution_count": 46,
      "outputs": []
    },
    {
      "cell_type": "code",
      "source": [
        "# tpot_clf = TPOTClassifier(generations=100,\n",
        "#                           population_size=200,\n",
        "#                           offspring_size=200,\n",
        "#                           mutation_rate=0.9,\n",
        "#                           crossover_rate=0.1,\n",
        "#                           scoring='neg_log_loss',\n",
        "#                           cv=5,\n",
        "#                           max_time_mins=5, # max of 5 mins to try and get the best model\n",
        "#                           random_state=13,\n",
        "#                           verbosity=3)"
      ],
      "metadata": {
        "id": "krsjjcYTN_56"
      },
      "execution_count": 47,
      "outputs": []
    },
    {
      "cell_type": "code",
      "source": [
        "# tpot_clf.fit(X_train, y_train)"
      ],
      "metadata": {
        "colab": {
          "base_uri": "https://localhost:8080/",
          "height": 223,
          "referenced_widgets": [
            "432ef32b1b1744c186da3fc219774e02",
            "3dfc5edf3b9f490f9c5987174b81277f",
            "78ac0057bd2b410ea9bd007c74a64548",
            "125391b33b4b4b3296fe03e6cc5a96b2",
            "0ef954de68004e3a9abc5134bf6d00c0",
            "44bbee5a762f4dfca2400aa8671177e0",
            "5595530c700a4dc983b108c85a4351ad",
            "9715e4cdb98c4c49aeaec90bf36c0913",
            "248158f4f0454a808734555f06038370",
            "5630f9dd257b4ba2ad64bed4d50386ad",
            "22291f648bbf4ba9b05b9d4168821775"
          ]
        },
        "id": "N-seqXqyOto-",
        "outputId": "172c58e2-0e46-40ac-e954-c49a82ceba04"
      },
      "execution_count": 48,
      "outputs": [
        {
          "output_type": "stream",
          "name": "stdout",
          "text": [
            "32 operators have been imported by TPOT.\n"
          ]
        },
        {
          "output_type": "display_data",
          "data": {
            "text/plain": [
              "Optimization Progress:   0%|          | 0/200 [00:00<?, ?pipeline/s]"
            ],
            "application/vnd.jupyter.widget-view+json": {
              "version_major": 2,
              "version_minor": 0,
              "model_id": "432ef32b1b1744c186da3fc219774e02"
            }
          },
          "metadata": {}
        },
        {
          "output_type": "stream",
          "name": "stdout",
          "text": [
            "\n",
            "5.09 minutes have elapsed. TPOT will close down.\n",
            "TPOT closed during evaluation in one generation.\n",
            "WARNING: TPOT may not provide a good pipeline if TPOT is stopped/interrupted in a early generation.\n",
            "\n",
            "\n",
            "TPOT closed prematurely. Will use the current best pipeline.\n"
          ]
        },
        {
          "output_type": "execute_result",
          "data": {
            "text/plain": [
              "TPOTClassifier(max_time_mins=5, offspring_size=200, population_size=200,\n",
              "               random_state=13, scoring='neg_log_loss', verbosity=3)"
            ]
          },
          "metadata": {},
          "execution_count": 48
        }
      ]
    },
    {
      "cell_type": "code",
      "source": [
        "# tpot_clf"
      ],
      "metadata": {
        "colab": {
          "base_uri": "https://localhost:8080/"
        },
        "id": "6k1IBMl2S8fj",
        "outputId": "e78b1045-c475-4b41-ea6f-f62feadcfacd"
      },
      "execution_count": 49,
      "outputs": [
        {
          "output_type": "execute_result",
          "data": {
            "text/plain": [
              "TPOTClassifier(max_time_mins=5, offspring_size=200, population_size=200,\n",
              "               random_state=13, scoring='neg_log_loss', verbosity=3)"
            ]
          },
          "metadata": {},
          "execution_count": 49
        }
      ]
    },
    {
      "cell_type": "code",
      "source": [
        "# tpot_clf.fitted_pipeline_"
      ],
      "metadata": {
        "colab": {
          "base_uri": "https://localhost:8080/"
        },
        "id": "xDH4dB1bS81W",
        "outputId": "971c4070-5b87-4262-8649-7cd1a6d36624"
      },
      "execution_count": 50,
      "outputs": [
        {
          "output_type": "execute_result",
          "data": {
            "text/plain": [
              "Pipeline(steps=[('stackingestimator',\n",
              "                 StackingEstimator(estimator=ExtraTreesClassifier(max_features=0.35000000000000003,\n",
              "                                                                  min_samples_leaf=18,\n",
              "                                                                  min_samples_split=18,\n",
              "                                                                  random_state=13))),\n",
              "                ('randomforestclassifier',\n",
              "                 RandomForestClassifier(bootstrap=False,\n",
              "                                        max_features=0.6500000000000001,\n",
              "                                        min_samples_leaf=19,\n",
              "                                        min_samples_split=18,\n",
              "                                        random_state=13))])"
            ]
          },
          "metadata": {},
          "execution_count": 50
        }
      ]
    },
    {
      "cell_type": "code",
      "source": [
        "# predictions = tpot_clf.predict(X_test)\n",
        "# predictions[:5]"
      ],
      "metadata": {
        "colab": {
          "base_uri": "https://localhost:8080/"
        },
        "id": "t_WaCHlTTYb2",
        "outputId": "d2c3ea30-c461-41f8-d4c0-4ce626a9df6c"
      },
      "execution_count": 51,
      "outputs": [
        {
          "output_type": "execute_result",
          "data": {
            "text/plain": [
              "array([1, 1, 3, 3, 0], dtype=int32)"
            ]
          },
          "metadata": {},
          "execution_count": 51
        }
      ]
    },
    {
      "cell_type": "code",
      "source": [
        "# cf = confusion_matrix(y_test, predictions)\n",
        "# sns.heatmap(cf, annot=True);"
      ],
      "metadata": {
        "colab": {
          "base_uri": "https://localhost:8080/",
          "height": 347
        },
        "id": "ehV64HrETfhy",
        "outputId": "2450f78b-af7b-4db7-bdf6-c368dd5b5b9e"
      },
      "execution_count": 52,
      "outputs": [
        {
          "output_type": "display_data",
          "data": {
            "text/plain": [
              "<Figure size 576x396 with 2 Axes>"
            ],
            "image/png": "[encoded data removed]"
          },
          "metadata": {}
        }
      ]
    },
    {
      "cell_type": "code",
      "source": [
        "# print(classification_report(y_test, predictions))"
      ],
      "metadata": {
        "colab": {
          "base_uri": "https://localhost:8080/"
        },
        "id": "Yk-wRvwHTfoT",
        "outputId": "ec0922ed-ed0d-44a1-f9d1-17124b9f9fea"
      },
      "execution_count": 53,
      "outputs": [
        {
          "output_type": "stream",
          "name": "stdout",
          "text": [
            "              precision    recall  f1-score   support\n",
            "\n",
            "           0       0.94      0.90      0.92       299\n",
            "           1       0.96      0.95      0.95       552\n",
            "           2       0.95      0.97      0.96       403\n",
            "           3       0.91      0.94      0.92       387\n",
            "\n",
            "    accuracy                           0.94      1641\n",
            "   macro avg       0.94      0.94      0.94      1641\n",
            "weighted avg       0.94      0.94      0.94      1641\n",
            "\n"
          ]
        }
      ]
    },
    {
      "cell_type": "code",
      "source": [
        "import numpy as np\n",
        "import pandas as pd\n",
        "\n",
        "import seaborn as sns\n",
        "import matplotlib.pyplot as plt\n",
        "%matplotlib inline\n",
        "\n",
        "import plotly.graph_objects as go\n",
        "import plotly.express as px\n",
        "\n",
        "plt.rcParams[\"figure.figsize\"] = (10, 10)  # Change matplotlib Box Size\n",
        "plt.rcParams[\"font.size\"] = 14  # Change matplotlib Font Size\n",
        "plt.style.use(\"fivethirtyeight\")"
      ],
      "metadata": {
        "id": "PyY9Vv0SVu9M"
      },
      "execution_count": 16,
      "outputs": []
    },
    {
      "cell_type": "code",
      "source": [
        "from pycaret.classification import *\n",
        "\n",
        "clf = setup(data=pd.concat([X_train, y_train], axis=1),\n",
        "            target = 'Cluster_id',\n",
        "            session_id=13,\n",
        "            # max_encoding_ohe=600, # columns with 600 or less categories will be One-hot encoded ELSE target encoding\n",
        "            # rare_to_value=0.008, # Categories with less than 0.008 (0.8%) of the data will be grouped into a new category (Other)\n",
        "            rare_value='Other',\n",
        "            experiment_name='swiss1',\n",
        "            n_jobs=-1)"
      ],
      "metadata": {
        "colab": {
          "base_uri": "https://localhost:8080/",
          "height": 645
        },
        "id": "t2D3q3wMVyiD",
        "outputId": "6179e5d1-8861-46a2-f370-af64e915e6cf"
      },
      "execution_count": 22,
      "outputs": [
        {
          "output_type": "display_data",
          "data": {
            "text/plain": [
              "<pandas.io.formats.style.Styler at 0x7f40c8bd57f0>"
            ],
            "text/html": [
              "<style type=\"text/css\">\n",
              "#T_ea096_row8_col1 {\n",
              "  background-color: lightgreen;\n",
              "}\n",
              "</style>\n",
              "<table id=\"T_ea096_\" class=\"dataframe\">\n",
              "  <thead>\n",
              "    <tr>\n",
              "      <th class=\"blank level0\" >&nbsp;</th>\n",
              "      <th class=\"col_heading level0 col0\" >Description</th>\n",
              "      <th class=\"col_heading level0 col1\" >Value</th>\n",
              "    </tr>\n",
              "  </thead>\n",
              "  <tbody>\n",
              "    <tr>\n",
              "      <th id=\"T_ea096_level0_row0\" class=\"row_heading level0 row0\" >0</th>\n",
              "      <td id=\"T_ea096_row0_col0\" class=\"data row0 col0\" >Session id</td>\n",
              "      <td id=\"T_ea096_row0_col1\" class=\"data row0 col1\" >13</td>\n",
              "    </tr>\n",
              "    <tr>\n",
              "      <th id=\"T_ea096_level0_row1\" class=\"row_heading level0 row1\" >1</th>\n",
              "      <td id=\"T_ea096_row1_col0\" class=\"data row1 col0\" >Target</td>\n",
              "      <td id=\"T_ea096_row1_col1\" class=\"data row1 col1\" >Cluster_id</td>\n",
              "    </tr>\n",
              "    <tr>\n",
              "      <th id=\"T_ea096_level0_row2\" class=\"row_heading level0 row2\" >2</th>\n",
              "      <td id=\"T_ea096_row2_col0\" class=\"data row2 col0\" >Target type</td>\n",
              "      <td id=\"T_ea096_row2_col1\" class=\"data row2 col1\" >Multiclass</td>\n",
              "    </tr>\n",
              "    <tr>\n",
              "      <th id=\"T_ea096_level0_row3\" class=\"row_heading level0 row3\" >3</th>\n",
              "      <td id=\"T_ea096_row3_col0\" class=\"data row3 col0\" >Original data shape</td>\n",
              "      <td id=\"T_ea096_row3_col1\" class=\"data row3 col1\" >(6560, 18)</td>\n",
              "    </tr>\n",
              "    <tr>\n",
              "      <th id=\"T_ea096_level0_row4\" class=\"row_heading level0 row4\" >4</th>\n",
              "      <td id=\"T_ea096_row4_col0\" class=\"data row4 col0\" >Transformed data shape</td>\n",
              "      <td id=\"T_ea096_row4_col1\" class=\"data row4 col1\" >(6560, 18)</td>\n",
              "    </tr>\n",
              "    <tr>\n",
              "      <th id=\"T_ea096_level0_row5\" class=\"row_heading level0 row5\" >5</th>\n",
              "      <td id=\"T_ea096_row5_col0\" class=\"data row5 col0\" >Transformed train set shape</td>\n",
              "      <td id=\"T_ea096_row5_col1\" class=\"data row5 col1\" >(4592, 18)</td>\n",
              "    </tr>\n",
              "    <tr>\n",
              "      <th id=\"T_ea096_level0_row6\" class=\"row_heading level0 row6\" >6</th>\n",
              "      <td id=\"T_ea096_row6_col0\" class=\"data row6 col0\" >Transformed test set shape</td>\n",
              "      <td id=\"T_ea096_row6_col1\" class=\"data row6 col1\" >(1968, 18)</td>\n",
              "    </tr>\n",
              "    <tr>\n",
              "      <th id=\"T_ea096_level0_row7\" class=\"row_heading level0 row7\" >7</th>\n",
              "      <td id=\"T_ea096_row7_col0\" class=\"data row7 col0\" >Numeric features</td>\n",
              "      <td id=\"T_ea096_row7_col1\" class=\"data row7 col1\" >17</td>\n",
              "    </tr>\n",
              "    <tr>\n",
              "      <th id=\"T_ea096_level0_row8\" class=\"row_heading level0 row8\" >8</th>\n",
              "      <td id=\"T_ea096_row8_col0\" class=\"data row8 col0\" >Preprocess</td>\n",
              "      <td id=\"T_ea096_row8_col1\" class=\"data row8 col1\" >True</td>\n",
              "    </tr>\n",
              "    <tr>\n",
              "      <th id=\"T_ea096_level0_row9\" class=\"row_heading level0 row9\" >9</th>\n",
              "      <td id=\"T_ea096_row9_col0\" class=\"data row9 col0\" >Imputation type</td>\n",
              "      <td id=\"T_ea096_row9_col1\" class=\"data row9 col1\" >simple</td>\n",
              "    </tr>\n",
              "    <tr>\n",
              "      <th id=\"T_ea096_level0_row10\" class=\"row_heading level0 row10\" >10</th>\n",
              "      <td id=\"T_ea096_row10_col0\" class=\"data row10 col0\" >Numeric imputation</td>\n",
              "      <td id=\"T_ea096_row10_col1\" class=\"data row10 col1\" >mean</td>\n",
              "    </tr>\n",
              "    <tr>\n",
              "      <th id=\"T_ea096_level0_row11\" class=\"row_heading level0 row11\" >11</th>\n",
              "      <td id=\"T_ea096_row11_col0\" class=\"data row11 col0\" >Categorical imputation</td>\n",
              "      <td id=\"T_ea096_row11_col1\" class=\"data row11 col1\" >mode</td>\n",
              "    </tr>\n",
              "    <tr>\n",
              "      <th id=\"T_ea096_level0_row12\" class=\"row_heading level0 row12\" >12</th>\n",
              "      <td id=\"T_ea096_row12_col0\" class=\"data row12 col0\" >Fold Generator</td>\n",
              "      <td id=\"T_ea096_row12_col1\" class=\"data row12 col1\" >StratifiedKFold</td>\n",
              "    </tr>\n",
              "    <tr>\n",
              "      <th id=\"T_ea096_level0_row13\" class=\"row_heading level0 row13\" >13</th>\n",
              "      <td id=\"T_ea096_row13_col0\" class=\"data row13 col0\" >Fold Number</td>\n",
              "      <td id=\"T_ea096_row13_col1\" class=\"data row13 col1\" >10</td>\n",
              "    </tr>\n",
              "    <tr>\n",
              "      <th id=\"T_ea096_level0_row14\" class=\"row_heading level0 row14\" >14</th>\n",
              "      <td id=\"T_ea096_row14_col0\" class=\"data row14 col0\" >CPU Jobs</td>\n",
              "      <td id=\"T_ea096_row14_col1\" class=\"data row14 col1\" >-1</td>\n",
              "    </tr>\n",
              "    <tr>\n",
              "      <th id=\"T_ea096_level0_row15\" class=\"row_heading level0 row15\" >15</th>\n",
              "      <td id=\"T_ea096_row15_col0\" class=\"data row15 col0\" >Use GPU</td>\n",
              "      <td id=\"T_ea096_row15_col1\" class=\"data row15 col1\" >False</td>\n",
              "    </tr>\n",
              "    <tr>\n",
              "      <th id=\"T_ea096_level0_row16\" class=\"row_heading level0 row16\" >16</th>\n",
              "      <td id=\"T_ea096_row16_col0\" class=\"data row16 col0\" >Log Experiment</td>\n",
              "      <td id=\"T_ea096_row16_col1\" class=\"data row16 col1\" >False</td>\n",
              "    </tr>\n",
              "    <tr>\n",
              "      <th id=\"T_ea096_level0_row17\" class=\"row_heading level0 row17\" >17</th>\n",
              "      <td id=\"T_ea096_row17_col0\" class=\"data row17 col0\" >Experiment Name</td>\n",
              "      <td id=\"T_ea096_row17_col1\" class=\"data row17 col1\" >swiss1</td>\n",
              "    </tr>\n",
              "    <tr>\n",
              "      <th id=\"T_ea096_level0_row18\" class=\"row_heading level0 row18\" >18</th>\n",
              "      <td id=\"T_ea096_row18_col0\" class=\"data row18 col0\" >USI</td>\n",
              "      <td id=\"T_ea096_row18_col1\" class=\"data row18 col1\" >9214</td>\n",
              "    </tr>\n",
              "  </tbody>\n",
              "</table>\n"
            ]
          },
          "metadata": {}
        }
      ]
    },
    {
      "cell_type": "code",
      "source": [
        "best_model = compare_models(fold=5, sort='F1')"
      ],
      "metadata": {
        "colab": {
          "base_uri": "https://localhost:8080/",
          "height": 519,
          "referenced_widgets": [
            "5dc1305eb6b74ee3997de4666a999430",
            "dc4ba51913a6450aafcdbf17d22d2acb",
            "f9b467073b8c492b83d9ed266df966b8",
            "ab46559dce82408982427ac5b8980885",
            "bc3050e728c440c1a63294051d2af795",
            "32cae1a21378486a9b695cef8107d0c9",
            "86b4ee063fd04df5905798d7adb72d60",
            "410054d87e754b4f8c542b37c94b3df8",
            "839200c4d7fb4759a07177fb5984c8f0",
            "d370702c54ed48c699f0ddd77bc1e221",
            "58047ca5fafd4cc4aadbf8a8fe0e526e"
          ]
        },
        "id": "Jb3XBKcVVym8",
        "outputId": "746db3fe-b170-4786-fe00-55114d175304"
      },
      "execution_count": 23,
      "outputs": [
        {
          "output_type": "display_data",
          "data": {
            "text/plain": [
              "<IPython.core.display.HTML object>"
            ],
            "text/html": []
          },
          "metadata": {}
        },
        {
          "output_type": "display_data",
          "data": {
            "text/plain": [
              "<pandas.io.formats.style.Styler at 0x7f40c81502e0>"
            ],
            "text/html": [
              "<style type=\"text/css\">\n",
              "#T_8d169_ th {\n",
              "  text-align: left;\n",
              "}\n",
              "#T_8d169_row0_col0, #T_8d169_row0_col2, #T_8d169_row1_col0, #T_8d169_row1_col1, #T_8d169_row1_col3, #T_8d169_row1_col4, #T_8d169_row1_col5, #T_8d169_row1_col6, #T_8d169_row1_col7, #T_8d169_row2_col0, #T_8d169_row2_col1, #T_8d169_row2_col2, #T_8d169_row2_col3, #T_8d169_row2_col4, #T_8d169_row2_col5, #T_8d169_row2_col6, #T_8d169_row2_col7, #T_8d169_row3_col0, #T_8d169_row3_col1, #T_8d169_row3_col2, #T_8d169_row3_col3, #T_8d169_row3_col4, #T_8d169_row3_col5, #T_8d169_row3_col6, #T_8d169_row3_col7, #T_8d169_row4_col0, #T_8d169_row4_col1, #T_8d169_row4_col2, #T_8d169_row4_col3, #T_8d169_row4_col4, #T_8d169_row4_col5, #T_8d169_row4_col6, #T_8d169_row4_col7, #T_8d169_row5_col0, #T_8d169_row5_col1, #T_8d169_row5_col2, #T_8d169_row5_col3, #T_8d169_row5_col4, #T_8d169_row5_col5, #T_8d169_row5_col6, #T_8d169_row5_col7, #T_8d169_row6_col0, #T_8d169_row6_col1, #T_8d169_row6_col2, #T_8d169_row6_col3, #T_8d169_row6_col4, #T_8d169_row6_col5, #T_8d169_row6_col6, #T_8d169_row6_col7, #T_8d169_row7_col0, #T_8d169_row7_col1, #T_8d169_row7_col2, #T_8d169_row7_col3, #T_8d169_row7_col4, #T_8d169_row7_col5, #T_8d169_row7_col6, #T_8d169_row7_col7, #T_8d169_row8_col0, #T_8d169_row8_col1, #T_8d169_row8_col2, #T_8d169_row8_col3, #T_8d169_row8_col4, #T_8d169_row8_col5, #T_8d169_row8_col6, #T_8d169_row8_col7, #T_8d169_row9_col0, #T_8d169_row9_col1, #T_8d169_row9_col2, #T_8d169_row9_col3, #T_8d169_row9_col4, #T_8d169_row9_col5, #T_8d169_row9_col6, #T_8d169_row9_col7, #T_8d169_row10_col0, #T_8d169_row10_col1, #T_8d169_row10_col2, #T_8d169_row10_col3, #T_8d169_row10_col4, #T_8d169_row10_col5, #T_8d169_row10_col6, #T_8d169_row10_col7, #T_8d169_row11_col0, #T_8d169_row11_col1, #T_8d169_row11_col2, #T_8d169_row11_col3, #T_8d169_row11_col4, #T_8d169_row11_col5, #T_8d169_row11_col6, #T_8d169_row11_col7, #T_8d169_row12_col0, #T_8d169_row12_col1, #T_8d169_row12_col2, #T_8d169_row12_col3, #T_8d169_row12_col4, #T_8d169_row12_col5, #T_8d169_row12_col6, #T_8d169_row12_col7, #T_8d169_row13_col0, #T_8d169_row13_col1, #T_8d169_row13_col2, #T_8d169_row13_col3, #T_8d169_row13_col4, #T_8d169_row13_col5, #T_8d169_row13_col6, #T_8d169_row13_col7, #T_8d169_row14_col0, #T_8d169_row14_col1, #T_8d169_row14_col2, #T_8d169_row14_col3, #T_8d169_row14_col4, #T_8d169_row14_col5, #T_8d169_row14_col6, #T_8d169_row14_col7 {\n",
              "  text-align: left;\n",
              "}\n",
              "#T_8d169_row0_col1, #T_8d169_row0_col3, #T_8d169_row0_col4, #T_8d169_row0_col5, #T_8d169_row0_col6, #T_8d169_row0_col7, #T_8d169_row1_col2 {\n",
              "  text-align: left;\n",
              "  background-color: yellow;\n",
              "}\n",
              "#T_8d169_row0_col8, #T_8d169_row1_col8, #T_8d169_row2_col8, #T_8d169_row3_col8, #T_8d169_row4_col8, #T_8d169_row5_col8, #T_8d169_row6_col8, #T_8d169_row7_col8, #T_8d169_row8_col8, #T_8d169_row9_col8, #T_8d169_row10_col8, #T_8d169_row11_col8, #T_8d169_row12_col8, #T_8d169_row13_col8 {\n",
              "  text-align: left;\n",
              "  background-color: lightgrey;\n",
              "}\n",
              "#T_8d169_row14_col8 {\n",
              "  text-align: left;\n",
              "  background-color: yellow;\n",
              "  background-color: lightgrey;\n",
              "}\n",
              "</style>\n",
              "<table id=\"T_8d169_\" class=\"dataframe\">\n",
              "  <thead>\n",
              "    <tr>\n",
              "      <th class=\"blank level0\" >&nbsp;</th>\n",
              "      <th class=\"col_heading level0 col0\" >Model</th>\n",
              "      <th class=\"col_heading level0 col1\" >Accuracy</th>\n",
              "      <th class=\"col_heading level0 col2\" >AUC</th>\n",
              "      <th class=\"col_heading level0 col3\" >Recall</th>\n",
              "      <th class=\"col_heading level0 col4\" >Prec.</th>\n",
              "      <th class=\"col_heading level0 col5\" >F1</th>\n",
              "      <th class=\"col_heading level0 col6\" >Kappa</th>\n",
              "      <th class=\"col_heading level0 col7\" >MCC</th>\n",
              "      <th class=\"col_heading level0 col8\" >TT (Sec)</th>\n",
              "    </tr>\n",
              "  </thead>\n",
              "  <tbody>\n",
              "    <tr>\n",
              "      <th id=\"T_8d169_level0_row0\" class=\"row_heading level0 row0\" >et</th>\n",
              "      <td id=\"T_8d169_row0_col0\" class=\"data row0 col0\" >Extra Trees Classifier</td>\n",
              "      <td id=\"T_8d169_row0_col1\" class=\"data row0 col1\" >0.9578</td>\n",
              "      <td id=\"T_8d169_row0_col2\" class=\"data row0 col2\" >0.9976</td>\n",
              "      <td id=\"T_8d169_row0_col3\" class=\"data row0 col3\" >0.9578</td>\n",
              "      <td id=\"T_8d169_row0_col4\" class=\"data row0 col4\" >0.9580</td>\n",
              "      <td id=\"T_8d169_row0_col5\" class=\"data row0 col5\" >0.9577</td>\n",
              "      <td id=\"T_8d169_row0_col6\" class=\"data row0 col6\" >0.9421</td>\n",
              "      <td id=\"T_8d169_row0_col7\" class=\"data row0 col7\" >0.9422</td>\n",
              "      <td id=\"T_8d169_row0_col8\" class=\"data row0 col8\" >0.5240</td>\n",
              "    </tr>\n",
              "    <tr>\n",
              "      <th id=\"T_8d169_level0_row1\" class=\"row_heading level0 row1\" >lightgbm</th>\n",
              "      <td id=\"T_8d169_row1_col0\" class=\"data row1 col0\" >Light Gradient Boosting Machine</td>\n",
              "      <td id=\"T_8d169_row1_col1\" class=\"data row1 col1\" >0.9547</td>\n",
              "      <td id=\"T_8d169_row1_col2\" class=\"data row1 col2\" >0.9977</td>\n",
              "      <td id=\"T_8d169_row1_col3\" class=\"data row1 col3\" >0.9547</td>\n",
              "      <td id=\"T_8d169_row1_col4\" class=\"data row1 col4\" >0.9549</td>\n",
              "      <td id=\"T_8d169_row1_col5\" class=\"data row1 col5\" >0.9547</td>\n",
              "      <td id=\"T_8d169_row1_col6\" class=\"data row1 col6\" >0.9379</td>\n",
              "      <td id=\"T_8d169_row1_col7\" class=\"data row1 col7\" >0.9380</td>\n",
              "      <td id=\"T_8d169_row1_col8\" class=\"data row1 col8\" >1.0040</td>\n",
              "    </tr>\n",
              "    <tr>\n",
              "      <th id=\"T_8d169_level0_row2\" class=\"row_heading level0 row2\" >xgboost</th>\n",
              "      <td id=\"T_8d169_row2_col0\" class=\"data row2 col0\" >Extreme Gradient Boosting</td>\n",
              "      <td id=\"T_8d169_row2_col1\" class=\"data row2 col1\" >0.9532</td>\n",
              "      <td id=\"T_8d169_row2_col2\" class=\"data row2 col2\" >0.9974</td>\n",
              "      <td id=\"T_8d169_row2_col3\" class=\"data row2 col3\" >0.9532</td>\n",
              "      <td id=\"T_8d169_row2_col4\" class=\"data row2 col4\" >0.9535</td>\n",
              "      <td id=\"T_8d169_row2_col5\" class=\"data row2 col5\" >0.9532</td>\n",
              "      <td id=\"T_8d169_row2_col6\" class=\"data row2 col6\" >0.9359</td>\n",
              "      <td id=\"T_8d169_row2_col7\" class=\"data row2 col7\" >0.9360</td>\n",
              "      <td id=\"T_8d169_row2_col8\" class=\"data row2 col8\" >2.4500</td>\n",
              "    </tr>\n",
              "    <tr>\n",
              "      <th id=\"T_8d169_level0_row3\" class=\"row_heading level0 row3\" >gbc</th>\n",
              "      <td id=\"T_8d169_row3_col0\" class=\"data row3 col0\" >Gradient Boosting Classifier</td>\n",
              "      <td id=\"T_8d169_row3_col1\" class=\"data row3 col1\" >0.9497</td>\n",
              "      <td id=\"T_8d169_row3_col2\" class=\"data row3 col2\" >0.9971</td>\n",
              "      <td id=\"T_8d169_row3_col3\" class=\"data row3 col3\" >0.9497</td>\n",
              "      <td id=\"T_8d169_row3_col4\" class=\"data row3 col4\" >0.9499</td>\n",
              "      <td id=\"T_8d169_row3_col5\" class=\"data row3 col5\" >0.9497</td>\n",
              "      <td id=\"T_8d169_row3_col6\" class=\"data row3 col6\" >0.9311</td>\n",
              "      <td id=\"T_8d169_row3_col7\" class=\"data row3 col7\" >0.9312</td>\n",
              "      <td id=\"T_8d169_row3_col8\" class=\"data row3 col8\" >5.7800</td>\n",
              "    </tr>\n",
              "    <tr>\n",
              "      <th id=\"T_8d169_level0_row4\" class=\"row_heading level0 row4\" >rf</th>\n",
              "      <td id=\"T_8d169_row4_col0\" class=\"data row4 col0\" >Random Forest Classifier</td>\n",
              "      <td id=\"T_8d169_row4_col1\" class=\"data row4 col1\" >0.9493</td>\n",
              "      <td id=\"T_8d169_row4_col2\" class=\"data row4 col2\" >0.9966</td>\n",
              "      <td id=\"T_8d169_row4_col3\" class=\"data row4 col3\" >0.9493</td>\n",
              "      <td id=\"T_8d169_row4_col4\" class=\"data row4 col4\" >0.9495</td>\n",
              "      <td id=\"T_8d169_row4_col5\" class=\"data row4 col5\" >0.9493</td>\n",
              "      <td id=\"T_8d169_row4_col6\" class=\"data row4 col6\" >0.9305</td>\n",
              "      <td id=\"T_8d169_row4_col7\" class=\"data row4 col7\" >0.9306</td>\n",
              "      <td id=\"T_8d169_row4_col8\" class=\"data row4 col8\" >0.7440</td>\n",
              "    </tr>\n",
              "    <tr>\n",
              "      <th id=\"T_8d169_level0_row5\" class=\"row_heading level0 row5\" >dt</th>\n",
              "      <td id=\"T_8d169_row5_col0\" class=\"data row5 col0\" >Decision Tree Classifier</td>\n",
              "      <td id=\"T_8d169_row5_col1\" class=\"data row5 col1\" >0.9183</td>\n",
              "      <td id=\"T_8d169_row5_col2\" class=\"data row5 col2\" >0.9443</td>\n",
              "      <td id=\"T_8d169_row5_col3\" class=\"data row5 col3\" >0.9183</td>\n",
              "      <td id=\"T_8d169_row5_col4\" class=\"data row5 col4\" >0.9185</td>\n",
              "      <td id=\"T_8d169_row5_col5\" class=\"data row5 col5\" >0.9183</td>\n",
              "      <td id=\"T_8d169_row5_col6\" class=\"data row5 col6\" >0.8880</td>\n",
              "      <td id=\"T_8d169_row5_col7\" class=\"data row5 col7\" >0.8881</td>\n",
              "      <td id=\"T_8d169_row5_col8\" class=\"data row5 col8\" >0.1240</td>\n",
              "    </tr>\n",
              "    <tr>\n",
              "      <th id=\"T_8d169_level0_row6\" class=\"row_heading level0 row6\" >ada</th>\n",
              "      <td id=\"T_8d169_row6_col0\" class=\"data row6 col0\" >Ada Boost Classifier</td>\n",
              "      <td id=\"T_8d169_row6_col1\" class=\"data row6 col1\" >0.9007</td>\n",
              "      <td id=\"T_8d169_row6_col2\" class=\"data row6 col2\" >0.9707</td>\n",
              "      <td id=\"T_8d169_row6_col3\" class=\"data row6 col3\" >0.9007</td>\n",
              "      <td id=\"T_8d169_row6_col4\" class=\"data row6 col4\" >0.9016</td>\n",
              "      <td id=\"T_8d169_row6_col5\" class=\"data row6 col5\" >0.9008</td>\n",
              "      <td id=\"T_8d169_row6_col6\" class=\"data row6 col6\" >0.8641</td>\n",
              "      <td id=\"T_8d169_row6_col7\" class=\"data row6 col7\" >0.8644</td>\n",
              "      <td id=\"T_8d169_row6_col8\" class=\"data row6 col8\" >0.3780</td>\n",
              "    </tr>\n",
              "    <tr>\n",
              "      <th id=\"T_8d169_level0_row7\" class=\"row_heading level0 row7\" >lda</th>\n",
              "      <td id=\"T_8d169_row7_col0\" class=\"data row7 col0\" >Linear Discriminant Analysis</td>\n",
              "      <td id=\"T_8d169_row7_col1\" class=\"data row7 col1\" >0.8959</td>\n",
              "      <td id=\"T_8d169_row7_col2\" class=\"data row7 col2\" >0.9888</td>\n",
              "      <td id=\"T_8d169_row7_col3\" class=\"data row7 col3\" >0.8959</td>\n",
              "      <td id=\"T_8d169_row7_col4\" class=\"data row7 col4\" >0.9014</td>\n",
              "      <td id=\"T_8d169_row7_col5\" class=\"data row7 col5\" >0.8948</td>\n",
              "      <td id=\"T_8d169_row7_col6\" class=\"data row7 col6\" >0.8564</td>\n",
              "      <td id=\"T_8d169_row7_col7\" class=\"data row7 col7\" >0.8586</td>\n",
              "      <td id=\"T_8d169_row7_col8\" class=\"data row7 col8\" >0.0560</td>\n",
              "    </tr>\n",
              "    <tr>\n",
              "      <th id=\"T_8d169_level0_row8\" class=\"row_heading level0 row8\" >ridge</th>\n",
              "      <td id=\"T_8d169_row8_col0\" class=\"data row8 col0\" >Ridge Classifier</td>\n",
              "      <td id=\"T_8d169_row8_col1\" class=\"data row8 col1\" >0.8839</td>\n",
              "      <td id=\"T_8d169_row8_col2\" class=\"data row8 col2\" >0.0000</td>\n",
              "      <td id=\"T_8d169_row8_col3\" class=\"data row8 col3\" >0.8839</td>\n",
              "      <td id=\"T_8d169_row8_col4\" class=\"data row8 col4\" >0.8888</td>\n",
              "      <td id=\"T_8d169_row8_col5\" class=\"data row8 col5\" >0.8824</td>\n",
              "      <td id=\"T_8d169_row8_col6\" class=\"data row8 col6\" >0.8392</td>\n",
              "      <td id=\"T_8d169_row8_col7\" class=\"data row8 col7\" >0.8418</td>\n",
              "      <td id=\"T_8d169_row8_col8\" class=\"data row8 col8\" >0.0660</td>\n",
              "    </tr>\n",
              "    <tr>\n",
              "      <th id=\"T_8d169_level0_row9\" class=\"row_heading level0 row9\" >qda</th>\n",
              "      <td id=\"T_8d169_row9_col0\" class=\"data row9 col0\" >Quadratic Discriminant Analysis</td>\n",
              "      <td id=\"T_8d169_row9_col1\" class=\"data row9 col1\" >0.8108</td>\n",
              "      <td id=\"T_8d169_row9_col2\" class=\"data row9 col2\" >0.9754</td>\n",
              "      <td id=\"T_8d169_row9_col3\" class=\"data row9 col3\" >0.8108</td>\n",
              "      <td id=\"T_8d169_row9_col4\" class=\"data row9 col4\" >0.8559</td>\n",
              "      <td id=\"T_8d169_row9_col5\" class=\"data row9 col5\" >0.8075</td>\n",
              "      <td id=\"T_8d169_row9_col6\" class=\"data row9 col6\" >0.7455</td>\n",
              "      <td id=\"T_8d169_row9_col7\" class=\"data row9 col7\" >0.7610</td>\n",
              "      <td id=\"T_8d169_row9_col8\" class=\"data row9 col8\" >0.0500</td>\n",
              "    </tr>\n",
              "    <tr>\n",
              "      <th id=\"T_8d169_level0_row10\" class=\"row_heading level0 row10\" >nb</th>\n",
              "      <td id=\"T_8d169_row10_col0\" class=\"data row10 col0\" >Naive Bayes</td>\n",
              "      <td id=\"T_8d169_row10_col1\" class=\"data row10 col1\" >0.7986</td>\n",
              "      <td id=\"T_8d169_row10_col2\" class=\"data row10 col2\" >0.9703</td>\n",
              "      <td id=\"T_8d169_row10_col3\" class=\"data row10 col3\" >0.7986</td>\n",
              "      <td id=\"T_8d169_row10_col4\" class=\"data row10 col4\" >0.8374</td>\n",
              "      <td id=\"T_8d169_row10_col5\" class=\"data row10 col5\" >0.8014</td>\n",
              "      <td id=\"T_8d169_row10_col6\" class=\"data row10 col6\" >0.7311</td>\n",
              "      <td id=\"T_8d169_row10_col7\" class=\"data row10 col7\" >0.7428</td>\n",
              "      <td id=\"T_8d169_row10_col8\" class=\"data row10 col8\" >0.0780</td>\n",
              "    </tr>\n",
              "    <tr>\n",
              "      <th id=\"T_8d169_level0_row11\" class=\"row_heading level0 row11\" >lr</th>\n",
              "      <td id=\"T_8d169_row11_col0\" class=\"data row11 col0\" >Logistic Regression</td>\n",
              "      <td id=\"T_8d169_row11_col1\" class=\"data row11 col1\" >0.7835</td>\n",
              "      <td id=\"T_8d169_row11_col2\" class=\"data row11 col2\" >0.9434</td>\n",
              "      <td id=\"T_8d169_row11_col3\" class=\"data row11 col3\" >0.7835</td>\n",
              "      <td id=\"T_8d169_row11_col4\" class=\"data row11 col4\" >0.7885</td>\n",
              "      <td id=\"T_8d169_row11_col5\" class=\"data row11 col5\" >0.7834</td>\n",
              "      <td id=\"T_8d169_row11_col6\" class=\"data row11 col6\" >0.7037</td>\n",
              "      <td id=\"T_8d169_row11_col7\" class=\"data row11 col7\" >0.7056</td>\n",
              "      <td id=\"T_8d169_row11_col8\" class=\"data row11 col8\" >1.2660</td>\n",
              "    </tr>\n",
              "    <tr>\n",
              "      <th id=\"T_8d169_level0_row12\" class=\"row_heading level0 row12\" >knn</th>\n",
              "      <td id=\"T_8d169_row12_col0\" class=\"data row12 col0\" >K Neighbors Classifier</td>\n",
              "      <td id=\"T_8d169_row12_col1\" class=\"data row12 col1\" >0.7025</td>\n",
              "      <td id=\"T_8d169_row12_col2\" class=\"data row12 col2\" >0.8867</td>\n",
              "      <td id=\"T_8d169_row12_col3\" class=\"data row12 col3\" >0.7025</td>\n",
              "      <td id=\"T_8d169_row12_col4\" class=\"data row12 col4\" >0.6988</td>\n",
              "      <td id=\"T_8d169_row12_col5\" class=\"data row12 col5\" >0.6993</td>\n",
              "      <td id=\"T_8d169_row12_col6\" class=\"data row12 col6\" >0.5902</td>\n",
              "      <td id=\"T_8d169_row12_col7\" class=\"data row12 col7\" >0.5910</td>\n",
              "      <td id=\"T_8d169_row12_col8\" class=\"data row12 col8\" >0.1640</td>\n",
              "    </tr>\n",
              "    <tr>\n",
              "      <th id=\"T_8d169_level0_row13\" class=\"row_heading level0 row13\" >svm</th>\n",
              "      <td id=\"T_8d169_row13_col0\" class=\"data row13 col0\" >SVM - Linear Kernel</td>\n",
              "      <td id=\"T_8d169_row13_col1\" class=\"data row13 col1\" >0.5773</td>\n",
              "      <td id=\"T_8d169_row13_col2\" class=\"data row13 col2\" >0.0000</td>\n",
              "      <td id=\"T_8d169_row13_col3\" class=\"data row13 col3\" >0.5773</td>\n",
              "      <td id=\"T_8d169_row13_col4\" class=\"data row13 col4\" >0.6099</td>\n",
              "      <td id=\"T_8d169_row13_col5\" class=\"data row13 col5\" >0.5663</td>\n",
              "      <td id=\"T_8d169_row13_col6\" class=\"data row13 col6\" >0.4282</td>\n",
              "      <td id=\"T_8d169_row13_col7\" class=\"data row13 col7\" >0.4450</td>\n",
              "      <td id=\"T_8d169_row13_col8\" class=\"data row13 col8\" >0.2140</td>\n",
              "    </tr>\n",
              "    <tr>\n",
              "      <th id=\"T_8d169_level0_row14\" class=\"row_heading level0 row14\" >dummy</th>\n",
              "      <td id=\"T_8d169_row14_col0\" class=\"data row14 col0\" >Dummy Classifier</td>\n",
              "      <td id=\"T_8d169_row14_col1\" class=\"data row14 col1\" >0.3715</td>\n",
              "      <td id=\"T_8d169_row14_col2\" class=\"data row14 col2\" >0.5000</td>\n",
              "      <td id=\"T_8d169_row14_col3\" class=\"data row14 col3\" >0.3715</td>\n",
              "      <td id=\"T_8d169_row14_col4\" class=\"data row14 col4\" >0.1380</td>\n",
              "      <td id=\"T_8d169_row14_col5\" class=\"data row14 col5\" >0.2013</td>\n",
              "      <td id=\"T_8d169_row14_col6\" class=\"data row14 col6\" >0.0000</td>\n",
              "      <td id=\"T_8d169_row14_col7\" class=\"data row14 col7\" >0.0000</td>\n",
              "      <td id=\"T_8d169_row14_col8\" class=\"data row14 col8\" >0.0460</td>\n",
              "    </tr>\n",
              "  </tbody>\n",
              "</table>\n"
            ]
          },
          "metadata": {}
        },
        {
          "output_type": "display_data",
          "data": {
            "text/plain": [
              "Processing:   0%|          | 0/65 [00:00<?, ?it/s]"
            ],
            "application/vnd.jupyter.widget-view+json": {
              "version_major": 2,
              "version_minor": 0,
              "model_id": "5dc1305eb6b74ee3997de4666a999430"
            }
          },
          "metadata": {
            "application/vnd.jupyter.widget-view+json": {
              "colab": {
                "custom_widget_manager": {
                  "url": "https://ssl.gstatic.com/colaboratory-static/widgets/colab-cdn-widget-manager/b3e629b1971e1542/manager.min.js"
                }
              }
            }
          }
        },
        {
          "output_type": "display_data",
          "data": {
            "text/plain": [
              "<IPython.core.display.HTML object>"
            ],
            "text/html": []
          },
          "metadata": {}
        }
      ]
    },
    {
      "cell_type": "code",
      "source": [
        "et = create_model('et', fold=5)"
      ],
      "metadata": {
        "colab": {
          "base_uri": "https://localhost:8080/",
          "height": 300,
          "referenced_widgets": [
            "11d1b5a67c78459dadc82d80b13a24b3",
            "fb44711345ef4f6a82e30293269cb4d5",
            "e9979d2cd2eb4a66b32d321e7826249c",
            "e00dc91067074fe09e80c03e46b0ba6a",
            "0be0af61f6db4e41843f417295148bcf",
            "43bb35188daa4787a8a4141fdc2ef001",
            "276209589d614ba7bd7aacbdeb1f3d3b",
            "85c78a02963743738ed61d1050057222",
            "1e03ac1dbe4047f7a11a85f8145694fa",
            "0f3ab8e05c8440418e5cbf13fd6949b4",
            "b8af936157954ad2a0baaaf61cc3e294"
          ]
        },
        "id": "C3vY0bkXVyrq",
        "outputId": "96ec89ae-dc63-4ac9-e600-0699b75f3385"
      },
      "execution_count": 24,
      "outputs": [
        {
          "output_type": "display_data",
          "data": {
            "text/plain": [
              "<IPython.core.display.HTML object>"
            ],
            "text/html": []
          },
          "metadata": {}
        },
        {
          "output_type": "display_data",
          "data": {
            "text/plain": [
              "<pandas.io.formats.style.Styler at 0x7f40cae07f70>"
            ],
            "text/html": [
              "<style type=\"text/css\">\n",
              "#T_07dc0_row5_col0, #T_07dc0_row5_col1, #T_07dc0_row5_col2, #T_07dc0_row5_col3, #T_07dc0_row5_col4, #T_07dc0_row5_col5, #T_07dc0_row5_col6 {\n",
              "  background: yellow;\n",
              "}\n",
              "</style>\n",
              "<table id=\"T_07dc0_\" class=\"dataframe\">\n",
              "  <thead>\n",
              "    <tr>\n",
              "      <th class=\"blank level0\" >&nbsp;</th>\n",
              "      <th class=\"col_heading level0 col0\" >Accuracy</th>\n",
              "      <th class=\"col_heading level0 col1\" >AUC</th>\n",
              "      <th class=\"col_heading level0 col2\" >Recall</th>\n",
              "      <th class=\"col_heading level0 col3\" >Prec.</th>\n",
              "      <th class=\"col_heading level0 col4\" >F1</th>\n",
              "      <th class=\"col_heading level0 col5\" >Kappa</th>\n",
              "      <th class=\"col_heading level0 col6\" >MCC</th>\n",
              "    </tr>\n",
              "    <tr>\n",
              "      <th class=\"index_name level0\" >Fold</th>\n",
              "      <th class=\"blank col0\" >&nbsp;</th>\n",
              "      <th class=\"blank col1\" >&nbsp;</th>\n",
              "      <th class=\"blank col2\" >&nbsp;</th>\n",
              "      <th class=\"blank col3\" >&nbsp;</th>\n",
              "      <th class=\"blank col4\" >&nbsp;</th>\n",
              "      <th class=\"blank col5\" >&nbsp;</th>\n",
              "      <th class=\"blank col6\" >&nbsp;</th>\n",
              "    </tr>\n",
              "  </thead>\n",
              "  <tbody>\n",
              "    <tr>\n",
              "      <th id=\"T_07dc0_level0_row0\" class=\"row_heading level0 row0\" >0</th>\n",
              "      <td id=\"T_07dc0_row0_col0\" class=\"data row0 col0\" >0.9565</td>\n",
              "      <td id=\"T_07dc0_row0_col1\" class=\"data row0 col1\" >0.9979</td>\n",
              "      <td id=\"T_07dc0_row0_col2\" class=\"data row0 col2\" >0.9565</td>\n",
              "      <td id=\"T_07dc0_row0_col3\" class=\"data row0 col3\" >0.9566</td>\n",
              "      <td id=\"T_07dc0_row0_col4\" class=\"data row0 col4\" >0.9564</td>\n",
              "      <td id=\"T_07dc0_row0_col5\" class=\"data row0 col5\" >0.9403</td>\n",
              "      <td id=\"T_07dc0_row0_col6\" class=\"data row0 col6\" >0.9404</td>\n",
              "    </tr>\n",
              "    <tr>\n",
              "      <th id=\"T_07dc0_level0_row1\" class=\"row_heading level0 row1\" >1</th>\n",
              "      <td id=\"T_07dc0_row1_col0\" class=\"data row1 col0\" >0.9630</td>\n",
              "      <td id=\"T_07dc0_row1_col1\" class=\"data row1 col1\" >0.9979</td>\n",
              "      <td id=\"T_07dc0_row1_col2\" class=\"data row1 col2\" >0.9630</td>\n",
              "      <td id=\"T_07dc0_row1_col3\" class=\"data row1 col3\" >0.9632</td>\n",
              "      <td id=\"T_07dc0_row1_col4\" class=\"data row1 col4\" >0.9630</td>\n",
              "      <td id=\"T_07dc0_row1_col5\" class=\"data row1 col5\" >0.9493</td>\n",
              "      <td id=\"T_07dc0_row1_col6\" class=\"data row1 col6\" >0.9494</td>\n",
              "    </tr>\n",
              "    <tr>\n",
              "      <th id=\"T_07dc0_level0_row2\" class=\"row_heading level0 row2\" >2</th>\n",
              "      <td id=\"T_07dc0_row2_col0\" class=\"data row2 col0\" >0.9553</td>\n",
              "      <td id=\"T_07dc0_row2_col1\" class=\"data row2 col1\" >0.9977</td>\n",
              "      <td id=\"T_07dc0_row2_col2\" class=\"data row2 col2\" >0.9553</td>\n",
              "      <td id=\"T_07dc0_row2_col3\" class=\"data row2 col3\" >0.9554</td>\n",
              "      <td id=\"T_07dc0_row2_col4\" class=\"data row2 col4\" >0.9553</td>\n",
              "      <td id=\"T_07dc0_row2_col5\" class=\"data row2 col5\" >0.9387</td>\n",
              "      <td id=\"T_07dc0_row2_col6\" class=\"data row2 col6\" >0.9388</td>\n",
              "    </tr>\n",
              "    <tr>\n",
              "      <th id=\"T_07dc0_level0_row3\" class=\"row_heading level0 row3\" >3</th>\n",
              "      <td id=\"T_07dc0_row3_col0\" class=\"data row3 col0\" >0.9499</td>\n",
              "      <td id=\"T_07dc0_row3_col1\" class=\"data row3 col1\" >0.9966</td>\n",
              "      <td id=\"T_07dc0_row3_col2\" class=\"data row3 col2\" >0.9499</td>\n",
              "      <td id=\"T_07dc0_row3_col3\" class=\"data row3 col3\" >0.9501</td>\n",
              "      <td id=\"T_07dc0_row3_col4\" class=\"data row3 col4\" >0.9499</td>\n",
              "      <td id=\"T_07dc0_row3_col5\" class=\"data row3 col5\" >0.9312</td>\n",
              "      <td id=\"T_07dc0_row3_col6\" class=\"data row3 col6\" >0.9313</td>\n",
              "    </tr>\n",
              "    <tr>\n",
              "      <th id=\"T_07dc0_level0_row4\" class=\"row_heading level0 row4\" >4</th>\n",
              "      <td id=\"T_07dc0_row4_col0\" class=\"data row4 col0\" >0.9641</td>\n",
              "      <td id=\"T_07dc0_row4_col1\" class=\"data row4 col1\" >0.9981</td>\n",
              "      <td id=\"T_07dc0_row4_col2\" class=\"data row4 col2\" >0.9641</td>\n",
              "      <td id=\"T_07dc0_row4_col3\" class=\"data row4 col3\" >0.9645</td>\n",
              "      <td id=\"T_07dc0_row4_col4\" class=\"data row4 col4\" >0.9641</td>\n",
              "      <td id=\"T_07dc0_row4_col5\" class=\"data row4 col5\" >0.9509</td>\n",
              "      <td id=\"T_07dc0_row4_col6\" class=\"data row4 col6\" >0.9510</td>\n",
              "    </tr>\n",
              "    <tr>\n",
              "      <th id=\"T_07dc0_level0_row5\" class=\"row_heading level0 row5\" >Mean</th>\n",
              "      <td id=\"T_07dc0_row5_col0\" class=\"data row5 col0\" >0.9578</td>\n",
              "      <td id=\"T_07dc0_row5_col1\" class=\"data row5 col1\" >0.9976</td>\n",
              "      <td id=\"T_07dc0_row5_col2\" class=\"data row5 col2\" >0.9578</td>\n",
              "      <td id=\"T_07dc0_row5_col3\" class=\"data row5 col3\" >0.9580</td>\n",
              "      <td id=\"T_07dc0_row5_col4\" class=\"data row5 col4\" >0.9577</td>\n",
              "      <td id=\"T_07dc0_row5_col5\" class=\"data row5 col5\" >0.9421</td>\n",
              "      <td id=\"T_07dc0_row5_col6\" class=\"data row5 col6\" >0.9422</td>\n",
              "    </tr>\n",
              "    <tr>\n",
              "      <th id=\"T_07dc0_level0_row6\" class=\"row_heading level0 row6\" >Std</th>\n",
              "      <td id=\"T_07dc0_row6_col0\" class=\"data row6 col0\" >0.0052</td>\n",
              "      <td id=\"T_07dc0_row6_col1\" class=\"data row6 col1\" >0.0006</td>\n",
              "      <td id=\"T_07dc0_row6_col2\" class=\"data row6 col2\" >0.0052</td>\n",
              "      <td id=\"T_07dc0_row6_col3\" class=\"data row6 col3\" >0.0053</td>\n",
              "      <td id=\"T_07dc0_row6_col4\" class=\"data row6 col4\" >0.0052</td>\n",
              "      <td id=\"T_07dc0_row6_col5\" class=\"data row6 col5\" >0.0072</td>\n",
              "      <td id=\"T_07dc0_row6_col6\" class=\"data row6 col6\" >0.0073</td>\n",
              "    </tr>\n",
              "  </tbody>\n",
              "</table>\n"
            ]
          },
          "metadata": {}
        },
        {
          "output_type": "display_data",
          "data": {
            "text/plain": [
              "Processing:   0%|          | 0/4 [00:00<?, ?it/s]"
            ],
            "application/vnd.jupyter.widget-view+json": {
              "version_major": 2,
              "version_minor": 0,
              "model_id": "11d1b5a67c78459dadc82d80b13a24b3"
            }
          },
          "metadata": {
            "application/vnd.jupyter.widget-view+json": {
              "colab": {
                "custom_widget_manager": {
                  "url": "https://ssl.gstatic.com/colaboratory-static/widgets/colab-cdn-widget-manager/b3e629b1971e1542/manager.min.js"
                }
              }
            }
          }
        },
        {
          "output_type": "display_data",
          "data": {
            "text/plain": [
              "<IPython.core.display.HTML object>"
            ],
            "text/html": []
          },
          "metadata": {}
        }
      ]
    },
    {
      "cell_type": "code",
      "source": [
        "tuned_et = tune_model(et, n_iter=10,\n",
        "                      search_library='scikit-learn',\n",
        "                      search_algorithm='random',\n",
        "                      # custom_grid={\n",
        "                      #     'n_estimators': [100, 200, 300, 400, 500],\n",
        "                      #     'max_depth': [10, 15, 20, None],\n",
        "                      #     'max_features': ['sqrt', 'log2', 0.5, 0.8]\n",
        "                      # },\n",
        "                      optimize='f1',\n",
        "                      fold=5)"
      ],
      "metadata": {
        "colab": {
          "base_uri": "https://localhost:8080/",
          "height": 335,
          "referenced_widgets": [
            "27c7acd471ea498796a5d615f0d690d2",
            "5b9c9313adbf49888ef3de59aaf61a65",
            "eae2be15a6b24252bc489b486be74f59",
            "6358f301e002427aa53159afacb7fb75",
            "a8db5a6b083749159973cf2e35dd403a",
            "525b0a37ecbe4664aa930652e8f77bca",
            "7568ad6bde2841419cca28f8cf8966ea",
            "2f789542f7b84503a43fe0a1e48b6375",
            "c922c1ec1f474797b593e4ad9794bddc",
            "09146cd3136a40b391a0ee7d3a6713c2",
            "b6555ff5262448279a0b3c4e6667ebb7"
          ]
        },
        "id": "-1IDx08_VTil",
        "outputId": "8663388b-bd19-4567-93b9-b8ad655c98cd"
      },
      "execution_count": 25,
      "outputs": [
        {
          "output_type": "display_data",
          "data": {
            "text/plain": [
              "<IPython.core.display.HTML object>"
            ],
            "text/html": []
          },
          "metadata": {}
        },
        {
          "output_type": "display_data",
          "data": {
            "text/plain": [
              "<pandas.io.formats.style.Styler at 0x7f40c9516610>"
            ],
            "text/html": [
              "<style type=\"text/css\">\n",
              "#T_6efd3_row5_col0, #T_6efd3_row5_col1, #T_6efd3_row5_col2, #T_6efd3_row5_col3, #T_6efd3_row5_col4, #T_6efd3_row5_col5, #T_6efd3_row5_col6 {\n",
              "  background: yellow;\n",
              "}\n",
              "</style>\n",
              "<table id=\"T_6efd3_\" class=\"dataframe\">\n",
              "  <thead>\n",
              "    <tr>\n",
              "      <th class=\"blank level0\" >&nbsp;</th>\n",
              "      <th class=\"col_heading level0 col0\" >Accuracy</th>\n",
              "      <th class=\"col_heading level0 col1\" >AUC</th>\n",
              "      <th class=\"col_heading level0 col2\" >Recall</th>\n",
              "      <th class=\"col_heading level0 col3\" >Prec.</th>\n",
              "      <th class=\"col_heading level0 col4\" >F1</th>\n",
              "      <th class=\"col_heading level0 col5\" >Kappa</th>\n",
              "      <th class=\"col_heading level0 col6\" >MCC</th>\n",
              "    </tr>\n",
              "    <tr>\n",
              "      <th class=\"index_name level0\" >Fold</th>\n",
              "      <th class=\"blank col0\" >&nbsp;</th>\n",
              "      <th class=\"blank col1\" >&nbsp;</th>\n",
              "      <th class=\"blank col2\" >&nbsp;</th>\n",
              "      <th class=\"blank col3\" >&nbsp;</th>\n",
              "      <th class=\"blank col4\" >&nbsp;</th>\n",
              "      <th class=\"blank col5\" >&nbsp;</th>\n",
              "      <th class=\"blank col6\" >&nbsp;</th>\n",
              "    </tr>\n",
              "  </thead>\n",
              "  <tbody>\n",
              "    <tr>\n",
              "      <th id=\"T_6efd3_level0_row0\" class=\"row_heading level0 row0\" >0</th>\n",
              "      <td id=\"T_6efd3_row0_col0\" class=\"data row0 col0\" >0.9304</td>\n",
              "      <td id=\"T_6efd3_row0_col1\" class=\"data row0 col1\" >0.9905</td>\n",
              "      <td id=\"T_6efd3_row0_col2\" class=\"data row0 col2\" >0.9304</td>\n",
              "      <td id=\"T_6efd3_row0_col3\" class=\"data row0 col3\" >0.9308</td>\n",
              "      <td id=\"T_6efd3_row0_col4\" class=\"data row0 col4\" >0.9305</td>\n",
              "      <td id=\"T_6efd3_row0_col5\" class=\"data row0 col5\" >0.9046</td>\n",
              "      <td id=\"T_6efd3_row0_col6\" class=\"data row0 col6\" >0.9047</td>\n",
              "    </tr>\n",
              "    <tr>\n",
              "      <th id=\"T_6efd3_level0_row1\" class=\"row_heading level0 row1\" >1</th>\n",
              "      <td id=\"T_6efd3_row1_col0\" class=\"data row1 col0\" >0.9391</td>\n",
              "      <td id=\"T_6efd3_row1_col1\" class=\"data row1 col1\" >0.9914</td>\n",
              "      <td id=\"T_6efd3_row1_col2\" class=\"data row1 col2\" >0.9391</td>\n",
              "      <td id=\"T_6efd3_row1_col3\" class=\"data row1 col3\" >0.9397</td>\n",
              "      <td id=\"T_6efd3_row1_col4\" class=\"data row1 col4\" >0.9392</td>\n",
              "      <td id=\"T_6efd3_row1_col5\" class=\"data row1 col5\" >0.9168</td>\n",
              "      <td id=\"T_6efd3_row1_col6\" class=\"data row1 col6\" >0.9170</td>\n",
              "    </tr>\n",
              "    <tr>\n",
              "      <th id=\"T_6efd3_level0_row2\" class=\"row_heading level0 row2\" >2</th>\n",
              "      <td id=\"T_6efd3_row2_col0\" class=\"data row2 col0\" >0.9172</td>\n",
              "      <td id=\"T_6efd3_row2_col1\" class=\"data row2 col1\" >0.9903</td>\n",
              "      <td id=\"T_6efd3_row2_col2\" class=\"data row2 col2\" >0.9172</td>\n",
              "      <td id=\"T_6efd3_row2_col3\" class=\"data row2 col3\" >0.9183</td>\n",
              "      <td id=\"T_6efd3_row2_col4\" class=\"data row2 col4\" >0.9175</td>\n",
              "      <td id=\"T_6efd3_row2_col5\" class=\"data row2 col5\" >0.8867</td>\n",
              "      <td id=\"T_6efd3_row2_col6\" class=\"data row2 col6\" >0.8869</td>\n",
              "    </tr>\n",
              "    <tr>\n",
              "      <th id=\"T_6efd3_level0_row3\" class=\"row_heading level0 row3\" >3</th>\n",
              "      <td id=\"T_6efd3_row3_col0\" class=\"data row3 col0\" >0.9357</td>\n",
              "      <td id=\"T_6efd3_row3_col1\" class=\"data row3 col1\" >0.9901</td>\n",
              "      <td id=\"T_6efd3_row3_col2\" class=\"data row3 col2\" >0.9357</td>\n",
              "      <td id=\"T_6efd3_row3_col3\" class=\"data row3 col3\" >0.9366</td>\n",
              "      <td id=\"T_6efd3_row3_col4\" class=\"data row3 col4\" >0.9358</td>\n",
              "      <td id=\"T_6efd3_row3_col5\" class=\"data row3 col5\" >0.9119</td>\n",
              "      <td id=\"T_6efd3_row3_col6\" class=\"data row3 col6\" >0.9121</td>\n",
              "    </tr>\n",
              "    <tr>\n",
              "      <th id=\"T_6efd3_level0_row4\" class=\"row_heading level0 row4\" >4</th>\n",
              "      <td id=\"T_6efd3_row4_col0\" class=\"data row4 col0\" >0.9346</td>\n",
              "      <td id=\"T_6efd3_row4_col1\" class=\"data row4 col1\" >0.9907</td>\n",
              "      <td id=\"T_6efd3_row4_col2\" class=\"data row4 col2\" >0.9346</td>\n",
              "      <td id=\"T_6efd3_row4_col3\" class=\"data row4 col3\" >0.9356</td>\n",
              "      <td id=\"T_6efd3_row4_col4\" class=\"data row4 col4\" >0.9348</td>\n",
              "      <td id=\"T_6efd3_row4_col5\" class=\"data row4 col5\" >0.9105</td>\n",
              "      <td id=\"T_6efd3_row4_col6\" class=\"data row4 col6\" >0.9108</td>\n",
              "    </tr>\n",
              "    <tr>\n",
              "      <th id=\"T_6efd3_level0_row5\" class=\"row_heading level0 row5\" >Mean</th>\n",
              "      <td id=\"T_6efd3_row5_col0\" class=\"data row5 col0\" >0.9314</td>\n",
              "      <td id=\"T_6efd3_row5_col1\" class=\"data row5 col1\" >0.9906</td>\n",
              "      <td id=\"T_6efd3_row5_col2\" class=\"data row5 col2\" >0.9314</td>\n",
              "      <td id=\"T_6efd3_row5_col3\" class=\"data row5 col3\" >0.9322</td>\n",
              "      <td id=\"T_6efd3_row5_col4\" class=\"data row5 col4\" >0.9315</td>\n",
              "      <td id=\"T_6efd3_row5_col5\" class=\"data row5 col5\" >0.9061</td>\n",
              "      <td id=\"T_6efd3_row5_col6\" class=\"data row5 col6\" >0.9063</td>\n",
              "    </tr>\n",
              "    <tr>\n",
              "      <th id=\"T_6efd3_level0_row6\" class=\"row_heading level0 row6\" >Std</th>\n",
              "      <td id=\"T_6efd3_row6_col0\" class=\"data row6 col0\" >0.0076</td>\n",
              "      <td id=\"T_6efd3_row6_col1\" class=\"data row6 col1\" >0.0004</td>\n",
              "      <td id=\"T_6efd3_row6_col2\" class=\"data row6 col2\" >0.0076</td>\n",
              "      <td id=\"T_6efd3_row6_col3\" class=\"data row6 col3\" >0.0075</td>\n",
              "      <td id=\"T_6efd3_row6_col4\" class=\"data row6 col4\" >0.0076</td>\n",
              "      <td id=\"T_6efd3_row6_col5\" class=\"data row6 col5\" >0.0105</td>\n",
              "      <td id=\"T_6efd3_row6_col6\" class=\"data row6 col6\" >0.0105</td>\n",
              "    </tr>\n",
              "  </tbody>\n",
              "</table>\n"
            ]
          },
          "metadata": {}
        },
        {
          "output_type": "display_data",
          "data": {
            "text/plain": [
              "Processing:   0%|          | 0/7 [00:00<?, ?it/s]"
            ],
            "application/vnd.jupyter.widget-view+json": {
              "version_major": 2,
              "version_minor": 0,
              "model_id": "27c7acd471ea498796a5d615f0d690d2"
            }
          },
          "metadata": {
            "application/vnd.jupyter.widget-view+json": {
              "colab": {
                "custom_widget_manager": {
                  "url": "https://ssl.gstatic.com/colaboratory-static/widgets/colab-cdn-widget-manager/b3e629b1971e1542/manager.min.js"
                }
              }
            }
          }
        },
        {
          "output_type": "stream",
          "name": "stdout",
          "text": [
            "Fitting 5 folds for each of 10 candidates, totalling 50 fits\n"
          ]
        },
        {
          "output_type": "display_data",
          "data": {
            "text/plain": [
              "<IPython.core.display.HTML object>"
            ],
            "text/html": []
          },
          "metadata": {}
        },
        {
          "output_type": "stream",
          "name": "stdout",
          "text": [
            "Original model was better than the tuned model, hence it will be returned. NOTE: The display metrics are for the tuned model (not the original one).\n"
          ]
        }
      ]
    },
    {
      "cell_type": "code",
      "source": [
        "plot_model(tuned_xgboost)"
      ],
      "metadata": {
        "id": "cwmWzWPrTfx5"
      },
      "execution_count": null,
      "outputs": []
    },
    {
      "cell_type": "code",
      "source": [
        "plot_model(et, plot='feature')"
      ],
      "metadata": {
        "colab": {
          "base_uri": "https://localhost:8080/",
          "height": 478
        },
        "id": "_W4cnKnzeutK",
        "outputId": "42b6fe5c-4d1b-4376-9c7f-e8ca6c2445ad"
      },
      "execution_count": 26,
      "outputs": [
        {
          "output_type": "display_data",
          "data": {
            "text/plain": [
              "<IPython.core.display.HTML object>"
            ],
            "text/html": []
          },
          "metadata": {}
        },
        {
          "output_type": "display_data",
          "data": {
            "text/plain": [
              "<Figure size 800x500 with 1 Axes>"
            ],
            "image/png": "[encoded data removed]"
          },
          "metadata": {
            "needs_background": "light"
          }
        }
      ]
    },
    {
      "cell_type": "code",
      "source": [
        "plot_model(tuned_rf, plot='error')"
      ],
      "metadata": {
        "id": "-_ghbArna2_G"
      },
      "execution_count": null,
      "outputs": []
    },
    {
      "cell_type": "code",
      "source": [
        "plot_model(tuned_rf, plot='confusion_matrix')"
      ],
      "metadata": {
        "id": "1NYbqq3la3Co"
      },
      "execution_count": null,
      "outputs": []
    },
    {
      "cell_type": "code",
      "source": [
        "plot_model(tuned_rf, plot='class_report')"
      ],
      "metadata": {
        "id": "xEgfx52Qa3Gz"
      },
      "execution_count": null,
      "outputs": []
    },
    {
      "cell_type": "code",
      "source": [
        "evaluate_model(tuned_rf)"
      ],
      "metadata": {
        "id": "4egVfpR8a_BN"
      },
      "execution_count": null,
      "outputs": []
    },
    {
      "cell_type": "markdown",
      "source": [
        "**DATA VISUALIZATION: GROUP ANALYSIS BASED ON IMPORTANT FEATURES**"
      ],
      "metadata": {
        "id": "KkgVmEFzDlDx"
      }
    },
    {
      "cell_type": "code",
      "source": [
        "sns.histplot(data=clustered_df, x='purchses_frequency', hue='Cluster_id')"
      ],
      "metadata": {
        "colab": {
          "base_uri": "https://localhost:8080/",
          "height": 311
        },
        "id": "-zWyBsILFXBu",
        "outputId": "e7fb84a0-5c81-4cda-8048-2c67bcc23dca"
      },
      "execution_count": 38,
      "outputs": [
        {
          "output_type": "error",
          "ename": "ValueError",
          "evalue": "ignored",
          "traceback": [
            "\u001b[0;31m---------------------------------------------------------------------------\u001b[0m",
            "\u001b[0;31mValueError\u001b[0m                                Traceback (most recent call last)",
            "\u001b[0;32m<ipython-input-38-aa0475a26b95>\u001b[0m in \u001b[0;36m<module>\u001b[0;34m\u001b[0m\n\u001b[0;32m----> 1\u001b[0;31m \u001b[0msns\u001b[0m\u001b[0;34m.\u001b[0m\u001b[0mhistplot\u001b[0m\u001b[0;34m(\u001b[0m\u001b[0mdata\u001b[0m\u001b[0;34m=\u001b[0m\u001b[0mclustered_df\u001b[0m\u001b[0;34m,\u001b[0m \u001b[0mx\u001b[0m\u001b[0;34m=\u001b[0m\u001b[0;34m'purchses_frequency'\u001b[0m\u001b[0;34m,\u001b[0m \u001b[0mhue\u001b[0m\u001b[0;34m=\u001b[0m\u001b[0;34m'Cluster_id'\u001b[0m\u001b[0;34m)\u001b[0m\u001b[0;34m\u001b[0m\u001b[0;34m\u001b[0m\u001b[0m\n\u001b[0m",
            "\u001b[0;32m/usr/local/lib/python3.9/dist-packages/seaborn/distributions.py\u001b[0m in \u001b[0;36mhistplot\u001b[0;34m(data, x, y, hue, weights, stat, bins, binwidth, binrange, discrete, cumulative, common_bins, common_norm, multiple, element, fill, shrink, kde, kde_kws, line_kws, thresh, pthresh, pmax, cbar, cbar_ax, cbar_kws, palette, hue_order, hue_norm, color, log_scale, legend, ax, **kwargs)\u001b[0m\n\u001b[1;32m   1428\u001b[0m ):\n\u001b[1;32m   1429\u001b[0m \u001b[0;34m\u001b[0m\u001b[0m\n\u001b[0;32m-> 1430\u001b[0;31m     p = _DistributionPlotter(\n\u001b[0m\u001b[1;32m   1431\u001b[0m         \u001b[0mdata\u001b[0m\u001b[0;34m=\u001b[0m\u001b[0mdata\u001b[0m\u001b[0;34m,\u001b[0m\u001b[0;34m\u001b[0m\u001b[0;34m\u001b[0m\u001b[0m\n\u001b[1;32m   1432\u001b[0m         \u001b[0mvariables\u001b[0m\u001b[0;34m=\u001b[0m\u001b[0m_DistributionPlotter\u001b[0m\u001b[0;34m.\u001b[0m\u001b[0mget_semantics\u001b[0m\u001b[0;34m(\u001b[0m\u001b[0mlocals\u001b[0m\u001b[0;34m(\u001b[0m\u001b[0;34m)\u001b[0m\u001b[0;34m)\u001b[0m\u001b[0;34m\u001b[0m\u001b[0;34m\u001b[0m\u001b[0m\n",
            "\u001b[0;32m/usr/local/lib/python3.9/dist-packages/seaborn/distributions.py\u001b[0m in \u001b[0;36m__init__\u001b[0;34m(self, data, variables)\u001b[0m\n\u001b[1;32m    109\u001b[0m     ):\n\u001b[1;32m    110\u001b[0m \u001b[0;34m\u001b[0m\u001b[0m\n\u001b[0;32m--> 111\u001b[0;31m         \u001b[0msuper\u001b[0m\u001b[0;34m(\u001b[0m\u001b[0;34m)\u001b[0m\u001b[0;34m.\u001b[0m\u001b[0m__init__\u001b[0m\u001b[0;34m(\u001b[0m\u001b[0mdata\u001b[0m\u001b[0;34m=\u001b[0m\u001b[0mdata\u001b[0m\u001b[0;34m,\u001b[0m \u001b[0mvariables\u001b[0m\u001b[0;34m=\u001b[0m\u001b[0mvariables\u001b[0m\u001b[0;34m)\u001b[0m\u001b[0;34m\u001b[0m\u001b[0;34m\u001b[0m\u001b[0m\n\u001b[0m\u001b[1;32m    112\u001b[0m \u001b[0;34m\u001b[0m\u001b[0m\n\u001b[1;32m    113\u001b[0m     \u001b[0;34m@\u001b[0m\u001b[0mproperty\u001b[0m\u001b[0;34m\u001b[0m\u001b[0;34m\u001b[0m\u001b[0m\n",
            "\u001b[0;32m/usr/local/lib/python3.9/dist-packages/seaborn/_core.py\u001b[0m in \u001b[0;36m__init__\u001b[0;34m(self, data, variables)\u001b[0m\n\u001b[1;32m    603\u001b[0m     \u001b[0;32mdef\u001b[0m \u001b[0m__init__\u001b[0m\u001b[0;34m(\u001b[0m\u001b[0mself\u001b[0m\u001b[0;34m,\u001b[0m \u001b[0mdata\u001b[0m\u001b[0;34m=\u001b[0m\u001b[0;32mNone\u001b[0m\u001b[0;34m,\u001b[0m \u001b[0mvariables\u001b[0m\u001b[0;34m=\u001b[0m\u001b[0;34m{\u001b[0m\u001b[0;34m}\u001b[0m\u001b[0;34m)\u001b[0m\u001b[0;34m:\u001b[0m\u001b[0;34m\u001b[0m\u001b[0;34m\u001b[0m\u001b[0m\n\u001b[1;32m    604\u001b[0m \u001b[0;34m\u001b[0m\u001b[0m\n\u001b[0;32m--> 605\u001b[0;31m         \u001b[0mself\u001b[0m\u001b[0;34m.\u001b[0m\u001b[0massign_variables\u001b[0m\u001b[0;34m(\u001b[0m\u001b[0mdata\u001b[0m\u001b[0;34m,\u001b[0m \u001b[0mvariables\u001b[0m\u001b[0;34m)\u001b[0m\u001b[0;34m\u001b[0m\u001b[0;34m\u001b[0m\u001b[0m\n\u001b[0m\u001b[1;32m    606\u001b[0m \u001b[0;34m\u001b[0m\u001b[0m\n\u001b[1;32m    607\u001b[0m         \u001b[0;32mfor\u001b[0m \u001b[0mvar\u001b[0m\u001b[0;34m,\u001b[0m \u001b[0mcls\u001b[0m \u001b[0;32min\u001b[0m \u001b[0mself\u001b[0m\u001b[0;34m.\u001b[0m\u001b[0m_semantic_mappings\u001b[0m\u001b[0;34m.\u001b[0m\u001b[0mitems\u001b[0m\u001b[0;34m(\u001b[0m\u001b[0;34m)\u001b[0m\u001b[0;34m:\u001b[0m\u001b[0;34m\u001b[0m\u001b[0;34m\u001b[0m\u001b[0m\n",
            "\u001b[0;32m/usr/local/lib/python3.9/dist-packages/seaborn/_core.py\u001b[0m in \u001b[0;36massign_variables\u001b[0;34m(self, data, variables)\u001b[0m\n\u001b[1;32m    666\u001b[0m         \u001b[0;32melse\u001b[0m\u001b[0;34m:\u001b[0m\u001b[0;34m\u001b[0m\u001b[0;34m\u001b[0m\u001b[0m\n\u001b[1;32m    667\u001b[0m             \u001b[0mself\u001b[0m\u001b[0;34m.\u001b[0m\u001b[0minput_format\u001b[0m \u001b[0;34m=\u001b[0m \u001b[0;34m\"long\"\u001b[0m\u001b[0;34m\u001b[0m\u001b[0;34m\u001b[0m\u001b[0m\n\u001b[0;32m--> 668\u001b[0;31m             plot_data, variables = self._assign_variables_longform(\n\u001b[0m\u001b[1;32m    669\u001b[0m                 \u001b[0mdata\u001b[0m\u001b[0;34m,\u001b[0m \u001b[0;34m**\u001b[0m\u001b[0mvariables\u001b[0m\u001b[0;34m,\u001b[0m\u001b[0;34m\u001b[0m\u001b[0;34m\u001b[0m\u001b[0m\n\u001b[1;32m    670\u001b[0m             )\n",
            "\u001b[0;32m/usr/local/lib/python3.9/dist-packages/seaborn/_core.py\u001b[0m in \u001b[0;36m_assign_variables_longform\u001b[0;34m(self, data, **kwargs)\u001b[0m\n\u001b[1;32m    901\u001b[0m \u001b[0;34m\u001b[0m\u001b[0m\n\u001b[1;32m    902\u001b[0m                 \u001b[0merr\u001b[0m \u001b[0;34m=\u001b[0m \u001b[0;34mf\"Could not interpret value `{val}` for parameter `{key}`\"\u001b[0m\u001b[0;34m\u001b[0m\u001b[0;34m\u001b[0m\u001b[0m\n\u001b[0;32m--> 903\u001b[0;31m                 \u001b[0;32mraise\u001b[0m \u001b[0mValueError\u001b[0m\u001b[0;34m(\u001b[0m\u001b[0merr\u001b[0m\u001b[0;34m)\u001b[0m\u001b[0;34m\u001b[0m\u001b[0;34m\u001b[0m\u001b[0m\n\u001b[0m\u001b[1;32m    904\u001b[0m \u001b[0;34m\u001b[0m\u001b[0m\n\u001b[1;32m    905\u001b[0m             \u001b[0;32melse\u001b[0m\u001b[0;34m:\u001b[0m\u001b[0;34m\u001b[0m\u001b[0;34m\u001b[0m\u001b[0m\n",
            "\u001b[0;31mValueError\u001b[0m: Could not interpret value `purchses_frequency` for parameter `x`"
          ]
        }
      ]
    },
    {
      "cell_type": "code",
      "source": [
        "cluster1 = clustered_df[clustered_df['Cluster_id']==0]\n",
        "cluster2 = clustered_df[clustered_df['Cluster_id']==1]\n",
        "cluster3 = clustered_df[clustered_df['Cluster_id']==2]\n",
        "cluster4 = clustered_df[clustered_df['Cluster_id']==3]"
      ],
      "metadata": {
        "id": "Yg8LX5IS8pAf"
      },
      "execution_count": 32,
      "outputs": []
    },
    {
      "cell_type": "code",
      "source": [
        "\n",
        "plt.figure(figsize=(8,6))\n",
        "plt.hist(cluster1[['purchases_frequency', 'balance_frequency_update']], bins=100, alpha=0.5, label=\"group1\")\n",
        "plt.hist(cluster2[['purchases_frequency', 'balance_frequency_update']], bins=100, alpha=0.5, label=\"group2\")\n",
        "plt.show();\n"
      ],
      "metadata": {
        "colab": {
          "base_uri": "https://localhost:8080/",
          "height": 374
        },
        "id": "xaOX9CLtvRfC",
        "outputId": "79c809f6-235f-40e8-ddb0-437b2415c3cf"
      },
      "execution_count": 37,
      "outputs": [
        {
          "output_type": "display_data",
          "data": {
            "text/plain": [
              "<Figure size 576x432 with 1 Axes>"
            ],
            "image/png": "[encoded data removed]"
          },
          "metadata": {
            "needs_background": "light"
          }
        }
      ]
    },
    {
      "cell_type": "code",
      "source": [],
      "metadata": {
        "id": "Gbr2lrJ2bCZd"
      },
      "execution_count": null,
      "outputs": []
    }
  ]
}